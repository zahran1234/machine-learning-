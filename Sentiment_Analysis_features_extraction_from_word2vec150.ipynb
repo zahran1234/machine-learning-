{
  "cells": [
    {
      "cell_type": "markdown",
      "metadata": {
        "id": "view-in-github",
        "colab_type": "text"
      },
      "source": [
        "<a href=\"https://colab.research.google.com/github/zahran1234/machine-learning-/blob/main/Sentiment_Analysis_features_extraction_from_word2vec150.ipynb\" target=\"_parent\"><img src=\"https://colab.research.google.com/assets/colab-badge.svg\" alt=\"Open In Colab\"/></a>"
      ]
    },
    {
      "cell_type": "code",
      "execution_count": 57,
      "id": "b15e44fe",
      "metadata": {
        "colab": {
          "base_uri": "https://localhost:8080/"
        },
        "id": "b15e44fe",
        "outputId": "8217ac14-397e-4d6d-9baf-41726518d365"
      },
      "outputs": [
        {
          "output_type": "stream",
          "name": "stdout",
          "text": [
            "Looking in indexes: https://pypi.org/simple, https://us-python.pkg.dev/colab-wheels/public/simple/\n",
            "Requirement already satisfied: plotly in /usr/local/lib/python3.8/dist-packages (5.5.0)\n",
            "Requirement already satisfied: six in /usr/local/lib/python3.8/dist-packages (from plotly) (1.15.0)\n",
            "Requirement already satisfied: tenacity>=6.2.0 in /usr/local/lib/python3.8/dist-packages (from plotly) (8.1.0)\n"
          ]
        },
        {
          "output_type": "stream",
          "name": "stderr",
          "text": [
            "[nltk_data] Downloading package punkt to /root/nltk_data...\n",
            "[nltk_data]   Package punkt is already up-to-date!\n",
            "[nltk_data] Downloading package stopwords to /root/nltk_data...\n",
            "[nltk_data]   Package stopwords is already up-to-date!\n"
          ]
        }
      ],
      "source": [
        "!pip install plotly\n",
        "import pandas as pd\n",
        "import numpy as np\n",
        "import matplotlib.pyplot as plt \n",
        "import plotly.express as px\n",
        "from scipy import stats\n",
        "from sklearn.metrics import confusion_matrix,mean_squared_error,precision_score,recall_score,f1_score ,classification_report\n",
        "from sklearn import metrics\n",
        "from sklearn.tree import DecisionTreeClassifier\n",
        "from sklearn.ensemble import RandomForestClassifier , GradientBoostingClassifier\n",
        "from sklearn.model_selection import cross_val_score, GridSearchCV\n",
        "import seaborn as sns\n",
        "from sklearn.feature_extraction.text import TfidfVectorizer\n",
        "import string\n",
        "from gensim.models import Word2Vec\n",
        "import tensorflow as tf\n",
        "from keras.utils import to_categorical\n",
        "from tensorflow.keras.layers import Dense, Flatten\n",
        "from tensorflow.keras.models import Sequential\n",
        "import nltk\n",
        "nltk.download('punkt')\n",
        "nltk.download('stopwords')\n",
        "import re\n",
        "from nltk.stem import ARLSTem\n",
        "from nltk.corpus import stopwords\n",
        "from nltk.stem.porter import PorterStemmer\n",
        "from nltk.tokenize import word_tokenize\n",
        "from keras.utils import to_categorical\n",
        "\n"
      ]
    },
    {
      "cell_type": "code",
      "execution_count": 55,
      "id": "44612d1b",
      "metadata": {
        "id": "44612d1b"
      },
      "outputs": [],
      "source": [
        "df= pd.read_excel('/content/original_dataset.xlsx')"
      ]
    },
    {
      "cell_type": "code",
      "execution_count": 56,
      "id": "8f48b6cb",
      "metadata": {
        "id": "8f48b6cb"
      },
      "outputs": [],
      "source": [
        "df=pd.DataFrame(df)"
      ]
    },
    {
      "cell_type": "code",
      "source": [
        "df.head()"
      ],
      "metadata": {
        "colab": {
          "base_uri": "https://localhost:8080/",
          "height": 206
        },
        "id": "ciKaUn-IcIBY",
        "outputId": "bd3e442e-8d58-48a2-fa62-8c719af40d4e"
      },
      "id": "ciKaUn-IcIBY",
      "execution_count": 58,
      "outputs": [
        {
          "output_type": "execute_result",
          "data": {
            "text/plain": [
              "   Unnamed: 0                                 review_description  rating  \\\n",
              "0           0                         سيئ جدا بعد الإصدار الجديد      -1   \n",
              "1           1                                  ابلكيشن زباله بجد      -1   \n",
              "2           2                                 سيئ التطبيق لايعمل      -1   \n",
              "3           3  للأسف التطبيق للأسوأ كان جدا رائع وسهل وبسيط ا...      -1   \n",
              "4           4                     التحديث بطيئ جدا جدا عند الفتح      -1   \n",
              "\n",
              "       company  \n",
              "0  alahli_bank  \n",
              "1  alahli_bank  \n",
              "2  alahli_bank  \n",
              "3  alahli_bank  \n",
              "4  alahli_bank  "
            ],
            "text/html": [
              "\n",
              "  <div id=\"df-cd08fe4f-79ed-4d28-913a-40a8ec449964\">\n",
              "    <div class=\"colab-df-container\">\n",
              "      <div>\n",
              "<style scoped>\n",
              "    .dataframe tbody tr th:only-of-type {\n",
              "        vertical-align: middle;\n",
              "    }\n",
              "\n",
              "    .dataframe tbody tr th {\n",
              "        vertical-align: top;\n",
              "    }\n",
              "\n",
              "    .dataframe thead th {\n",
              "        text-align: right;\n",
              "    }\n",
              "</style>\n",
              "<table border=\"1\" class=\"dataframe\">\n",
              "  <thead>\n",
              "    <tr style=\"text-align: right;\">\n",
              "      <th></th>\n",
              "      <th>Unnamed: 0</th>\n",
              "      <th>review_description</th>\n",
              "      <th>rating</th>\n",
              "      <th>company</th>\n",
              "    </tr>\n",
              "  </thead>\n",
              "  <tbody>\n",
              "    <tr>\n",
              "      <th>0</th>\n",
              "      <td>0</td>\n",
              "      <td>سيئ جدا بعد الإصدار الجديد</td>\n",
              "      <td>-1</td>\n",
              "      <td>alahli_bank</td>\n",
              "    </tr>\n",
              "    <tr>\n",
              "      <th>1</th>\n",
              "      <td>1</td>\n",
              "      <td>ابلكيشن زباله بجد</td>\n",
              "      <td>-1</td>\n",
              "      <td>alahli_bank</td>\n",
              "    </tr>\n",
              "    <tr>\n",
              "      <th>2</th>\n",
              "      <td>2</td>\n",
              "      <td>سيئ التطبيق لايعمل</td>\n",
              "      <td>-1</td>\n",
              "      <td>alahli_bank</td>\n",
              "    </tr>\n",
              "    <tr>\n",
              "      <th>3</th>\n",
              "      <td>3</td>\n",
              "      <td>للأسف التطبيق للأسوأ كان جدا رائع وسهل وبسيط ا...</td>\n",
              "      <td>-1</td>\n",
              "      <td>alahli_bank</td>\n",
              "    </tr>\n",
              "    <tr>\n",
              "      <th>4</th>\n",
              "      <td>4</td>\n",
              "      <td>التحديث بطيئ جدا جدا عند الفتح</td>\n",
              "      <td>-1</td>\n",
              "      <td>alahli_bank</td>\n",
              "    </tr>\n",
              "  </tbody>\n",
              "</table>\n",
              "</div>\n",
              "      <button class=\"colab-df-convert\" onclick=\"convertToInteractive('df-cd08fe4f-79ed-4d28-913a-40a8ec449964')\"\n",
              "              title=\"Convert this dataframe to an interactive table.\"\n",
              "              style=\"display:none;\">\n",
              "        \n",
              "  <svg xmlns=\"http://www.w3.org/2000/svg\" height=\"24px\"viewBox=\"0 0 24 24\"\n",
              "       width=\"24px\">\n",
              "    <path d=\"M0 0h24v24H0V0z\" fill=\"none\"/>\n",
              "    <path d=\"M18.56 5.44l.94 2.06.94-2.06 2.06-.94-2.06-.94-.94-2.06-.94 2.06-2.06.94zm-11 1L8.5 8.5l.94-2.06 2.06-.94-2.06-.94L8.5 2.5l-.94 2.06-2.06.94zm10 10l.94 2.06.94-2.06 2.06-.94-2.06-.94-.94-2.06-.94 2.06-2.06.94z\"/><path d=\"M17.41 7.96l-1.37-1.37c-.4-.4-.92-.59-1.43-.59-.52 0-1.04.2-1.43.59L10.3 9.45l-7.72 7.72c-.78.78-.78 2.05 0 2.83L4 21.41c.39.39.9.59 1.41.59.51 0 1.02-.2 1.41-.59l7.78-7.78 2.81-2.81c.8-.78.8-2.07 0-2.86zM5.41 20L4 18.59l7.72-7.72 1.47 1.35L5.41 20z\"/>\n",
              "  </svg>\n",
              "      </button>\n",
              "      \n",
              "  <style>\n",
              "    .colab-df-container {\n",
              "      display:flex;\n",
              "      flex-wrap:wrap;\n",
              "      gap: 12px;\n",
              "    }\n",
              "\n",
              "    .colab-df-convert {\n",
              "      background-color: #E8F0FE;\n",
              "      border: none;\n",
              "      border-radius: 50%;\n",
              "      cursor: pointer;\n",
              "      display: none;\n",
              "      fill: #1967D2;\n",
              "      height: 32px;\n",
              "      padding: 0 0 0 0;\n",
              "      width: 32px;\n",
              "    }\n",
              "\n",
              "    .colab-df-convert:hover {\n",
              "      background-color: #E2EBFA;\n",
              "      box-shadow: 0px 1px 2px rgba(60, 64, 67, 0.3), 0px 1px 3px 1px rgba(60, 64, 67, 0.15);\n",
              "      fill: #174EA6;\n",
              "    }\n",
              "\n",
              "    [theme=dark] .colab-df-convert {\n",
              "      background-color: #3B4455;\n",
              "      fill: #D2E3FC;\n",
              "    }\n",
              "\n",
              "    [theme=dark] .colab-df-convert:hover {\n",
              "      background-color: #434B5C;\n",
              "      box-shadow: 0px 1px 3px 1px rgba(0, 0, 0, 0.15);\n",
              "      filter: drop-shadow(0px 1px 2px rgba(0, 0, 0, 0.3));\n",
              "      fill: #FFFFFF;\n",
              "    }\n",
              "  </style>\n",
              "\n",
              "      <script>\n",
              "        const buttonEl =\n",
              "          document.querySelector('#df-cd08fe4f-79ed-4d28-913a-40a8ec449964 button.colab-df-convert');\n",
              "        buttonEl.style.display =\n",
              "          google.colab.kernel.accessAllowed ? 'block' : 'none';\n",
              "\n",
              "        async function convertToInteractive(key) {\n",
              "          const element = document.querySelector('#df-cd08fe4f-79ed-4d28-913a-40a8ec449964');\n",
              "          const dataTable =\n",
              "            await google.colab.kernel.invokeFunction('convertToInteractive',\n",
              "                                                     [key], {});\n",
              "          if (!dataTable) return;\n",
              "\n",
              "          const docLinkHtml = 'Like what you see? Visit the ' +\n",
              "            '<a target=\"_blank\" href=https://colab.research.google.com/notebooks/data_table.ipynb>data table notebook</a>'\n",
              "            + ' to learn more about interactive tables.';\n",
              "          element.innerHTML = '';\n",
              "          dataTable['output_type'] = 'display_data';\n",
              "          await google.colab.output.renderOutput(dataTable, element);\n",
              "          const docLink = document.createElement('div');\n",
              "          docLink.innerHTML = docLinkHtml;\n",
              "          element.appendChild(docLink);\n",
              "        }\n",
              "      </script>\n",
              "    </div>\n",
              "  </div>\n",
              "  "
            ]
          },
          "metadata": {},
          "execution_count": 58
        }
      ]
    },
    {
      "cell_type": "code",
      "execution_count": 59,
      "id": "e38942ba",
      "metadata": {
        "id": "e38942ba",
        "colab": {
          "base_uri": "https://localhost:8080/"
        },
        "outputId": "010b21ae-d8ba-49f0-89a8-0ea07493ebfb"
      },
      "outputs": [
        {
          "output_type": "stream",
          "name": "stdout",
          "text": [
            "(67127, 4)\n",
            "(67125, 4)\n"
          ]
        }
      ],
      "source": [
        "print(df.shape)\n",
        "df=df.dropna()\n",
        "df=df.drop_duplicates()\n",
        "print(df.shape)"
      ]
    },
    {
      "cell_type": "markdown",
      "source": [
        "# **data visualization**"
      ],
      "metadata": {
        "id": "TyjYupuzcuhz"
      },
      "id": "TyjYupuzcuhz"
    },
    {
      "cell_type": "code",
      "execution_count": 60,
      "id": "1555b323",
      "metadata": {
        "id": "1555b323",
        "colab": {
          "base_uri": "https://localhost:8080/",
          "height": 346
        },
        "outputId": "71f04a34-c6c0-4ade-e87d-21d1da95ca2f"
      },
      "outputs": [
        {
          "output_type": "execute_result",
          "data": {
            "text/plain": [
              "<matplotlib.axes._subplots.AxesSubplot at 0x7f60781c9970>"
            ]
          },
          "metadata": {},
          "execution_count": 60
        },
        {
          "output_type": "display_data",
          "data": {
            "text/plain": [
              "<Figure size 432x288 with 1 Axes>"
            ],
            "image/png": "[encoded data removed]"
          },
          "metadata": {
            "needs_background": "light"
          }
        }
      ],
      "source": [
        "df.company.value_counts().plot(kind='bar')"
      ]
    },
    {
      "cell_type": "code",
      "source": [
        "fig = px.sunburst(df, path=['rating'],title= ' rating')\n",
        "fig.update_traces(textinfo='label + percent parent')"
      ],
      "metadata": {
        "id": "4FUR3q51DYyo",
        "colab": {
          "base_uri": "https://localhost:8080/",
          "height": 542
        },
        "outputId": "2dee20d1-8f68-4ee2-ff80-16b0129f9baa"
      },
      "id": "4FUR3q51DYyo",
      "execution_count": 61,
      "outputs": [
        {
          "output_type": "display_data",
          "data": {
            "text/html": [
              "<html>\n",
              "<head><meta charset=\"utf-8\" /></head>\n",
              "<body>\n",
              "    <div>            <script src=\"https://cdnjs.cloudflare.com/ajax/libs/mathjax/2.7.5/MathJax.js?config=TeX-AMS-MML_SVG\"></script><script type=\"text/javascript\">if (window.MathJax) {MathJax.Hub.Config({SVG: {font: \"STIX-Web\"}});}</script>                <script type=\"text/javascript\">window.PlotlyConfig = {MathJaxConfig: 'local'};</script>\n",
              "        <script src=\"https://cdn.plot.ly/plotly-2.8.3.min.js\"></script>                <div id=\"b4e46b60-dae9-4106-ae7b-7894bad91385\" class=\"plotly-graph-div\" style=\"height:525px; width:100%;\"></div>            <script type=\"text/javascript\">                                    window.PLOTLYENV=window.PLOTLYENV || {};                                    if (document.getElementById(\"b4e46b60-dae9-4106-ae7b-7894bad91385\")) {                    Plotly.newPlot(                        \"b4e46b60-dae9-4106-ae7b-7894bad91385\",                        [{\"branchvalues\":\"total\",\"domain\":{\"x\":[0.0,1.0],\"y\":[0.0,1.0]},\"hovertemplate\":\"labels=%{label}<br>count=%{value}<br>parent=%{parent}<br>id=%{id}<extra></extra>\",\"ids\":[\"-1\",\"0\",\"1\"],\"labels\":[\"-1\",\"0\",\"1\"],\"name\":\"\",\"parents\":[\"\",\"\",\"\"],\"values\":[23035,23751,20339],\"type\":\"sunburst\",\"textinfo\":\"label+percent parent\"}],                        {\"template\":{\"data\":{\"bar\":[{\"error_x\":{\"color\":\"#2a3f5f\"},\"error_y\":{\"color\":\"#2a3f5f\"},\"marker\":{\"line\":{\"color\":\"#E5ECF6\",\"width\":0.5},\"pattern\":{\"fillmode\":\"overlay\",\"size\":10,\"solidity\":0.2}},\"type\":\"bar\"}],\"barpolar\":[{\"marker\":{\"line\":{\"color\":\"#E5ECF6\",\"width\":0.5},\"pattern\":{\"fillmode\":\"overlay\",\"size\":10,\"solidity\":0.2}},\"type\":\"barpolar\"}],\"carpet\":[{\"aaxis\":{\"endlinecolor\":\"#2a3f5f\",\"gridcolor\":\"white\",\"linecolor\":\"white\",\"minorgridcolor\":\"white\",\"startlinecolor\":\"#2a3f5f\"},\"baxis\":{\"endlinecolor\":\"#2a3f5f\",\"gridcolor\":\"white\",\"linecolor\":\"white\",\"minorgridcolor\":\"white\",\"startlinecolor\":\"#2a3f5f\"},\"type\":\"carpet\"}],\"choropleth\":[{\"colorbar\":{\"outlinewidth\":0,\"ticks\":\"\"},\"type\":\"choropleth\"}],\"contour\":[{\"colorbar\":{\"outlinewidth\":0,\"ticks\":\"\"},\"colorscale\":[[0.0,\"#0d0887\"],[0.1111111111111111,\"#46039f\"],[0.2222222222222222,\"#7201a8\"],[0.3333333333333333,\"#9c179e\"],[0.4444444444444444,\"#bd3786\"],[0.5555555555555556,\"#d8576b\"],[0.6666666666666666,\"#ed7953\"],[0.7777777777777778,\"#fb9f3a\"],[0.8888888888888888,\"#fdca26\"],[1.0,\"#f0f921\"]],\"type\":\"contour\"}],\"contourcarpet\":[{\"colorbar\":{\"outlinewidth\":0,\"ticks\":\"\"},\"type\":\"contourcarpet\"}],\"heatmap\":[{\"colorbar\":{\"outlinewidth\":0,\"ticks\":\"\"},\"colorscale\":[[0.0,\"#0d0887\"],[0.1111111111111111,\"#46039f\"],[0.2222222222222222,\"#7201a8\"],[0.3333333333333333,\"#9c179e\"],[0.4444444444444444,\"#bd3786\"],[0.5555555555555556,\"#d8576b\"],[0.6666666666666666,\"#ed7953\"],[0.7777777777777778,\"#fb9f3a\"],[0.8888888888888888,\"#fdca26\"],[1.0,\"#f0f921\"]],\"type\":\"heatmap\"}],\"heatmapgl\":[{\"colorbar\":{\"outlinewidth\":0,\"ticks\":\"\"},\"colorscale\":[[0.0,\"#0d0887\"],[0.1111111111111111,\"#46039f\"],[0.2222222222222222,\"#7201a8\"],[0.3333333333333333,\"#9c179e\"],[0.4444444444444444,\"#bd3786\"],[0.5555555555555556,\"#d8576b\"],[0.6666666666666666,\"#ed7953\"],[0.7777777777777778,\"#fb9f3a\"],[0.8888888888888888,\"#fdca26\"],[1.0,\"#f0f921\"]],\"type\":\"heatmapgl\"}],\"histogram\":[{\"marker\":{\"pattern\":{\"fillmode\":\"overlay\",\"size\":10,\"solidity\":0.2}},\"type\":\"histogram\"}],\"histogram2d\":[{\"colorbar\":{\"outlinewidth\":0,\"ticks\":\"\"},\"colorscale\":[[0.0,\"#0d0887\"],[0.1111111111111111,\"#46039f\"],[0.2222222222222222,\"#7201a8\"],[0.3333333333333333,\"#9c179e\"],[0.4444444444444444,\"#bd3786\"],[0.5555555555555556,\"#d8576b\"],[0.6666666666666666,\"#ed7953\"],[0.7777777777777778,\"#fb9f3a\"],[0.8888888888888888,\"#fdca26\"],[1.0,\"#f0f921\"]],\"type\":\"histogram2d\"}],\"histogram2dcontour\":[{\"colorbar\":{\"outlinewidth\":0,\"ticks\":\"\"},\"colorscale\":[[0.0,\"#0d0887\"],[0.1111111111111111,\"#46039f\"],[0.2222222222222222,\"#7201a8\"],[0.3333333333333333,\"#9c179e\"],[0.4444444444444444,\"#bd3786\"],[0.5555555555555556,\"#d8576b\"],[0.6666666666666666,\"#ed7953\"],[0.7777777777777778,\"#fb9f3a\"],[0.8888888888888888,\"#fdca26\"],[1.0,\"#f0f921\"]],\"type\":\"histogram2dcontour\"}],\"mesh3d\":[{\"colorbar\":{\"outlinewidth\":0,\"ticks\":\"\"},\"type\":\"mesh3d\"}],\"parcoords\":[{\"line\":{\"colorbar\":{\"outlinewidth\":0,\"ticks\":\"\"}},\"type\":\"parcoords\"}],\"pie\":[{\"automargin\":true,\"type\":\"pie\"}],\"scatter\":[{\"marker\":{\"colorbar\":{\"outlinewidth\":0,\"ticks\":\"\"}},\"type\":\"scatter\"}],\"scatter3d\":[{\"line\":{\"colorbar\":{\"outlinewidth\":0,\"ticks\":\"\"}},\"marker\":{\"colorbar\":{\"outlinewidth\":0,\"ticks\":\"\"}},\"type\":\"scatter3d\"}],\"scattercarpet\":[{\"marker\":{\"colorbar\":{\"outlinewidth\":0,\"ticks\":\"\"}},\"type\":\"scattercarpet\"}],\"scattergeo\":[{\"marker\":{\"colorbar\":{\"outlinewidth\":0,\"ticks\":\"\"}},\"type\":\"scattergeo\"}],\"scattergl\":[{\"marker\":{\"colorbar\":{\"outlinewidth\":0,\"ticks\":\"\"}},\"type\":\"scattergl\"}],\"scattermapbox\":[{\"marker\":{\"colorbar\":{\"outlinewidth\":0,\"ticks\":\"\"}},\"type\":\"scattermapbox\"}],\"scatterpolar\":[{\"marker\":{\"colorbar\":{\"outlinewidth\":0,\"ticks\":\"\"}},\"type\":\"scatterpolar\"}],\"scatterpolargl\":[{\"marker\":{\"colorbar\":{\"outlinewidth\":0,\"ticks\":\"\"}},\"type\":\"scatterpolargl\"}],\"scatterternary\":[{\"marker\":{\"colorbar\":{\"outlinewidth\":0,\"ticks\":\"\"}},\"type\":\"scatterternary\"}],\"surface\":[{\"colorbar\":{\"outlinewidth\":0,\"ticks\":\"\"},\"colorscale\":[[0.0,\"#0d0887\"],[0.1111111111111111,\"#46039f\"],[0.2222222222222222,\"#7201a8\"],[0.3333333333333333,\"#9c179e\"],[0.4444444444444444,\"#bd3786\"],[0.5555555555555556,\"#d8576b\"],[0.6666666666666666,\"#ed7953\"],[0.7777777777777778,\"#fb9f3a\"],[0.8888888888888888,\"#fdca26\"],[1.0,\"#f0f921\"]],\"type\":\"surface\"}],\"table\":[{\"cells\":{\"fill\":{\"color\":\"#EBF0F8\"},\"line\":{\"color\":\"white\"}},\"header\":{\"fill\":{\"color\":\"#C8D4E3\"},\"line\":{\"color\":\"white\"}},\"type\":\"table\"}]},\"layout\":{\"annotationdefaults\":{\"arrowcolor\":\"#2a3f5f\",\"arrowhead\":0,\"arrowwidth\":1},\"autotypenumbers\":\"strict\",\"coloraxis\":{\"colorbar\":{\"outlinewidth\":0,\"ticks\":\"\"}},\"colorscale\":{\"diverging\":[[0,\"#8e0152\"],[0.1,\"#c51b7d\"],[0.2,\"#de77ae\"],[0.3,\"#f1b6da\"],[0.4,\"#fde0ef\"],[0.5,\"#f7f7f7\"],[0.6,\"#e6f5d0\"],[0.7,\"#b8e186\"],[0.8,\"#7fbc41\"],[0.9,\"#4d9221\"],[1,\"#276419\"]],\"sequential\":[[0.0,\"#0d0887\"],[0.1111111111111111,\"#46039f\"],[0.2222222222222222,\"#7201a8\"],[0.3333333333333333,\"#9c179e\"],[0.4444444444444444,\"#bd3786\"],[0.5555555555555556,\"#d8576b\"],[0.6666666666666666,\"#ed7953\"],[0.7777777777777778,\"#fb9f3a\"],[0.8888888888888888,\"#fdca26\"],[1.0,\"#f0f921\"]],\"sequentialminus\":[[0.0,\"#0d0887\"],[0.1111111111111111,\"#46039f\"],[0.2222222222222222,\"#7201a8\"],[0.3333333333333333,\"#9c179e\"],[0.4444444444444444,\"#bd3786\"],[0.5555555555555556,\"#d8576b\"],[0.6666666666666666,\"#ed7953\"],[0.7777777777777778,\"#fb9f3a\"],[0.8888888888888888,\"#fdca26\"],[1.0,\"#f0f921\"]]},\"colorway\":[\"#636efa\",\"#EF553B\",\"#00cc96\",\"#ab63fa\",\"#FFA15A\",\"#19d3f3\",\"#FF6692\",\"#B6E880\",\"#FF97FF\",\"#FECB52\"],\"font\":{\"color\":\"#2a3f5f\"},\"geo\":{\"bgcolor\":\"white\",\"lakecolor\":\"white\",\"landcolor\":\"#E5ECF6\",\"showlakes\":true,\"showland\":true,\"subunitcolor\":\"white\"},\"hoverlabel\":{\"align\":\"left\"},\"hovermode\":\"closest\",\"mapbox\":{\"style\":\"light\"},\"paper_bgcolor\":\"white\",\"plot_bgcolor\":\"#E5ECF6\",\"polar\":{\"angularaxis\":{\"gridcolor\":\"white\",\"linecolor\":\"white\",\"ticks\":\"\"},\"bgcolor\":\"#E5ECF6\",\"radialaxis\":{\"gridcolor\":\"white\",\"linecolor\":\"white\",\"ticks\":\"\"}},\"scene\":{\"xaxis\":{\"backgroundcolor\":\"#E5ECF6\",\"gridcolor\":\"white\",\"gridwidth\":2,\"linecolor\":\"white\",\"showbackground\":true,\"ticks\":\"\",\"zerolinecolor\":\"white\"},\"yaxis\":{\"backgroundcolor\":\"#E5ECF6\",\"gridcolor\":\"white\",\"gridwidth\":2,\"linecolor\":\"white\",\"showbackground\":true,\"ticks\":\"\",\"zerolinecolor\":\"white\"},\"zaxis\":{\"backgroundcolor\":\"#E5ECF6\",\"gridcolor\":\"white\",\"gridwidth\":2,\"linecolor\":\"white\",\"showbackground\":true,\"ticks\":\"\",\"zerolinecolor\":\"white\"}},\"shapedefaults\":{\"line\":{\"color\":\"#2a3f5f\"}},\"ternary\":{\"aaxis\":{\"gridcolor\":\"white\",\"linecolor\":\"white\",\"ticks\":\"\"},\"baxis\":{\"gridcolor\":\"white\",\"linecolor\":\"white\",\"ticks\":\"\"},\"bgcolor\":\"#E5ECF6\",\"caxis\":{\"gridcolor\":\"white\",\"linecolor\":\"white\",\"ticks\":\"\"}},\"title\":{\"x\":0.05},\"xaxis\":{\"automargin\":true,\"gridcolor\":\"white\",\"linecolor\":\"white\",\"ticks\":\"\",\"title\":{\"standoff\":15},\"zerolinecolor\":\"white\",\"zerolinewidth\":2},\"yaxis\":{\"automargin\":true,\"gridcolor\":\"white\",\"linecolor\":\"white\",\"ticks\":\"\",\"title\":{\"standoff\":15},\"zerolinecolor\":\"white\",\"zerolinewidth\":2}}},\"legend\":{\"tracegroupgap\":0},\"title\":{\"text\":\" rating\"}},                        {\"responsive\": true}                    ).then(function(){\n",
              "                            \n",
              "var gd = document.getElementById('b4e46b60-dae9-4106-ae7b-7894bad91385');\n",
              "var x = new MutationObserver(function (mutations, observer) {{\n",
              "        var display = window.getComputedStyle(gd).display;\n",
              "        if (!display || display === 'none') {{\n",
              "            console.log([gd, 'removed!']);\n",
              "            Plotly.purge(gd);\n",
              "            observer.disconnect();\n",
              "        }}\n",
              "}});\n",
              "\n",
              "// Listen for the removal of the full notebook cells\n",
              "var notebookContainer = gd.closest('#notebook-container');\n",
              "if (notebookContainer) {{\n",
              "    x.observe(notebookContainer, {childList: true});\n",
              "}}\n",
              "\n",
              "// Listen for the clearing of the current output cell\n",
              "var outputEl = gd.closest('.output');\n",
              "if (outputEl) {{\n",
              "    x.observe(outputEl, {childList: true});\n",
              "}}\n",
              "\n",
              "                        })                };                            </script>        </div>\n",
              "</body>\n",
              "</html>"
            ]
          },
          "metadata": {}
        }
      ]
    },
    {
      "cell_type": "code",
      "source": [
        "sns.countplot(df.rating)"
      ],
      "metadata": {
        "id": "sTBcPpW8Dqzf",
        "colab": {
          "base_uri": "https://localhost:8080/",
          "height": 386
        },
        "outputId": "136e5d58-bd4a-4e31-9f04-6b91a9c327a8"
      },
      "id": "sTBcPpW8Dqzf",
      "execution_count": 62,
      "outputs": [
        {
          "output_type": "stream",
          "name": "stderr",
          "text": [
            "/usr/local/lib/python3.8/dist-packages/seaborn/_decorators.py:36: FutureWarning:\n",
            "\n",
            "Pass the following variable as a keyword arg: x. From version 0.12, the only valid positional argument will be `data`, and passing other arguments without an explicit keyword will result in an error or misinterpretation.\n",
            "\n"
          ]
        },
        {
          "output_type": "execute_result",
          "data": {
            "text/plain": [
              "<matplotlib.axes._subplots.AxesSubplot at 0x7f60dcc94460>"
            ]
          },
          "metadata": {},
          "execution_count": 62
        },
        {
          "output_type": "display_data",
          "data": {
            "text/plain": [
              "<Figure size 432x288 with 1 Axes>"
            ],
            "image/png": "[encoded data removed]"
          },
          "metadata": {
            "needs_background": "light"
          }
        }
      ]
    },
    {
      "cell_type": "code",
      "execution_count": 63,
      "metadata": {
        "id": "G0pi9YWdDab1",
        "colab": {
          "base_uri": "https://localhost:8080/",
          "height": 542
        },
        "outputId": "d3e60cd3-5f7d-4ef0-cc4e-278d362c93ed"
      },
      "outputs": [
        {
          "output_type": "display_data",
          "data": {
            "text/html": [
              "<html>\n",
              "<head><meta charset=\"utf-8\" /></head>\n",
              "<body>\n",
              "    <div>            <script src=\"https://cdnjs.cloudflare.com/ajax/libs/mathjax/2.7.5/MathJax.js?config=TeX-AMS-MML_SVG\"></script><script type=\"text/javascript\">if (window.MathJax) {MathJax.Hub.Config({SVG: {font: \"STIX-Web\"}});}</script>                <script type=\"text/javascript\">window.PlotlyConfig = {MathJaxConfig: 'local'};</script>\n",
              "        <script src=\"https://cdn.plot.ly/plotly-2.8.3.min.js\"></script>                <div id=\"8c5e1037-ba70-4a58-b2f8-fa0d86a5635f\" class=\"plotly-graph-div\" style=\"height:525px; width:100%;\"></div>            <script type=\"text/javascript\">                                    window.PLOTLYENV=window.PLOTLYENV || {};                                    if (document.getElementById(\"8c5e1037-ba70-4a58-b2f8-fa0d86a5635f\")) {                    Plotly.newPlot(                        \"8c5e1037-ba70-4a58-b2f8-fa0d86a5635f\",                        [{\"branchvalues\":\"total\",\"domain\":{\"x\":[0.0,1.0],\"y\":[0.0,1.0]},\"hovertemplate\":\"labels=%{label}<br>count=%{value}<br>parent=%{parent}<br>id=%{id}<extra></extra>\",\"ids\":[\"Raya/-1\",\"alahli_bank/-1\",\"hilton/-1\",\"swvl/-1\",\"talbat/-1\",\"telecom_egypt/-1\",\"venus/-1\",\"Raya/0\",\"alahli_bank/0\",\"hilton/0\",\"hotels/0\",\"swvl/0\",\"talbat/0\",\"telecom_egypt/0\",\"venus/0\",\"Raya/1\",\"alahli_bank/1\",\"hilton/1\",\"swvl/1\",\"talbat/1\",\"telecom_egypt/1\",\"venus/1\",\"Raya\",\"alahli_bank\",\"hilton\",\"hotels\",\"swvl\",\"talbat\",\"telecom_egypt\",\"venus\"],\"labels\":[\"-1\",\"-1\",\"-1\",\"-1\",\"-1\",\"-1\",\"-1\",\"0\",\"0\",\"0\",\"0\",\"0\",\"0\",\"0\",\"0\",\"1\",\"1\",\"1\",\"1\",\"1\",\"1\",\"1\",\"Raya\",\"alahli_bank\",\"hilton\",\"hotels\",\"swvl\",\"talbat\",\"telecom_egypt\",\"venus\"],\"name\":\"\",\"parents\":[\"Raya\",\"alahli_bank\",\"hilton\",\"swvl\",\"talbat\",\"telecom_egypt\",\"venus\",\"Raya\",\"alahli_bank\",\"hilton\",\"hotels\",\"swvl\",\"talbat\",\"telecom_egypt\",\"venus\",\"Raya\",\"alahli_bank\",\"hilton\",\"swvl\",\"talbat\",\"telecom_egypt\",\"venus\",\"\",\"\",\"\",\"\",\"\",\"\",\"\",\"\"],\"values\":[164,9202,24,1770,10657,1141,77,8,405,6,19998,418,2749,128,39,46,212,21,1938,17542,480,100,218,9819,51,19998,4126,30948,1749,216],\"type\":\"sunburst\",\"textinfo\":\"label+percent parent\"}],                        {\"template\":{\"data\":{\"bar\":[{\"error_x\":{\"color\":\"#2a3f5f\"},\"error_y\":{\"color\":\"#2a3f5f\"},\"marker\":{\"line\":{\"color\":\"#E5ECF6\",\"width\":0.5},\"pattern\":{\"fillmode\":\"overlay\",\"size\":10,\"solidity\":0.2}},\"type\":\"bar\"}],\"barpolar\":[{\"marker\":{\"line\":{\"color\":\"#E5ECF6\",\"width\":0.5},\"pattern\":{\"fillmode\":\"overlay\",\"size\":10,\"solidity\":0.2}},\"type\":\"barpolar\"}],\"carpet\":[{\"aaxis\":{\"endlinecolor\":\"#2a3f5f\",\"gridcolor\":\"white\",\"linecolor\":\"white\",\"minorgridcolor\":\"white\",\"startlinecolor\":\"#2a3f5f\"},\"baxis\":{\"endlinecolor\":\"#2a3f5f\",\"gridcolor\":\"white\",\"linecolor\":\"white\",\"minorgridcolor\":\"white\",\"startlinecolor\":\"#2a3f5f\"},\"type\":\"carpet\"}],\"choropleth\":[{\"colorbar\":{\"outlinewidth\":0,\"ticks\":\"\"},\"type\":\"choropleth\"}],\"contour\":[{\"colorbar\":{\"outlinewidth\":0,\"ticks\":\"\"},\"colorscale\":[[0.0,\"#0d0887\"],[0.1111111111111111,\"#46039f\"],[0.2222222222222222,\"#7201a8\"],[0.3333333333333333,\"#9c179e\"],[0.4444444444444444,\"#bd3786\"],[0.5555555555555556,\"#d8576b\"],[0.6666666666666666,\"#ed7953\"],[0.7777777777777778,\"#fb9f3a\"],[0.8888888888888888,\"#fdca26\"],[1.0,\"#f0f921\"]],\"type\":\"contour\"}],\"contourcarpet\":[{\"colorbar\":{\"outlinewidth\":0,\"ticks\":\"\"},\"type\":\"contourcarpet\"}],\"heatmap\":[{\"colorbar\":{\"outlinewidth\":0,\"ticks\":\"\"},\"colorscale\":[[0.0,\"#0d0887\"],[0.1111111111111111,\"#46039f\"],[0.2222222222222222,\"#7201a8\"],[0.3333333333333333,\"#9c179e\"],[0.4444444444444444,\"#bd3786\"],[0.5555555555555556,\"#d8576b\"],[0.6666666666666666,\"#ed7953\"],[0.7777777777777778,\"#fb9f3a\"],[0.8888888888888888,\"#fdca26\"],[1.0,\"#f0f921\"]],\"type\":\"heatmap\"}],\"heatmapgl\":[{\"colorbar\":{\"outlinewidth\":0,\"ticks\":\"\"},\"colorscale\":[[0.0,\"#0d0887\"],[0.1111111111111111,\"#46039f\"],[0.2222222222222222,\"#7201a8\"],[0.3333333333333333,\"#9c179e\"],[0.4444444444444444,\"#bd3786\"],[0.5555555555555556,\"#d8576b\"],[0.6666666666666666,\"#ed7953\"],[0.7777777777777778,\"#fb9f3a\"],[0.8888888888888888,\"#fdca26\"],[1.0,\"#f0f921\"]],\"type\":\"heatmapgl\"}],\"histogram\":[{\"marker\":{\"pattern\":{\"fillmode\":\"overlay\",\"size\":10,\"solidity\":0.2}},\"type\":\"histogram\"}],\"histogram2d\":[{\"colorbar\":{\"outlinewidth\":0,\"ticks\":\"\"},\"colorscale\":[[0.0,\"#0d0887\"],[0.1111111111111111,\"#46039f\"],[0.2222222222222222,\"#7201a8\"],[0.3333333333333333,\"#9c179e\"],[0.4444444444444444,\"#bd3786\"],[0.5555555555555556,\"#d8576b\"],[0.6666666666666666,\"#ed7953\"],[0.7777777777777778,\"#fb9f3a\"],[0.8888888888888888,\"#fdca26\"],[1.0,\"#f0f921\"]],\"type\":\"histogram2d\"}],\"histogram2dcontour\":[{\"colorbar\":{\"outlinewidth\":0,\"ticks\":\"\"},\"colorscale\":[[0.0,\"#0d0887\"],[0.1111111111111111,\"#46039f\"],[0.2222222222222222,\"#7201a8\"],[0.3333333333333333,\"#9c179e\"],[0.4444444444444444,\"#bd3786\"],[0.5555555555555556,\"#d8576b\"],[0.6666666666666666,\"#ed7953\"],[0.7777777777777778,\"#fb9f3a\"],[0.8888888888888888,\"#fdca26\"],[1.0,\"#f0f921\"]],\"type\":\"histogram2dcontour\"}],\"mesh3d\":[{\"colorbar\":{\"outlinewidth\":0,\"ticks\":\"\"},\"type\":\"mesh3d\"}],\"parcoords\":[{\"line\":{\"colorbar\":{\"outlinewidth\":0,\"ticks\":\"\"}},\"type\":\"parcoords\"}],\"pie\":[{\"automargin\":true,\"type\":\"pie\"}],\"scatter\":[{\"marker\":{\"colorbar\":{\"outlinewidth\":0,\"ticks\":\"\"}},\"type\":\"scatter\"}],\"scatter3d\":[{\"line\":{\"colorbar\":{\"outlinewidth\":0,\"ticks\":\"\"}},\"marker\":{\"colorbar\":{\"outlinewidth\":0,\"ticks\":\"\"}},\"type\":\"scatter3d\"}],\"scattercarpet\":[{\"marker\":{\"colorbar\":{\"outlinewidth\":0,\"ticks\":\"\"}},\"type\":\"scattercarpet\"}],\"scattergeo\":[{\"marker\":{\"colorbar\":{\"outlinewidth\":0,\"ticks\":\"\"}},\"type\":\"scattergeo\"}],\"scattergl\":[{\"marker\":{\"colorbar\":{\"outlinewidth\":0,\"ticks\":\"\"}},\"type\":\"scattergl\"}],\"scattermapbox\":[{\"marker\":{\"colorbar\":{\"outlinewidth\":0,\"ticks\":\"\"}},\"type\":\"scattermapbox\"}],\"scatterpolar\":[{\"marker\":{\"colorbar\":{\"outlinewidth\":0,\"ticks\":\"\"}},\"type\":\"scatterpolar\"}],\"scatterpolargl\":[{\"marker\":{\"colorbar\":{\"outlinewidth\":0,\"ticks\":\"\"}},\"type\":\"scatterpolargl\"}],\"scatterternary\":[{\"marker\":{\"colorbar\":{\"outlinewidth\":0,\"ticks\":\"\"}},\"type\":\"scatterternary\"}],\"surface\":[{\"colorbar\":{\"outlinewidth\":0,\"ticks\":\"\"},\"colorscale\":[[0.0,\"#0d0887\"],[0.1111111111111111,\"#46039f\"],[0.2222222222222222,\"#7201a8\"],[0.3333333333333333,\"#9c179e\"],[0.4444444444444444,\"#bd3786\"],[0.5555555555555556,\"#d8576b\"],[0.6666666666666666,\"#ed7953\"],[0.7777777777777778,\"#fb9f3a\"],[0.8888888888888888,\"#fdca26\"],[1.0,\"#f0f921\"]],\"type\":\"surface\"}],\"table\":[{\"cells\":{\"fill\":{\"color\":\"#EBF0F8\"},\"line\":{\"color\":\"white\"}},\"header\":{\"fill\":{\"color\":\"#C8D4E3\"},\"line\":{\"color\":\"white\"}},\"type\":\"table\"}]},\"layout\":{\"annotationdefaults\":{\"arrowcolor\":\"#2a3f5f\",\"arrowhead\":0,\"arrowwidth\":1},\"autotypenumbers\":\"strict\",\"coloraxis\":{\"colorbar\":{\"outlinewidth\":0,\"ticks\":\"\"}},\"colorscale\":{\"diverging\":[[0,\"#8e0152\"],[0.1,\"#c51b7d\"],[0.2,\"#de77ae\"],[0.3,\"#f1b6da\"],[0.4,\"#fde0ef\"],[0.5,\"#f7f7f7\"],[0.6,\"#e6f5d0\"],[0.7,\"#b8e186\"],[0.8,\"#7fbc41\"],[0.9,\"#4d9221\"],[1,\"#276419\"]],\"sequential\":[[0.0,\"#0d0887\"],[0.1111111111111111,\"#46039f\"],[0.2222222222222222,\"#7201a8\"],[0.3333333333333333,\"#9c179e\"],[0.4444444444444444,\"#bd3786\"],[0.5555555555555556,\"#d8576b\"],[0.6666666666666666,\"#ed7953\"],[0.7777777777777778,\"#fb9f3a\"],[0.8888888888888888,\"#fdca26\"],[1.0,\"#f0f921\"]],\"sequentialminus\":[[0.0,\"#0d0887\"],[0.1111111111111111,\"#46039f\"],[0.2222222222222222,\"#7201a8\"],[0.3333333333333333,\"#9c179e\"],[0.4444444444444444,\"#bd3786\"],[0.5555555555555556,\"#d8576b\"],[0.6666666666666666,\"#ed7953\"],[0.7777777777777778,\"#fb9f3a\"],[0.8888888888888888,\"#fdca26\"],[1.0,\"#f0f921\"]]},\"colorway\":[\"#636efa\",\"#EF553B\",\"#00cc96\",\"#ab63fa\",\"#FFA15A\",\"#19d3f3\",\"#FF6692\",\"#B6E880\",\"#FF97FF\",\"#FECB52\"],\"font\":{\"color\":\"#2a3f5f\"},\"geo\":{\"bgcolor\":\"white\",\"lakecolor\":\"white\",\"landcolor\":\"#E5ECF6\",\"showlakes\":true,\"showland\":true,\"subunitcolor\":\"white\"},\"hoverlabel\":{\"align\":\"left\"},\"hovermode\":\"closest\",\"mapbox\":{\"style\":\"light\"},\"paper_bgcolor\":\"white\",\"plot_bgcolor\":\"#E5ECF6\",\"polar\":{\"angularaxis\":{\"gridcolor\":\"white\",\"linecolor\":\"white\",\"ticks\":\"\"},\"bgcolor\":\"#E5ECF6\",\"radialaxis\":{\"gridcolor\":\"white\",\"linecolor\":\"white\",\"ticks\":\"\"}},\"scene\":{\"xaxis\":{\"backgroundcolor\":\"#E5ECF6\",\"gridcolor\":\"white\",\"gridwidth\":2,\"linecolor\":\"white\",\"showbackground\":true,\"ticks\":\"\",\"zerolinecolor\":\"white\"},\"yaxis\":{\"backgroundcolor\":\"#E5ECF6\",\"gridcolor\":\"white\",\"gridwidth\":2,\"linecolor\":\"white\",\"showbackground\":true,\"ticks\":\"\",\"zerolinecolor\":\"white\"},\"zaxis\":{\"backgroundcolor\":\"#E5ECF6\",\"gridcolor\":\"white\",\"gridwidth\":2,\"linecolor\":\"white\",\"showbackground\":true,\"ticks\":\"\",\"zerolinecolor\":\"white\"}},\"shapedefaults\":{\"line\":{\"color\":\"#2a3f5f\"}},\"ternary\":{\"aaxis\":{\"gridcolor\":\"white\",\"linecolor\":\"white\",\"ticks\":\"\"},\"baxis\":{\"gridcolor\":\"white\",\"linecolor\":\"white\",\"ticks\":\"\"},\"bgcolor\":\"#E5ECF6\",\"caxis\":{\"gridcolor\":\"white\",\"linecolor\":\"white\",\"ticks\":\"\"}},\"title\":{\"x\":0.05},\"xaxis\":{\"automargin\":true,\"gridcolor\":\"white\",\"linecolor\":\"white\",\"ticks\":\"\",\"title\":{\"standoff\":15},\"zerolinecolor\":\"white\",\"zerolinewidth\":2},\"yaxis\":{\"automargin\":true,\"gridcolor\":\"white\",\"linecolor\":\"white\",\"ticks\":\"\",\"title\":{\"standoff\":15},\"zerolinecolor\":\"white\",\"zerolinewidth\":2}}},\"legend\":{\"tracegroupgap\":0},\"title\":{\"text\":\"Relation between company and rating\"}},                        {\"responsive\": true}                    ).then(function(){\n",
              "                            \n",
              "var gd = document.getElementById('8c5e1037-ba70-4a58-b2f8-fa0d86a5635f');\n",
              "var x = new MutationObserver(function (mutations, observer) {{\n",
              "        var display = window.getComputedStyle(gd).display;\n",
              "        if (!display || display === 'none') {{\n",
              "            console.log([gd, 'removed!']);\n",
              "            Plotly.purge(gd);\n",
              "            observer.disconnect();\n",
              "        }}\n",
              "}});\n",
              "\n",
              "// Listen for the removal of the full notebook cells\n",
              "var notebookContainer = gd.closest('#notebook-container');\n",
              "if (notebookContainer) {{\n",
              "    x.observe(notebookContainer, {childList: true});\n",
              "}}\n",
              "\n",
              "// Listen for the clearing of the current output cell\n",
              "var outputEl = gd.closest('.output');\n",
              "if (outputEl) {{\n",
              "    x.observe(outputEl, {childList: true});\n",
              "}}\n",
              "\n",
              "                        })                };                            </script>        </div>\n",
              "</body>\n",
              "</html>"
            ]
          },
          "metadata": {}
        }
      ],
      "source": [
        "fig = px.sunburst(df, path=['company', 'rating'],title= 'Relation between company and rating')\n",
        "fig.update_traces(textinfo='label + percent parent')"
      ],
      "id": "G0pi9YWdDab1"
    },
    {
      "cell_type": "markdown",
      "source": [
        "# **data cleaning**"
      ],
      "metadata": {
        "id": "VmZQyVDPdGXi"
      },
      "id": "VmZQyVDPdGXi"
    },
    {
      "cell_type": "code",
      "execution_count": 64,
      "id": "2295a62b",
      "metadata": {
        "id": "2295a62b"
      },
      "outputs": [],
      "source": [
        "def del_digits_and_pun(value,pun):\n",
        "    new_value= re.sub('[1-9]','',value)\n",
        "    for i in pun:\n",
        "        new_value=new_value.replace(i,' ')\n",
        "    return new_value"
      ]
    },
    {
      "cell_type": "code",
      "source": [
        "def tokens_review(x,stop_words):\n",
        "    x=str(x)\n",
        "    words=word_tokenize(x)\n",
        "    new_words=[]\n",
        "    for i in words:\n",
        "        text = re.sub(r'[^ء-ي ]',' ',i)\n",
        "        \n",
        "        if text not in stop_words:\n",
        "            new_words.append(text)\n",
        "    return new_words"
      ],
      "metadata": {
        "id": "t41DrPc0nBfE"
      },
      "id": "t41DrPc0nBfE",
      "execution_count": 65,
      "outputs": []
    },
    {
      "cell_type": "markdown",
      "source": [
        "delete english punctuations and arabic punctuations from our reviews"
      ],
      "metadata": {
        "id": "Fmu8q_TddlVh"
      },
      "id": "Fmu8q_TddlVh"
    },
    {
      "cell_type": "code",
      "execution_count": 66,
      "id": "d1298735",
      "metadata": {
        "id": "d1298735"
      },
      "outputs": [],
      "source": [
        "arabic_punctuations = \"\"\"\n",
        "`÷×؛،.<>_()*&^%][ـ،/:؟.,'{}~¦+|!”…“–#.ـ\n",
        "\"\"\"\n",
        "\n",
        "english_punctuations = string.punctuation\n",
        "punctuations_list = arabic_punctuations + english_punctuations\n",
        "punctuations_list\n",
        "list_pun=[i for i in punctuations_list]\n",
        "\n",
        "\n",
        "df.review_description=df.review_description.apply(del_digits_and_pun,args=[list_pun])\n",
        "\n"
      ]
    },
    {
      "cell_type": "markdown",
      "source": [
        "# ** staming  reviwe**"
      ],
      "metadata": {
        "id": "BlgrzPYsnJHH"
      },
      "id": "BlgrzPYsnJHH"
    },
    {
      "cell_type": "code",
      "source": [
        "def preprossing (review):\n",
        "  words=word_tokenize(review)\n",
        "  new_words=[]\n",
        "  stop_words=stopwords.words('arabic')\n",
        "  stop_words.remove('لا')\n",
        "  stop_words.remove('لكن')\n",
        "  stop_words.remove('ولكن')\n",
        "  stop_words.remove('واو')\n",
        "  stop_words.remove('أطعم')\n",
        "  stop_words.remove('أف')\n",
        "  stop_words.append('طلبات')\n",
        "  stop_words.append('شركه')\n",
        "  stop_words.append('برنامج')\n",
        "  stop_words.append('تطبيق')\n",
        "  for i in words:\n",
        "    stemmer = ARLSTem()\n",
        "    word = stemmer.stem(i)\n",
        "    if i in stop_words:\n",
        "      continue \n",
        "    new_words.append(word)\n",
        "\n",
        "  return new_words\n",
        "\n",
        "\n"
      ],
      "metadata": {
        "id": "1f7J0g7Bl3Sj"
      },
      "id": "1f7J0g7Bl3Sj",
      "execution_count": 67,
      "outputs": []
    },
    {
      "cell_type": "code",
      "source": [
        "import nltk\n",
        "\n",
        "df.steming_list=df.review_description.apply(preprossing)"
      ],
      "metadata": {
        "colab": {
          "base_uri": "https://localhost:8080/"
        },
        "id": "e1PZVejYh84P",
        "outputId": "01b95a5e-4344-4f7f-f53f-78d3f01dd9e7"
      },
      "id": "e1PZVejYh84P",
      "execution_count": 68,
      "outputs": [
        {
          "output_type": "stream",
          "name": "stderr",
          "text": [
            "<ipython-input-68-7b2250f778a7>:3: UserWarning:\n",
            "\n",
            "Pandas doesn't allow columns to be created via a new attribute name - see https://pandas.pydata.org/pandas-docs/stable/indexing.html#attribute-access\n",
            "\n"
          ]
        }
      ]
    },
    {
      "cell_type": "markdown",
      "source": [
        "# **features extraction  word2vec**"
      ],
      "metadata": {
        "id": "8kcv7CgELJUi"
      },
      "id": "8kcv7CgELJUi"
    },
    {
      "cell_type": "code",
      "source": [
        "from gensim.models import Word2Vec\n",
        "sents=[]\n",
        "dim_num=100\n",
        "for i in df.steming_list:\n",
        "  sents.append(i)\n",
        "model=Word2Vec(sentences=sents, window=5, min_count=1, workers=4,size=dim_num)"
      ],
      "metadata": {
        "id": "mR4U3sm5GUGe"
      },
      "id": "mR4U3sm5GUGe",
      "execution_count": 69,
      "outputs": []
    },
    {
      "cell_type": "code",
      "source": [
        "X=np.zeros((dim_num,), dtype=float)\n",
        "\n",
        "for i in  df.steming_list:\n",
        "  counter=0\n",
        "  sum=np.zeros((100,), dtype=float)\n",
        "  for x in i :\n",
        "    sum+=model.wv[x]\n",
        "    counter+=1\n",
        "  if counter==0 :\n",
        "    X=np.vstack((X,sum))\n",
        "  else:\n",
        "    X=np.vstack((X,sum/counter))\n",
        "X= np.delete(X, (0), axis=0)\n",
        "y=df.rating \n",
        "X.shape\n",
        "\n",
        "  "
      ],
      "metadata": {
        "colab": {
          "base_uri": "https://localhost:8080/"
        },
        "id": "M_WQH6YJHMI8",
        "outputId": "f0951d47-74d0-43b4-dc83-f7017773293d"
      },
      "id": "M_WQH6YJHMI8",
      "execution_count": 70,
      "outputs": [
        {
          "output_type": "execute_result",
          "data": {
            "text/plain": [
              "(67125, 100)"
            ]
          },
          "metadata": {},
          "execution_count": 70
        }
      ]
    },
    {
      "cell_type": "code",
      "source": [
        "def get_accuracy(name, trained_model , x_train, y_train, x_test, y_test):\n",
        "    tree_predict = trained_model.predict(x_test)\n",
        "    print(\"Testing accuracy   :\",metrics.accuracy_score(y_test, tree_predict)*100 , \"%\")\n",
        "    print(\"MSE [TEST]          :\",mean_squared_error(y_test, tree_predict))\n",
        "\n",
        "\n",
        "    tree_predict1 = trained_model.predict(x_train)\n",
        "    print(\"Training accuracy  :\",metrics.accuracy_score(y_train, tree_predict1)*100 ,\"%\")\n",
        "    print(\"MSE [TRAIN]         :\",mean_squared_error(y_train, tree_predict1))\n",
        "\n",
        "    print(\"precision : \",precision_score(y_test, tree_predict,average='micro'))\n",
        "    print(\"recall    : \",recall_score(y_test, tree_predict,average='micro'))\n",
        "    print(\"f1_score  : \",f1_score(y_test, tree_predict,average='micro'))\n",
        "\n",
        "\n",
        "    cf1 = confusion_matrix(y_test,tree_predict)\n",
        "    sns.heatmap(cf1,annot=True,fmt = '.0f')\n",
        "    plt.xlabel('prediction')\n",
        "    plt.ylabel('Actual')\n",
        "    plt.title(name+ ' Confusion Matrix')\n",
        "    plt.show()\n",
        "\n",
        "    print(classification_report(y_train,  trained_model.predict(x_train)))\n",
        "    print(classification_report(y_test,  trained_model.predict(x_test)))"
      ],
      "metadata": {
        "id": "lsPln-RKrrYs"
      },
      "execution_count": 71,
      "outputs": [],
      "id": "lsPln-RKrrYs"
    },
    {
      "cell_type": "code",
      "source": [
        "def get_accuracy_NN(name, trained_model , x_train, y_train, x_test, y_test,y_train_enc,y_test_enc):\n",
        "  loss,acc=model.evaluate(x_test,y_test_enc)\n",
        "  print(\"test loss :\", loss)\n",
        "  print('test accuracy:',acc*100)\n",
        "  print(\"____________________________\")\n",
        "  loss,acc=model.evaluate(x_train,y_train_enc)\n",
        "  print(\"trainig loss :\", loss)\n",
        "  print('trainig accuracy:',acc*100)\n",
        "  print(\"____________________________\")\n",
        "\n",
        "  pred=model.predict(x_test)\n",
        "  pred_list=[]\n",
        "  for i in pred:\n",
        "    pred_list.append(np.argmax(i))\n",
        "  cf1 = confusion_matrix(y_test,pred_list)\n",
        "  sns.heatmap(cf1,annot=True,fmt = '.0f')\n",
        "  plt.xlabel('prediction')\n",
        "  plt.ylabel('Actual')\n",
        "  plt.title(name+ ' Confusion Matrix')\n",
        "  plt.show()\n",
        "  print(\"true\")\n",
        "  print(classification_report(y_test,pred_list  ))\n",
        "  \n"
      ],
      "metadata": {
        "id": "pIDX5NDv-FY6"
      },
      "id": "pIDX5NDv-FY6",
      "execution_count": 90,
      "outputs": []
    },
    {
      "cell_type": "markdown",
      "source": [
        "# ** LinearSVC model** "
      ],
      "metadata": {
        "id": "xxHliw13LQwf"
      },
      "id": "xxHliw13LQwf"
    },
    {
      "cell_type": "code",
      "source": [
        "from sklearn.model_selection import train_test_split\n",
        "\n",
        "def encod(x):\n",
        "  if x==-1:\n",
        "    return 0\n",
        "  if x== 0:\n",
        "    return 1\n",
        "  return 2\n",
        "y=df.rating\n",
        "y=y.apply(encod)\n",
        "x_train,x_test,y_train,y_test = train_test_split(X,y,random_state=42,test_size=0.10,shuffle=True)\n",
        "y_train_enc = tf.keras.utils.to_categorical(y_train)\n",
        "y_test_enc=tf.keras.utils.to_categorical(y_test)\n"
      ],
      "metadata": {
        "id": "ZIgZzaB5IBzk"
      },
      "id": "ZIgZzaB5IBzk",
      "execution_count": 73,
      "outputs": []
    },
    {
      "cell_type": "code",
      "source": [
        "\n",
        "from sklearn.svm import LinearSVC\n",
        "trained_clf_svc = LinearSVC().fit(x_train, y_train)\n"
      ],
      "metadata": {
        "id": "6-mtTMDQHqHV",
        "outputId": "862eb0a1-6ee8-4807-f64e-14c68047227c",
        "colab": {
          "base_uri": "https://localhost:8080/"
        }
      },
      "id": "6-mtTMDQHqHV",
      "execution_count": 74,
      "outputs": [
        {
          "output_type": "stream",
          "name": "stderr",
          "text": [
            "/usr/local/lib/python3.8/dist-packages/sklearn/svm/_base.py:1206: ConvergenceWarning:\n",
            "\n",
            "Liblinear failed to converge, increase the number of iterations.\n",
            "\n"
          ]
        }
      ]
    },
    {
      "cell_type": "code",
      "source": [
        "get_accuracy('LinearSVC',trained_clf_svc,x_train, y_train, x_test, y_test)"
      ],
      "metadata": {
        "id": "OlNEuZABHUl4",
        "outputId": "7b0458e7-1fb1-4eb8-a23e-9b7265ac9c1f",
        "colab": {
          "base_uri": "https://localhost:8080/",
          "height": 764
        }
      },
      "id": "OlNEuZABHUl4",
      "execution_count": 75,
      "outputs": [
        {
          "output_type": "stream",
          "name": "stdout",
          "text": [
            "Testing accuracy   : 81.81141069566513 %\n",
            "MSE [TEST]          : 0.3816475495307612\n",
            "Training accuracy  : 81.5715420777329 %\n",
            "MSE [TRAIN]         : 0.37656425875653843\n",
            "precision :  0.8181141069566513\n",
            "recall    :  0.8181141069566513\n",
            "f1_score  :  0.8181141069566513\n"
          ]
        },
        {
          "output_type": "display_data",
          "data": {
            "text/plain": [
              "<Figure size 432x288 with 2 Axes>"
            ],
            "image/png": "[encoded data removed]"
          },
          "metadata": {
            "needs_background": "light"
          }
        },
        {
          "output_type": "stream",
          "name": "stdout",
          "text": [
            "              precision    recall  f1-score   support\n",
            "\n",
            "           0       0.82      0.83      0.83     20686\n",
            "           1       0.84      0.81      0.83     21416\n",
            "           2       0.78      0.80      0.79     18310\n",
            "\n",
            "    accuracy                           0.82     60412\n",
            "   macro avg       0.81      0.82      0.81     60412\n",
            "weighted avg       0.82      0.82      0.82     60412\n",
            "\n",
            "              precision    recall  f1-score   support\n",
            "\n",
            "           0       0.82      0.84      0.83      2349\n",
            "           1       0.84      0.82      0.83      2335\n",
            "           2       0.79      0.79      0.79      2029\n",
            "\n",
            "    accuracy                           0.82      6713\n",
            "   macro avg       0.82      0.82      0.82      6713\n",
            "weighted avg       0.82      0.82      0.82      6713\n",
            "\n"
          ]
        }
      ]
    },
    {
      "cell_type": "markdown",
      "source": [
        "# **apply decision tree model**"
      ],
      "metadata": {
        "id": "O9h2n0W6IO39"
      },
      "id": "O9h2n0W6IO39"
    },
    {
      "cell_type": "code",
      "source": [
        "from sklearn.tree import DecisionTreeClassifier\n",
        "from sklearn.model_selection import GridSearchCV\n",
        "\n",
        "param_grid = {\n",
        "    \"max_depth\": [3,5,10,15,20,None],\n",
        "    \"min_samples_split\": [2,5,7,10],\n",
        "    \"min_samples_leaf\": [1,2,5]\n",
        "}\n",
        "\n",
        "clf = DecisionTreeClassifier(max_depth=7, min_samples_leaf=5, min_samples_split= 2).fit(x_train,y_train)\n",
        "get_accuracy('DecisionTreeClassifier',clf,x_train, y_train, x_test, y_test)\n"
      ],
      "metadata": {
        "colab": {
          "base_uri": "https://localhost:8080/",
          "height": 764
        },
        "id": "GsCyUUMfIVV8",
        "outputId": "6df5e336-953e-41fa-8ba0-5d5d8e21f77f"
      },
      "id": "GsCyUUMfIVV8",
      "execution_count": 76,
      "outputs": [
        {
          "output_type": "stream",
          "name": "stdout",
          "text": [
            "Testing accuracy   : 77.38715924325935 %\n",
            "MSE [TEST]          : 0.5134813049307314\n",
            "Training accuracy  : 78.07720320466133 %\n",
            "MSE [TRAIN]         : 0.48237105210885256\n",
            "precision :  0.7738715924325935\n",
            "recall    :  0.7738715924325935\n",
            "f1_score  :  0.7738715924325935\n"
          ]
        },
        {
          "output_type": "display_data",
          "data": {
            "text/plain": [
              "<Figure size 432x288 with 2 Axes>"
            ],
            "image/png": "[encoded data removed]"
          },
          "metadata": {
            "needs_background": "light"
          }
        },
        {
          "output_type": "stream",
          "name": "stdout",
          "text": [
            "              precision    recall  f1-score   support\n",
            "\n",
            "           0       0.75      0.81      0.78     20686\n",
            "           1       0.85      0.76      0.80     21416\n",
            "           2       0.74      0.77      0.75     18310\n",
            "\n",
            "    accuracy                           0.78     60412\n",
            "   macro avg       0.78      0.78      0.78     60412\n",
            "weighted avg       0.78      0.78      0.78     60412\n",
            "\n",
            "              precision    recall  f1-score   support\n",
            "\n",
            "           0       0.74      0.82      0.78      2349\n",
            "           1       0.85      0.76      0.80      2335\n",
            "           2       0.74      0.74      0.74      2029\n",
            "\n",
            "    accuracy                           0.77      6713\n",
            "   macro avg       0.78      0.77      0.77      6713\n",
            "weighted avg       0.78      0.77      0.77      6713\n",
            "\n"
          ]
        }
      ]
    },
    {
      "cell_type": "markdown",
      "source": [
        "# **random forest model**"
      ],
      "metadata": {
        "id": "NO0DH2JSLAAN"
      },
      "id": "NO0DH2JSLAAN"
    },
    {
      "cell_type": "code",
      "source": [
        "from sklearn.ensemble import RandomForestClassifier\n",
        "model=RandomForestClassifier(max_depth=9,min_samples_leaf=5,min_samples_split=3).fit(x_train,y_train)\n",
        "get_accuracy('Random forest ',model,x_train, y_train, x_test, y_test)\n"
      ],
      "metadata": {
        "colab": {
          "base_uri": "https://localhost:8080/",
          "height": 764
        },
        "id": "f-qMv0A5LL0l",
        "outputId": "5dff74fd-198b-4219-eecd-c09dd40c732b"
      },
      "id": "f-qMv0A5LL0l",
      "execution_count": 77,
      "outputs": [
        {
          "output_type": "stream",
          "name": "stdout",
          "text": [
            "Testing accuracy   : 82.70519886786832 %\n",
            "MSE [TEST]          : 0.42186801727990464\n",
            "Training accuracy  : 84.6719194861948 %\n",
            "MSE [TRAIN]         : 0.35062570350261535\n",
            "precision :  0.8270519886786831\n",
            "recall    :  0.8270519886786831\n",
            "f1_score  :  0.8270519886786831\n"
          ]
        },
        {
          "output_type": "display_data",
          "data": {
            "text/plain": [
              "<Figure size 432x288 with 2 Axes>"
            ],
            "image/png": "[encoded data removed]"
          },
          "metadata": {
            "needs_background": "light"
          }
        },
        {
          "output_type": "stream",
          "name": "stdout",
          "text": [
            "              precision    recall  f1-score   support\n",
            "\n",
            "           0       0.81      0.89      0.85     20686\n",
            "           1       0.93      0.81      0.87     21416\n",
            "           2       0.81      0.84      0.82     18310\n",
            "\n",
            "    accuracy                           0.85     60412\n",
            "   macro avg       0.85      0.85      0.85     60412\n",
            "weighted avg       0.85      0.85      0.85     60412\n",
            "\n",
            "              precision    recall  f1-score   support\n",
            "\n",
            "           0       0.78      0.87      0.83      2349\n",
            "           1       0.92      0.82      0.86      2335\n",
            "           2       0.79      0.79      0.79      2029\n",
            "\n",
            "    accuracy                           0.83      6713\n",
            "   macro avg       0.83      0.83      0.83      6713\n",
            "weighted avg       0.83      0.83      0.83      6713\n",
            "\n"
          ]
        }
      ]
    },
    {
      "cell_type": "markdown",
      "source": [
        "# **model 1 neural network**"
      ],
      "metadata": {
        "id": "_L8HWsHVxmRK"
      },
      "id": "_L8HWsHVxmRK"
    },
    {
      "cell_type": "code",
      "source": [
        "NN_models=[]"
      ],
      "metadata": {
        "id": "tsyJGIQhSC_T"
      },
      "id": "tsyJGIQhSC_T",
      "execution_count": 78,
      "outputs": []
    },
    {
      "cell_type": "code",
      "source": [
        "\n",
        "model=Sequential()\n",
        "model.add(Dense( 64 ,input_shape=(100,),activation='relu' ))\n",
        "model.add(Dense(32, activation='relu',kernel_regularizer='l1'))\n",
        "model.add(Dense(16, activation='relu'))\n",
        "model.add(Dense(3, activation='softmax'))\n",
        "\n",
        "\n",
        "model.compile(optimizer = 'adam', loss = 'categorical_crossentropy' ,metrics=['accuracy'])\n",
        "model.summary()"
      ],
      "metadata": {
        "colab": {
          "base_uri": "https://localhost:8080/"
        },
        "id": "IrbHF0TlMv44",
        "outputId": "47a52744-c07f-478e-f741-fa3966aa00fd"
      },
      "id": "IrbHF0TlMv44",
      "execution_count": 113,
      "outputs": [
        {
          "output_type": "stream",
          "name": "stdout",
          "text": [
            "Model: \"sequential_8\"\n",
            "_________________________________________________________________\n",
            " Layer (type)                Output Shape              Param #   \n",
            "=================================================================\n",
            " dense_33 (Dense)            (None, 64)                6464      \n",
            "                                                                 \n",
            " dense_34 (Dense)            (None, 32)                2080      \n",
            "                                                                 \n",
            " dense_35 (Dense)            (None, 16)                528       \n",
            "                                                                 \n",
            " dense_36 (Dense)            (None, 3)                 51        \n",
            "                                                                 \n",
            "=================================================================\n",
            "Total params: 9,123\n",
            "Trainable params: 9,123\n",
            "Non-trainable params: 0\n",
            "_________________________________________________________________\n"
          ]
        }
      ]
    },
    {
      "cell_type": "code",
      "source": [
        "model.fit(x_train,y_train_enc,batch_size=256 ,epochs=150)\n"
      ],
      "metadata": {
        "id": "Pea13Xp6TA6y",
        "colab": {
          "base_uri": "https://localhost:8080/"
        },
        "outputId": "31900200-3cfa-4a02-ecb0-4a882d5bd724"
      },
      "id": "Pea13Xp6TA6y",
      "execution_count": 111,
      "outputs": [
        {
          "output_type": "stream",
          "name": "stdout",
          "text": [
            "Epoch 1/150\n",
            "236/236 [==============================] - 1s 4ms/step - loss: 0.3787 - accuracy: 0.8597\n",
            "Epoch 2/150\n",
            "236/236 [==============================] - 1s 4ms/step - loss: 0.3773 - accuracy: 0.8601\n",
            "Epoch 3/150\n",
            "236/236 [==============================] - 1s 2ms/step - loss: 0.3783 - accuracy: 0.8607\n",
            "Epoch 4/150\n",
            "236/236 [==============================] - 1s 2ms/step - loss: 0.3795 - accuracy: 0.8588\n",
            "Epoch 5/150\n",
            "236/236 [==============================] - 0s 2ms/step - loss: 0.3780 - accuracy: 0.8601\n",
            "Epoch 6/150\n",
            "236/236 [==============================] - 1s 2ms/step - loss: 0.3775 - accuracy: 0.8593\n",
            "Epoch 7/150\n",
            "236/236 [==============================] - 1s 2ms/step - loss: 0.3767 - accuracy: 0.8607\n",
            "Epoch 8/150\n",
            "236/236 [==============================] - 1s 2ms/step - loss: 0.3756 - accuracy: 0.8618\n",
            "Epoch 9/150\n",
            "236/236 [==============================] - 1s 2ms/step - loss: 0.3762 - accuracy: 0.8608\n",
            "Epoch 10/150\n",
            "236/236 [==============================] - 1s 2ms/step - loss: 0.3760 - accuracy: 0.8609\n",
            "Epoch 11/150\n",
            "236/236 [==============================] - 0s 2ms/step - loss: 0.3755 - accuracy: 0.8612\n",
            "Epoch 12/150\n",
            "236/236 [==============================] - 1s 2ms/step - loss: 0.3740 - accuracy: 0.8606\n",
            "Epoch 13/150\n",
            "236/236 [==============================] - 1s 2ms/step - loss: 0.3747 - accuracy: 0.8621\n",
            "Epoch 14/150\n",
            "236/236 [==============================] - 1s 2ms/step - loss: 0.3750 - accuracy: 0.8604\n",
            "Epoch 15/150\n",
            "236/236 [==============================] - 1s 2ms/step - loss: 0.3738 - accuracy: 0.8617\n",
            "Epoch 16/150\n",
            "236/236 [==============================] - 1s 2ms/step - loss: 0.3734 - accuracy: 0.8624\n",
            "Epoch 17/150\n",
            "236/236 [==============================] - 1s 2ms/step - loss: 0.3737 - accuracy: 0.8619\n",
            "Epoch 18/150\n",
            "236/236 [==============================] - 0s 2ms/step - loss: 0.3736 - accuracy: 0.8607\n",
            "Epoch 19/150\n",
            "236/236 [==============================] - 1s 2ms/step - loss: 0.3734 - accuracy: 0.8618\n",
            "Epoch 20/150\n",
            "236/236 [==============================] - 1s 2ms/step - loss: 0.3734 - accuracy: 0.8617\n",
            "Epoch 21/150\n",
            "236/236 [==============================] - 1s 2ms/step - loss: 0.3738 - accuracy: 0.8611\n",
            "Epoch 22/150\n",
            "236/236 [==============================] - 1s 2ms/step - loss: 0.3716 - accuracy: 0.8623\n",
            "Epoch 23/150\n",
            "236/236 [==============================] - 1s 2ms/step - loss: 0.3716 - accuracy: 0.8627\n",
            "Epoch 24/150\n",
            "236/236 [==============================] - 1s 2ms/step - loss: 0.3734 - accuracy: 0.8619\n",
            "Epoch 25/150\n",
            "236/236 [==============================] - 1s 2ms/step - loss: 0.3721 - accuracy: 0.8623\n",
            "Epoch 26/150\n",
            "236/236 [==============================] - 1s 2ms/step - loss: 0.3712 - accuracy: 0.8623\n",
            "Epoch 27/150\n",
            "236/236 [==============================] - 1s 2ms/step - loss: 0.3705 - accuracy: 0.8628\n",
            "Epoch 28/150\n",
            "236/236 [==============================] - 0s 2ms/step - loss: 0.3717 - accuracy: 0.8625\n",
            "Epoch 29/150\n",
            "236/236 [==============================] - 1s 2ms/step - loss: 0.3707 - accuracy: 0.8623\n",
            "Epoch 30/150\n",
            "236/236 [==============================] - 1s 2ms/step - loss: 0.3697 - accuracy: 0.8638\n",
            "Epoch 31/150\n",
            "236/236 [==============================] - 1s 2ms/step - loss: 0.3688 - accuracy: 0.8624\n",
            "Epoch 32/150\n",
            "236/236 [==============================] - 1s 2ms/step - loss: 0.3701 - accuracy: 0.8635\n",
            "Epoch 33/150\n",
            "236/236 [==============================] - 0s 2ms/step - loss: 0.3697 - accuracy: 0.8634\n",
            "Epoch 34/150\n",
            "236/236 [==============================] - 1s 2ms/step - loss: 0.3709 - accuracy: 0.8633\n",
            "Epoch 35/150\n",
            "236/236 [==============================] - 1s 2ms/step - loss: 0.3697 - accuracy: 0.8637\n",
            "Epoch 36/150\n",
            "236/236 [==============================] - 1s 2ms/step - loss: 0.3697 - accuracy: 0.8634\n",
            "Epoch 37/150\n",
            "236/236 [==============================] - 1s 2ms/step - loss: 0.3691 - accuracy: 0.8633\n",
            "Epoch 38/150\n",
            "236/236 [==============================] - 1s 2ms/step - loss: 0.3683 - accuracy: 0.8647\n",
            "Epoch 39/150\n",
            "236/236 [==============================] - 1s 2ms/step - loss: 0.3682 - accuracy: 0.8636\n",
            "Epoch 40/150\n",
            "236/236 [==============================] - 0s 2ms/step - loss: 0.3684 - accuracy: 0.8636\n",
            "Epoch 41/150\n",
            "236/236 [==============================] - 1s 2ms/step - loss: 0.3676 - accuracy: 0.8638\n",
            "Epoch 42/150\n",
            "236/236 [==============================] - 1s 2ms/step - loss: 0.3682 - accuracy: 0.8641\n",
            "Epoch 43/150\n",
            "236/236 [==============================] - 1s 2ms/step - loss: 0.3674 - accuracy: 0.8642\n",
            "Epoch 44/150\n",
            "236/236 [==============================] - 1s 2ms/step - loss: 0.3685 - accuracy: 0.8632\n",
            "Epoch 45/150\n",
            "236/236 [==============================] - 0s 2ms/step - loss: 0.3665 - accuracy: 0.8647\n",
            "Epoch 46/150\n",
            "236/236 [==============================] - 1s 2ms/step - loss: 0.3673 - accuracy: 0.8647\n",
            "Epoch 47/150\n",
            "236/236 [==============================] - 0s 2ms/step - loss: 0.3668 - accuracy: 0.8647\n",
            "Epoch 48/150\n",
            "236/236 [==============================] - 1s 2ms/step - loss: 0.3653 - accuracy: 0.8653\n",
            "Epoch 49/150\n",
            "236/236 [==============================] - 0s 2ms/step - loss: 0.3671 - accuracy: 0.8642\n",
            "Epoch 50/150\n",
            "236/236 [==============================] - 1s 2ms/step - loss: 0.3677 - accuracy: 0.8640\n",
            "Epoch 51/150\n",
            "236/236 [==============================] - 1s 2ms/step - loss: 0.3665 - accuracy: 0.8650\n",
            "Epoch 52/150\n",
            "236/236 [==============================] - 1s 2ms/step - loss: 0.3656 - accuracy: 0.8650\n",
            "Epoch 53/150\n",
            "236/236 [==============================] - 1s 2ms/step - loss: 0.3666 - accuracy: 0.8644\n",
            "Epoch 54/150\n",
            "236/236 [==============================] - 1s 2ms/step - loss: 0.3655 - accuracy: 0.8644\n",
            "Epoch 55/150\n",
            "236/236 [==============================] - 1s 2ms/step - loss: 0.3658 - accuracy: 0.8644\n",
            "Epoch 56/150\n",
            "236/236 [==============================] - 0s 2ms/step - loss: 0.3661 - accuracy: 0.8645\n",
            "Epoch 57/150\n",
            "236/236 [==============================] - 1s 2ms/step - loss: 0.3650 - accuracy: 0.8657\n",
            "Epoch 58/150\n",
            "236/236 [==============================] - 1s 2ms/step - loss: 0.3660 - accuracy: 0.8652\n",
            "Epoch 59/150\n",
            "236/236 [==============================] - 1s 2ms/step - loss: 0.3648 - accuracy: 0.8651\n",
            "Epoch 60/150\n",
            "236/236 [==============================] - 0s 2ms/step - loss: 0.3670 - accuracy: 0.8646\n",
            "Epoch 61/150\n",
            "236/236 [==============================] - 1s 2ms/step - loss: 0.3648 - accuracy: 0.8661\n",
            "Epoch 62/150\n",
            "236/236 [==============================] - 1s 2ms/step - loss: 0.3650 - accuracy: 0.8648\n",
            "Epoch 63/150\n",
            "236/236 [==============================] - 1s 2ms/step - loss: 0.3640 - accuracy: 0.8655\n",
            "Epoch 64/150\n",
            "236/236 [==============================] - 1s 2ms/step - loss: 0.3667 - accuracy: 0.8646\n",
            "Epoch 65/150\n",
            "236/236 [==============================] - 1s 2ms/step - loss: 0.3650 - accuracy: 0.8656\n",
            "Epoch 66/150\n",
            "236/236 [==============================] - 0s 2ms/step - loss: 0.3646 - accuracy: 0.8650\n",
            "Epoch 67/150\n",
            "236/236 [==============================] - 1s 2ms/step - loss: 0.3637 - accuracy: 0.8664\n",
            "Epoch 68/150\n",
            "236/236 [==============================] - 1s 2ms/step - loss: 0.3633 - accuracy: 0.8660\n",
            "Epoch 69/150\n",
            "236/236 [==============================] - 1s 2ms/step - loss: 0.3646 - accuracy: 0.8654\n",
            "Epoch 70/150\n",
            "236/236 [==============================] - 1s 2ms/step - loss: 0.3619 - accuracy: 0.8666\n",
            "Epoch 71/150\n",
            "236/236 [==============================] - 0s 2ms/step - loss: 0.3636 - accuracy: 0.8657\n",
            "Epoch 72/150\n",
            "236/236 [==============================] - 1s 2ms/step - loss: 0.3649 - accuracy: 0.8659\n",
            "Epoch 73/150\n",
            "236/236 [==============================] - 1s 2ms/step - loss: 0.3626 - accuracy: 0.8666\n",
            "Epoch 74/150\n",
            "236/236 [==============================] - 1s 2ms/step - loss: 0.3636 - accuracy: 0.8665\n",
            "Epoch 75/150\n",
            "236/236 [==============================] - 1s 2ms/step - loss: 0.3636 - accuracy: 0.8663\n",
            "Epoch 76/150\n",
            "236/236 [==============================] - 1s 2ms/step - loss: 0.3627 - accuracy: 0.8661\n",
            "Epoch 77/150\n",
            "236/236 [==============================] - 1s 2ms/step - loss: 0.3621 - accuracy: 0.8676\n",
            "Epoch 78/150\n",
            "236/236 [==============================] - 1s 2ms/step - loss: 0.3625 - accuracy: 0.8661\n",
            "Epoch 79/150\n",
            "236/236 [==============================] - 1s 2ms/step - loss: 0.3624 - accuracy: 0.8663\n",
            "Epoch 80/150\n",
            "236/236 [==============================] - 1s 2ms/step - loss: 0.3620 - accuracy: 0.8661\n",
            "Epoch 81/150\n",
            "236/236 [==============================] - 1s 2ms/step - loss: 0.3636 - accuracy: 0.8657\n",
            "Epoch 82/150\n",
            "236/236 [==============================] - 1s 2ms/step - loss: 0.3641 - accuracy: 0.8650\n",
            "Epoch 83/150\n",
            "236/236 [==============================] - 1s 2ms/step - loss: 0.3620 - accuracy: 0.8660\n",
            "Epoch 84/150\n",
            "236/236 [==============================] - 1s 2ms/step - loss: 0.3622 - accuracy: 0.8665\n",
            "Epoch 85/150\n",
            "236/236 [==============================] - 1s 2ms/step - loss: 0.3613 - accuracy: 0.8667\n",
            "Epoch 86/150\n",
            "236/236 [==============================] - 0s 2ms/step - loss: 0.3630 - accuracy: 0.8659\n",
            "Epoch 87/150\n",
            "236/236 [==============================] - 0s 2ms/step - loss: 0.3601 - accuracy: 0.8666\n",
            "Epoch 88/150\n",
            "236/236 [==============================] - 1s 2ms/step - loss: 0.3618 - accuracy: 0.8664\n",
            "Epoch 89/150\n",
            "236/236 [==============================] - 1s 2ms/step - loss: 0.3606 - accuracy: 0.8678\n",
            "Epoch 90/150\n",
            "236/236 [==============================] - 1s 2ms/step - loss: 0.3607 - accuracy: 0.8675\n",
            "Epoch 91/150\n",
            "236/236 [==============================] - 1s 2ms/step - loss: 0.3605 - accuracy: 0.8674\n",
            "Epoch 92/150\n",
            "236/236 [==============================] - 1s 2ms/step - loss: 0.3609 - accuracy: 0.8679\n",
            "Epoch 93/150\n",
            "236/236 [==============================] - 1s 2ms/step - loss: 0.3612 - accuracy: 0.8668\n",
            "Epoch 94/150\n",
            "236/236 [==============================] - 1s 2ms/step - loss: 0.3603 - accuracy: 0.8677\n",
            "Epoch 95/150\n",
            "236/236 [==============================] - 1s 2ms/step - loss: 0.3600 - accuracy: 0.8678\n",
            "Epoch 96/150\n",
            "236/236 [==============================] - 1s 2ms/step - loss: 0.3593 - accuracy: 0.8687\n",
            "Epoch 97/150\n",
            "236/236 [==============================] - 0s 2ms/step - loss: 0.3598 - accuracy: 0.8672\n",
            "Epoch 98/150\n",
            "236/236 [==============================] - 1s 2ms/step - loss: 0.3595 - accuracy: 0.8670\n",
            "Epoch 99/150\n",
            "236/236 [==============================] - 1s 2ms/step - loss: 0.3583 - accuracy: 0.8678\n",
            "Epoch 100/150\n",
            "236/236 [==============================] - 1s 2ms/step - loss: 0.3584 - accuracy: 0.8681\n",
            "Epoch 101/150\n",
            "236/236 [==============================] - 1s 2ms/step - loss: 0.3585 - accuracy: 0.8684\n",
            "Epoch 102/150\n",
            "236/236 [==============================] - 1s 2ms/step - loss: 0.3599 - accuracy: 0.8663\n",
            "Epoch 103/150\n",
            "236/236 [==============================] - 1s 2ms/step - loss: 0.3584 - accuracy: 0.8675\n",
            "Epoch 104/150\n",
            "236/236 [==============================] - 1s 2ms/step - loss: 0.3591 - accuracy: 0.8675\n",
            "Epoch 105/150\n",
            "236/236 [==============================] - 1s 2ms/step - loss: 0.3581 - accuracy: 0.8682\n",
            "Epoch 106/150\n",
            "236/236 [==============================] - 1s 2ms/step - loss: 0.3597 - accuracy: 0.8677\n",
            "Epoch 107/150\n",
            "236/236 [==============================] - 1s 2ms/step - loss: 0.3600 - accuracy: 0.8669\n",
            "Epoch 108/150\n",
            "236/236 [==============================] - 1s 2ms/step - loss: 0.3590 - accuracy: 0.8667\n",
            "Epoch 109/150\n",
            "236/236 [==============================] - 1s 2ms/step - loss: 0.3581 - accuracy: 0.8685\n",
            "Epoch 110/150\n",
            "236/236 [==============================] - 1s 2ms/step - loss: 0.3584 - accuracy: 0.8671\n",
            "Epoch 111/150\n",
            "236/236 [==============================] - 1s 2ms/step - loss: 0.3590 - accuracy: 0.8680\n",
            "Epoch 112/150\n",
            "236/236 [==============================] - 1s 2ms/step - loss: 0.3566 - accuracy: 0.8688\n",
            "Epoch 113/150\n",
            "236/236 [==============================] - 1s 2ms/step - loss: 0.3584 - accuracy: 0.8683\n",
            "Epoch 114/150\n",
            "236/236 [==============================] - 1s 2ms/step - loss: 0.3571 - accuracy: 0.8683\n",
            "Epoch 115/150\n",
            "236/236 [==============================] - 1s 2ms/step - loss: 0.3588 - accuracy: 0.8680\n",
            "Epoch 116/150\n",
            "236/236 [==============================] - 1s 2ms/step - loss: 0.3566 - accuracy: 0.8691\n",
            "Epoch 117/150\n",
            "236/236 [==============================] - 1s 2ms/step - loss: 0.3590 - accuracy: 0.8671\n",
            "Epoch 118/150\n",
            "236/236 [==============================] - 1s 2ms/step - loss: 0.3578 - accuracy: 0.8679\n",
            "Epoch 119/150\n",
            "236/236 [==============================] - 1s 2ms/step - loss: 0.3558 - accuracy: 0.8691\n",
            "Epoch 120/150\n",
            "236/236 [==============================] - 1s 2ms/step - loss: 0.3578 - accuracy: 0.8685\n",
            "Epoch 121/150\n",
            "236/236 [==============================] - 1s 2ms/step - loss: 0.3576 - accuracy: 0.8680\n",
            "Epoch 122/150\n",
            "236/236 [==============================] - 1s 2ms/step - loss: 0.3587 - accuracy: 0.8683\n",
            "Epoch 123/150\n",
            "236/236 [==============================] - 1s 2ms/step - loss: 0.3555 - accuracy: 0.8690\n",
            "Epoch 124/150\n",
            "236/236 [==============================] - 0s 2ms/step - loss: 0.3560 - accuracy: 0.8690\n",
            "Epoch 125/150\n",
            "236/236 [==============================] - 1s 2ms/step - loss: 0.3564 - accuracy: 0.8690\n",
            "Epoch 126/150\n",
            "236/236 [==============================] - 1s 2ms/step - loss: 0.3568 - accuracy: 0.8681\n",
            "Epoch 127/150\n",
            "236/236 [==============================] - 1s 2ms/step - loss: 0.3558 - accuracy: 0.8690\n",
            "Epoch 128/150\n",
            "236/236 [==============================] - 1s 2ms/step - loss: 0.3551 - accuracy: 0.8689\n",
            "Epoch 129/150\n",
            "236/236 [==============================] - 1s 2ms/step - loss: 0.3560 - accuracy: 0.8690\n",
            "Epoch 130/150\n",
            "236/236 [==============================] - 1s 2ms/step - loss: 0.3566 - accuracy: 0.8681\n",
            "Epoch 131/150\n",
            "236/236 [==============================] - 1s 2ms/step - loss: 0.3546 - accuracy: 0.8697\n",
            "Epoch 132/150\n",
            "236/236 [==============================] - 1s 2ms/step - loss: 0.3564 - accuracy: 0.8686\n",
            "Epoch 133/150\n",
            "236/236 [==============================] - 1s 2ms/step - loss: 0.3554 - accuracy: 0.8684\n",
            "Epoch 134/150\n",
            "236/236 [==============================] - 1s 2ms/step - loss: 0.3553 - accuracy: 0.8689\n",
            "Epoch 135/150\n",
            "236/236 [==============================] - 1s 2ms/step - loss: 0.3559 - accuracy: 0.8683\n",
            "Epoch 136/150\n",
            "236/236 [==============================] - 1s 2ms/step - loss: 0.3545 - accuracy: 0.8701\n",
            "Epoch 137/150\n",
            "236/236 [==============================] - 1s 2ms/step - loss: 0.3565 - accuracy: 0.8685\n",
            "Epoch 138/150\n",
            "236/236 [==============================] - 1s 2ms/step - loss: 0.3550 - accuracy: 0.8695\n",
            "Epoch 139/150\n",
            "236/236 [==============================] - 1s 2ms/step - loss: 0.3547 - accuracy: 0.8689\n",
            "Epoch 140/150\n",
            "236/236 [==============================] - 1s 2ms/step - loss: 0.3550 - accuracy: 0.8696\n",
            "Epoch 141/150\n",
            "236/236 [==============================] - 1s 2ms/step - loss: 0.3550 - accuracy: 0.8691\n",
            "Epoch 142/150\n",
            "236/236 [==============================] - 1s 2ms/step - loss: 0.3560 - accuracy: 0.8683\n",
            "Epoch 143/150\n",
            "236/236 [==============================] - 1s 2ms/step - loss: 0.3540 - accuracy: 0.8694\n",
            "Epoch 144/150\n",
            "236/236 [==============================] - 1s 2ms/step - loss: 0.3542 - accuracy: 0.8700\n",
            "Epoch 145/150\n",
            "236/236 [==============================] - 1s 2ms/step - loss: 0.3549 - accuracy: 0.8696\n",
            "Epoch 146/150\n",
            "236/236 [==============================] - 1s 2ms/step - loss: 0.3544 - accuracy: 0.8700\n",
            "Epoch 147/150\n",
            "236/236 [==============================] - 1s 3ms/step - loss: 0.3540 - accuracy: 0.8691\n",
            "Epoch 148/150\n",
            "236/236 [==============================] - 1s 2ms/step - loss: 0.3536 - accuracy: 0.8697\n",
            "Epoch 149/150\n",
            "236/236 [==============================] - 1s 2ms/step - loss: 0.3542 - accuracy: 0.8693\n",
            "Epoch 150/150\n",
            "236/236 [==============================] - 1s 2ms/step - loss: 0.3537 - accuracy: 0.8701\n"
          ]
        },
        {
          "output_type": "execute_result",
          "data": {
            "text/plain": [
              "<keras.callbacks.History at 0x7f607005ca00>"
            ]
          },
          "metadata": {},
          "execution_count": 111
        }
      ]
    },
    {
      "cell_type": "code",
      "source": [
        "get_accuracy_NN(\"neural network\",model,x_train,y_train,x_test,y_test,y_train_enc,y_test_enc)"
      ],
      "metadata": {
        "id": "sNMV9KGy-e9u",
        "outputId": "58a7bf9a-f73f-4339-c25a-cdf3d0cf726f",
        "colab": {
          "base_uri": "https://localhost:8080/",
          "height": 642
        }
      },
      "id": "sNMV9KGy-e9u",
      "execution_count": 112,
      "outputs": [
        {
          "output_type": "stream",
          "name": "stdout",
          "text": [
            "210/210 [==============================] - 0s 1ms/step - loss: 0.4132 - accuracy: 0.8521\n",
            "test loss : 0.413232684135437\n",
            "test accuracy: 85.20780801773071\n",
            "____________________________\n",
            "1888/1888 [==============================] - 2s 1ms/step - loss: 0.3480 - accuracy: 0.8725\n",
            "trainig loss : 0.3480154871940613\n",
            "trainig accuracy: 87.24591135978699\n",
            "____________________________\n",
            "210/210 [==============================] - 0s 873us/step\n"
          ]
        },
        {
          "output_type": "display_data",
          "data": {
            "text/plain": [
              "<Figure size 432x288 with 2 Axes>"
            ],
            "image/png": "[encoded data removed]"
          },
          "metadata": {
            "needs_background": "light"
          }
        },
        {
          "output_type": "stream",
          "name": "stdout",
          "text": [
            "true\n",
            "              precision    recall  f1-score   support\n",
            "\n",
            "           0       0.85      0.86      0.85      2349\n",
            "           1       0.92      0.84      0.88      2335\n",
            "           2       0.79      0.85      0.82      2029\n",
            "\n",
            "    accuracy                           0.85      6713\n",
            "   macro avg       0.85      0.85      0.85      6713\n",
            "weighted avg       0.86      0.85      0.85      6713\n",
            "\n"
          ]
        }
      ]
    },
    {
      "cell_type": "markdown",
      "source": [
        "# ***model 2 neural ntework***"
      ],
      "metadata": {
        "id": "mCL2gctvxtma"
      },
      "id": "mCL2gctvxtma"
    },
    {
      "cell_type": "code",
      "source": [
        "\n",
        "model=Sequential()\n",
        "model.add(Dense( 120,input_shape=(100,),activation='relu' ))\n",
        "\n",
        "model.add(Dense(64, activation='relu'))\n",
        "model.add(Dense(16, activation='relu'))\n",
        "model.add(Dense(64, activation='relu'))\n",
        "model.add(Dense(3, activation='softmax'))\n",
        "\n",
        "\n",
        "model.compile(optimizer = 'adam' ,loss = 'categorical_crossentropy' ,metrics=['accuracy'])\n",
        "\n"
      ],
      "metadata": {
        "id": "iKMNlyTYiQw4"
      },
      "id": "iKMNlyTYiQw4",
      "execution_count": 92,
      "outputs": []
    },
    {
      "cell_type": "code",
      "source": [
        "model.fit(x_train,y_train_enc,batch_size=256 ,epochs=50)\n",
        "get_accuracy_NN(\"neural network\",model,x_train,y_train,x_test,y_test,y_train_enc,y_test_enc)"
      ],
      "metadata": {
        "id": "ZUNln5NO4TBY",
        "outputId": "2e1be98d-9302-4691-b78b-0007dda1f0b2",
        "colab": {
          "base_uri": "https://localhost:8080/",
          "height": 1000
        }
      },
      "id": "ZUNln5NO4TBY",
      "execution_count": 93,
      "outputs": [
        {
          "output_type": "stream",
          "name": "stdout",
          "text": [
            "Epoch 1/50\n",
            "236/236 [==============================] - 1s 3ms/step - loss: 0.5499 - accuracy: 0.7983\n",
            "Epoch 2/50\n",
            "236/236 [==============================] - 1s 3ms/step - loss: 0.4512 - accuracy: 0.8327\n",
            "Epoch 3/50\n",
            "236/236 [==============================] - 1s 3ms/step - loss: 0.4341 - accuracy: 0.8381\n",
            "Epoch 4/50\n",
            "236/236 [==============================] - 1s 3ms/step - loss: 0.4227 - accuracy: 0.8414\n",
            "Epoch 5/50\n",
            "236/236 [==============================] - 1s 5ms/step - loss: 0.4153 - accuracy: 0.8433\n",
            "Epoch 6/50\n",
            "236/236 [==============================] - 1s 4ms/step - loss: 0.4068 - accuracy: 0.8478\n",
            "Epoch 7/50\n",
            "236/236 [==============================] - 1s 3ms/step - loss: 0.4013 - accuracy: 0.8483\n",
            "Epoch 8/50\n",
            "236/236 [==============================] - 1s 3ms/step - loss: 0.4004 - accuracy: 0.8486\n",
            "Epoch 9/50\n",
            "236/236 [==============================] - 1s 3ms/step - loss: 0.3959 - accuracy: 0.8501\n",
            "Epoch 10/50\n",
            "236/236 [==============================] - 1s 3ms/step - loss: 0.3926 - accuracy: 0.8516\n",
            "Epoch 11/50\n",
            "236/236 [==============================] - 1s 3ms/step - loss: 0.3866 - accuracy: 0.8541\n",
            "Epoch 12/50\n",
            "236/236 [==============================] - 1s 3ms/step - loss: 0.3858 - accuracy: 0.8543\n",
            "Epoch 13/50\n",
            "236/236 [==============================] - 1s 3ms/step - loss: 0.3845 - accuracy: 0.8533\n",
            "Epoch 14/50\n",
            "236/236 [==============================] - 1s 3ms/step - loss: 0.3796 - accuracy: 0.8571\n",
            "Epoch 15/50\n",
            "236/236 [==============================] - 1s 3ms/step - loss: 0.3782 - accuracy: 0.8562\n",
            "Epoch 16/50\n",
            "236/236 [==============================] - 1s 3ms/step - loss: 0.3757 - accuracy: 0.8573\n",
            "Epoch 17/50\n",
            "236/236 [==============================] - 1s 3ms/step - loss: 0.3732 - accuracy: 0.8575\n",
            "Epoch 18/50\n",
            "236/236 [==============================] - 1s 3ms/step - loss: 0.3715 - accuracy: 0.8587\n",
            "Epoch 19/50\n",
            "236/236 [==============================] - 1s 3ms/step - loss: 0.3704 - accuracy: 0.8594\n",
            "Epoch 20/50\n",
            "236/236 [==============================] - 1s 3ms/step - loss: 0.3689 - accuracy: 0.8602\n",
            "Epoch 21/50\n",
            "236/236 [==============================] - 1s 3ms/step - loss: 0.3667 - accuracy: 0.8604\n",
            "Epoch 22/50\n",
            "236/236 [==============================] - 1s 3ms/step - loss: 0.3646 - accuracy: 0.8621\n",
            "Epoch 23/50\n",
            "236/236 [==============================] - 1s 3ms/step - loss: 0.3641 - accuracy: 0.8621\n",
            "Epoch 24/50\n",
            "236/236 [==============================] - 1s 3ms/step - loss: 0.3623 - accuracy: 0.8627\n",
            "Epoch 25/50\n",
            "236/236 [==============================] - 1s 5ms/step - loss: 0.3607 - accuracy: 0.8631\n",
            "Epoch 26/50\n",
            "236/236 [==============================] - 1s 4ms/step - loss: 0.3587 - accuracy: 0.8642\n",
            "Epoch 27/50\n",
            "236/236 [==============================] - 2s 6ms/step - loss: 0.3572 - accuracy: 0.8650\n",
            "Epoch 28/50\n",
            "236/236 [==============================] - 1s 5ms/step - loss: 0.3568 - accuracy: 0.8655\n",
            "Epoch 29/50\n",
            "236/236 [==============================] - 1s 3ms/step - loss: 0.3539 - accuracy: 0.8659\n",
            "Epoch 30/50\n",
            "236/236 [==============================] - 1s 3ms/step - loss: 0.3545 - accuracy: 0.8652\n",
            "Epoch 31/50\n",
            "236/236 [==============================] - 1s 3ms/step - loss: 0.3511 - accuracy: 0.8670\n",
            "Epoch 32/50\n",
            "236/236 [==============================] - 1s 3ms/step - loss: 0.3494 - accuracy: 0.8679\n",
            "Epoch 33/50\n",
            "236/236 [==============================] - 1s 3ms/step - loss: 0.3497 - accuracy: 0.8664\n",
            "Epoch 34/50\n",
            "236/236 [==============================] - 1s 3ms/step - loss: 0.3489 - accuracy: 0.8671\n",
            "Epoch 35/50\n",
            "236/236 [==============================] - 1s 3ms/step - loss: 0.3456 - accuracy: 0.8687\n",
            "Epoch 36/50\n",
            "236/236 [==============================] - 1s 3ms/step - loss: 0.3452 - accuracy: 0.8697\n",
            "Epoch 37/50\n",
            "236/236 [==============================] - 1s 3ms/step - loss: 0.3446 - accuracy: 0.8693\n",
            "Epoch 38/50\n",
            "236/236 [==============================] - 1s 3ms/step - loss: 0.3436 - accuracy: 0.8699\n",
            "Epoch 39/50\n",
            "236/236 [==============================] - 1s 3ms/step - loss: 0.3431 - accuracy: 0.8700\n",
            "Epoch 40/50\n",
            "236/236 [==============================] - 1s 3ms/step - loss: 0.3402 - accuracy: 0.8703\n",
            "Epoch 41/50\n",
            "236/236 [==============================] - 1s 3ms/step - loss: 0.3384 - accuracy: 0.8714\n",
            "Epoch 42/50\n",
            "236/236 [==============================] - 1s 3ms/step - loss: 0.3399 - accuracy: 0.8714\n",
            "Epoch 43/50\n",
            "236/236 [==============================] - 1s 3ms/step - loss: 0.3357 - accuracy: 0.8731\n",
            "Epoch 44/50\n",
            "236/236 [==============================] - 1s 3ms/step - loss: 0.3355 - accuracy: 0.8727\n",
            "Epoch 45/50\n",
            "236/236 [==============================] - 1s 3ms/step - loss: 0.3353 - accuracy: 0.8726\n",
            "Epoch 46/50\n",
            "236/236 [==============================] - 1s 3ms/step - loss: 0.3345 - accuracy: 0.8731\n",
            "Epoch 47/50\n",
            "236/236 [==============================] - 1s 3ms/step - loss: 0.3328 - accuracy: 0.8734\n",
            "Epoch 48/50\n",
            "236/236 [==============================] - 1s 3ms/step - loss: 0.3306 - accuracy: 0.8742\n",
            "Epoch 49/50\n",
            "236/236 [==============================] - 1s 3ms/step - loss: 0.3310 - accuracy: 0.8745\n",
            "Epoch 50/50\n",
            "236/236 [==============================] - 1s 3ms/step - loss: 0.3291 - accuracy: 0.8748\n",
            "210/210 [==============================] - 0s 1ms/step - loss: 0.4062 - accuracy: 0.8504\n",
            "test loss : 0.4061800539493561\n",
            "test accuracy: 85.04394292831421\n",
            "____________________________\n",
            "1888/1888 [==============================] - 2s 1ms/step - loss: 0.3306 - accuracy: 0.8746\n",
            "trainig loss : 0.330593079328537\n",
            "trainig accuracy: 87.45778799057007\n",
            "____________________________\n",
            "210/210 [==============================] - 0s 881us/step\n"
          ]
        },
        {
          "output_type": "display_data",
          "data": {
            "text/plain": [
              "<Figure size 432x288 with 2 Axes>"
            ],
            "image/png": "[encoded data removed]"
          },
          "metadata": {
            "needs_background": "light"
          }
        },
        {
          "output_type": "stream",
          "name": "stdout",
          "text": [
            "true\n",
            "              precision    recall  f1-score   support\n",
            "\n",
            "           0       0.84      0.87      0.86      2349\n",
            "           1       0.96      0.81      0.88      2335\n",
            "           2       0.77      0.87      0.82      2029\n",
            "\n",
            "    accuracy                           0.85      6713\n",
            "   macro avg       0.86      0.85      0.85      6713\n",
            "weighted avg       0.86      0.85      0.85      6713\n",
            "\n"
          ]
        }
      ]
    },
    {
      "cell_type": "markdown",
      "source": [
        "CNN"
      ],
      "metadata": {
        "id": "ROdxt3dNmic-"
      },
      "id": "ROdxt3dNmic-"
    },
    {
      "cell_type": "code",
      "source": [
        "from tensorflow.keras.layers import Dense, Conv2D, Flatten\n",
        "# Instantiate your model as usual\n",
        "model = Sequential()\n",
        "model.add(Conv2D(\n",
        "                 filters=64,  \n",
        "                 kernel_size=2,              \n",
        "                 input_shape=(10,10,1),     \n",
        "                 activation='relu')\n",
        ")\n",
        "\n",
        "model.add(Conv2D(8, kernel_size=3, activation='relu'))\n",
        "model.add(Flatten())\n",
        "\n",
        "model.add(Dense(64, activation='relu'))\n",
        "\n",
        "model.add(Dense(16, activation='relu'))\n",
        "# End this multiclass model with 3 outputs and softmax\n",
        "model.add(Dense(3, activation='softmax'))\n",
        "\n",
        "model.summary ()"
      ],
      "metadata": {
        "id": "n0F5Zt1XkihN",
        "outputId": "5e6da271-cb76-432d-896c-d9c40b8d7ddc",
        "colab": {
          "base_uri": "https://localhost:8080/"
        }
      },
      "id": "n0F5Zt1XkihN",
      "execution_count": 94,
      "outputs": [
        {
          "output_type": "stream",
          "name": "stdout",
          "text": [
            "Model: \"sequential_4\"\n",
            "_________________________________________________________________\n",
            " Layer (type)                Output Shape              Param #   \n",
            "=================================================================\n",
            " conv2d (Conv2D)             (None, 9, 9, 64)          320       \n",
            "                                                                 \n",
            " conv2d_1 (Conv2D)           (None, 7, 7, 8)           4616      \n",
            "                                                                 \n",
            " flatten (Flatten)           (None, 392)               0         \n",
            "                                                                 \n",
            " dense_18 (Dense)            (None, 64)                25152     \n",
            "                                                                 \n",
            " dense_19 (Dense)            (None, 16)                1040      \n",
            "                                                                 \n",
            " dense_20 (Dense)            (None, 3)                 51        \n",
            "                                                                 \n",
            "=================================================================\n",
            "Total params: 31,179\n",
            "Trainable params: 31,179\n",
            "Non-trainable params: 0\n",
            "_________________________________________________________________\n"
          ]
        }
      ]
    },
    {
      "cell_type": "code",
      "source": [
        "model.compile(optimizer = 'adam' ,loss = 'categorical_crossentropy' ,metrics=['accuracy'])\n",
        "model.fit(x_train.reshape(-1,10,10,1),y_train_enc,batch_size=256 ,epochs=70)"
      ],
      "metadata": {
        "id": "qJNen43Rlb0-",
        "outputId": "0b78b6b9-db08-481c-fb30-ac889b56ae1e",
        "colab": {
          "base_uri": "https://localhost:8080/"
        }
      },
      "id": "qJNen43Rlb0-",
      "execution_count": 95,
      "outputs": [
        {
          "output_type": "stream",
          "name": "stdout",
          "text": [
            "Epoch 1/70\n",
            "236/236 [==============================] - 11s 47ms/step - loss: 0.5648 - accuracy: 0.7896\n",
            "Epoch 2/70\n",
            "236/236 [==============================] - 7s 30ms/step - loss: 0.4611 - accuracy: 0.8279\n",
            "Epoch 3/70\n",
            "236/236 [==============================] - 7s 31ms/step - loss: 0.4399 - accuracy: 0.8338\n",
            "Epoch 4/70\n",
            "236/236 [==============================] - 7s 31ms/step - loss: 0.4316 - accuracy: 0.8360\n",
            "Epoch 5/70\n",
            "236/236 [==============================] - 7s 31ms/step - loss: 0.4244 - accuracy: 0.8390\n",
            "Epoch 6/70\n",
            "236/236 [==============================] - 7s 31ms/step - loss: 0.4199 - accuracy: 0.8408\n",
            "Epoch 7/70\n",
            "236/236 [==============================] - 7s 31ms/step - loss: 0.4138 - accuracy: 0.8428\n",
            "Epoch 8/70\n",
            "236/236 [==============================] - 7s 31ms/step - loss: 0.4112 - accuracy: 0.8446\n",
            "Epoch 9/70\n",
            "236/236 [==============================] - 7s 31ms/step - loss: 0.4058 - accuracy: 0.8455\n",
            "Epoch 10/70\n",
            "236/236 [==============================] - 7s 31ms/step - loss: 0.4046 - accuracy: 0.8453\n",
            "Epoch 11/70\n",
            "236/236 [==============================] - 7s 31ms/step - loss: 0.4020 - accuracy: 0.8470\n",
            "Epoch 12/70\n",
            "236/236 [==============================] - 7s 31ms/step - loss: 0.3967 - accuracy: 0.8493\n",
            "Epoch 13/70\n",
            "236/236 [==============================] - 8s 34ms/step - loss: 0.3966 - accuracy: 0.8481\n",
            "Epoch 14/70\n",
            "236/236 [==============================] - 7s 31ms/step - loss: 0.3933 - accuracy: 0.8503\n",
            "Epoch 15/70\n",
            "236/236 [==============================] - 7s 31ms/step - loss: 0.3894 - accuracy: 0.8514\n",
            "Epoch 16/70\n",
            "236/236 [==============================] - 7s 31ms/step - loss: 0.3862 - accuracy: 0.8536\n",
            "Epoch 17/70\n",
            "236/236 [==============================] - 7s 31ms/step - loss: 0.3851 - accuracy: 0.8527\n",
            "Epoch 18/70\n",
            "236/236 [==============================] - 7s 31ms/step - loss: 0.3827 - accuracy: 0.8546\n",
            "Epoch 19/70\n",
            "236/236 [==============================] - 7s 31ms/step - loss: 0.3808 - accuracy: 0.8545\n",
            "Epoch 20/70\n",
            "236/236 [==============================] - 9s 37ms/step - loss: 0.3797 - accuracy: 0.8562\n",
            "Epoch 21/70\n",
            "236/236 [==============================] - 7s 31ms/step - loss: 0.3763 - accuracy: 0.8570\n",
            "Epoch 22/70\n",
            "236/236 [==============================] - 7s 31ms/step - loss: 0.3764 - accuracy: 0.8570\n",
            "Epoch 23/70\n",
            "236/236 [==============================] - 7s 31ms/step - loss: 0.3727 - accuracy: 0.8591\n",
            "Epoch 24/70\n",
            "236/236 [==============================] - 7s 31ms/step - loss: 0.3748 - accuracy: 0.8569\n",
            "Epoch 25/70\n",
            "236/236 [==============================] - 7s 31ms/step - loss: 0.3697 - accuracy: 0.8592\n",
            "Epoch 26/70\n",
            "236/236 [==============================] - 7s 31ms/step - loss: 0.3690 - accuracy: 0.8591\n",
            "Epoch 27/70\n",
            "236/236 [==============================] - 7s 31ms/step - loss: 0.3680 - accuracy: 0.8603\n",
            "Epoch 28/70\n",
            "236/236 [==============================] - 7s 31ms/step - loss: 0.3655 - accuracy: 0.8603\n",
            "Epoch 29/70\n",
            "236/236 [==============================] - 7s 31ms/step - loss: 0.3660 - accuracy: 0.8601\n",
            "Epoch 30/70\n",
            "236/236 [==============================] - 7s 31ms/step - loss: 0.3612 - accuracy: 0.8631\n",
            "Epoch 31/70\n",
            "236/236 [==============================] - 7s 31ms/step - loss: 0.3601 - accuracy: 0.8618\n",
            "Epoch 32/70\n",
            "236/236 [==============================] - 7s 31ms/step - loss: 0.3599 - accuracy: 0.8620\n",
            "Epoch 33/70\n",
            "236/236 [==============================] - 7s 31ms/step - loss: 0.3572 - accuracy: 0.8640\n",
            "Epoch 34/70\n",
            "236/236 [==============================] - 7s 31ms/step - loss: 0.3559 - accuracy: 0.8637\n",
            "Epoch 35/70\n",
            "236/236 [==============================] - 7s 31ms/step - loss: 0.3530 - accuracy: 0.8653\n",
            "Epoch 36/70\n",
            "236/236 [==============================] - 9s 37ms/step - loss: 0.3540 - accuracy: 0.8646\n",
            "Epoch 37/70\n",
            "236/236 [==============================] - 7s 31ms/step - loss: 0.3504 - accuracy: 0.8666\n",
            "Epoch 38/70\n",
            "236/236 [==============================] - 7s 31ms/step - loss: 0.3495 - accuracy: 0.8663\n",
            "Epoch 39/70\n",
            "236/236 [==============================] - 7s 31ms/step - loss: 0.3483 - accuracy: 0.8671\n",
            "Epoch 40/70\n",
            "236/236 [==============================] - 7s 31ms/step - loss: 0.3459 - accuracy: 0.8662\n",
            "Epoch 41/70\n",
            "236/236 [==============================] - 7s 31ms/step - loss: 0.3460 - accuracy: 0.8680\n",
            "Epoch 42/70\n",
            "236/236 [==============================] - 7s 31ms/step - loss: 0.3450 - accuracy: 0.8682\n",
            "Epoch 43/70\n",
            "236/236 [==============================] - 7s 31ms/step - loss: 0.3446 - accuracy: 0.8688\n",
            "Epoch 44/70\n",
            "236/236 [==============================] - 7s 31ms/step - loss: 0.3429 - accuracy: 0.8681\n",
            "Epoch 45/70\n",
            "236/236 [==============================] - 7s 31ms/step - loss: 0.3428 - accuracy: 0.8690\n",
            "Epoch 46/70\n",
            "236/236 [==============================] - 7s 31ms/step - loss: 0.3391 - accuracy: 0.8710\n",
            "Epoch 47/70\n",
            "236/236 [==============================] - 7s 31ms/step - loss: 0.3367 - accuracy: 0.8709\n",
            "Epoch 48/70\n",
            "236/236 [==============================] - 7s 31ms/step - loss: 0.3362 - accuracy: 0.8717\n",
            "Epoch 49/70\n",
            "236/236 [==============================] - 7s 31ms/step - loss: 0.3361 - accuracy: 0.8716\n",
            "Epoch 50/70\n",
            "236/236 [==============================] - 7s 31ms/step - loss: 0.3357 - accuracy: 0.8715\n",
            "Epoch 51/70\n",
            "236/236 [==============================] - 7s 31ms/step - loss: 0.3331 - accuracy: 0.8720\n",
            "Epoch 52/70\n",
            "236/236 [==============================] - 7s 31ms/step - loss: 0.3319 - accuracy: 0.8728\n",
            "Epoch 53/70\n",
            "236/236 [==============================] - 7s 31ms/step - loss: 0.3303 - accuracy: 0.8732\n",
            "Epoch 54/70\n",
            "236/236 [==============================] - 7s 31ms/step - loss: 0.3290 - accuracy: 0.8739\n",
            "Epoch 55/70\n",
            "236/236 [==============================] - 7s 31ms/step - loss: 0.3277 - accuracy: 0.8747\n",
            "Epoch 56/70\n",
            "236/236 [==============================] - 7s 31ms/step - loss: 0.3266 - accuracy: 0.8750\n",
            "Epoch 57/70\n",
            "236/236 [==============================] - 7s 31ms/step - loss: 0.3251 - accuracy: 0.8755\n",
            "Epoch 58/70\n",
            "236/236 [==============================] - 7s 31ms/step - loss: 0.3254 - accuracy: 0.8752\n",
            "Epoch 59/70\n",
            "236/236 [==============================] - 7s 31ms/step - loss: 0.3219 - accuracy: 0.8762\n",
            "Epoch 60/70\n",
            "236/236 [==============================] - 7s 31ms/step - loss: 0.3211 - accuracy: 0.8773\n",
            "Epoch 61/70\n",
            "236/236 [==============================] - 7s 31ms/step - loss: 0.3185 - accuracy: 0.8787\n",
            "Epoch 62/70\n",
            "236/236 [==============================] - 7s 31ms/step - loss: 0.3188 - accuracy: 0.8773\n",
            "Epoch 63/70\n",
            "236/236 [==============================] - 7s 31ms/step - loss: 0.3187 - accuracy: 0.8775\n",
            "Epoch 64/70\n",
            "236/236 [==============================] - 9s 38ms/step - loss: 0.3157 - accuracy: 0.8784\n",
            "Epoch 65/70\n",
            "236/236 [==============================] - 7s 31ms/step - loss: 0.3174 - accuracy: 0.8786\n",
            "Epoch 66/70\n",
            "236/236 [==============================] - 7s 31ms/step - loss: 0.3145 - accuracy: 0.8790\n",
            "Epoch 67/70\n",
            "236/236 [==============================] - 7s 31ms/step - loss: 0.3133 - accuracy: 0.8794\n",
            "Epoch 68/70\n",
            "236/236 [==============================] - 7s 31ms/step - loss: 0.3111 - accuracy: 0.8803\n",
            "Epoch 69/70\n",
            "236/236 [==============================] - 7s 31ms/step - loss: 0.3077 - accuracy: 0.8816\n",
            "Epoch 70/70\n",
            "236/236 [==============================] - 7s 31ms/step - loss: 0.3101 - accuracy: 0.8824\n"
          ]
        },
        {
          "output_type": "execute_result",
          "data": {
            "text/plain": [
              "<keras.callbacks.History at 0x7f607005cf40>"
            ]
          },
          "metadata": {},
          "execution_count": 95
        }
      ]
    },
    {
      "cell_type": "code",
      "source": [
        "\n",
        "pred=model.predict(x_test.reshape(-1,10,10,1))\n",
        "pred_list=[]\n",
        "for i in pred:\n",
        "  pred_list.append(np.argmax(i))\n",
        "from sklearn.metrics import accuracy_score\n",
        "print(\"test accuracy : \", accuracy_score(y_test,pred_list)*100)\n",
        "print(\"_______________________\")\n",
        "print(classification_report(y_test,pred_list  ))\n",
        "print(\"confusion  matrix\")\n",
        "print(confusion_matrix(pred_list, y_test))"
      ],
      "metadata": {
        "id": "M7_kuTa4WAdM",
        "outputId": "1cc0875f-5375-44ca-c6a7-69495a076fa4",
        "colab": {
          "base_uri": "https://localhost:8080/"
        }
      },
      "id": "M7_kuTa4WAdM",
      "execution_count": 98,
      "outputs": [
        {
          "output_type": "stream",
          "name": "stdout",
          "text": [
            "210/210 [==============================] - 1s 2ms/step\n",
            "test accuracy :  84.86518695069269\n",
            "_______________________\n",
            "              precision    recall  f1-score   support\n",
            "\n",
            "           0       0.83      0.88      0.85      2349\n",
            "           1       0.92      0.83      0.87      2335\n",
            "           2       0.80      0.84      0.82      2029\n",
            "\n",
            "    accuracy                           0.85      6713\n",
            "   macro avg       0.85      0.85      0.85      6713\n",
            "weighted avg       0.85      0.85      0.85      6713\n",
            "\n",
            "confusion  matrix\n",
            "[[2059  186  239]\n",
            " [  77 1943   95]\n",
            " [ 213  206 1695]]\n"
          ]
        }
      ]
    },
    {
      "cell_type": "code",
      "source": [],
      "metadata": {
        "id": "_QxrzyFfYw4j"
      },
      "id": "_QxrzyFfYw4j",
      "execution_count": null,
      "outputs": []
    }
  ],
  "metadata": {
    "kernelspec": {
      "display_name": "Python 3 (ipykernel)",
      "language": "python",
      "name": "python3"
    },
    "language_info": {
      "codemirror_mode": {
        "name": "ipython",
        "version": 3
      },
      "file_extension": ".py",
      "mimetype": "text/x-python",
      "name": "python",
      "nbconvert_exporter": "python",
      "pygments_lexer": "ipython3",
      "version": "3.9.7"
    },
    "colab": {
      "provenance": [],
      "include_colab_link": true
    }
  },
  "nbformat": 4,
  "nbformat_minor": 5
}