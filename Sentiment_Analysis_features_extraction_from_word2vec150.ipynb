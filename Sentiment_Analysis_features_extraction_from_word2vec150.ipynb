{
  "cells": [
    {
      "cell_type": "markdown",
      "metadata": {
        "id": "view-in-github",
        "colab_type": "text"
      },
      "source": [
        "<a href=\"https://colab.research.google.com/github/zahran1234/machine-learning-/blob/main/Sentiment_Analysis_features_extraction_from_word2vec150.ipynb\" target=\"_parent\"><img src=\"https://colab.research.google.com/assets/colab-badge.svg\" alt=\"Open In Colab\"/></a>"
      ]
    },
    {
      "cell_type": "code",
      "execution_count": null,
      "id": "b15e44fe",
      "metadata": {
        "colab": {
          "base_uri": "https://localhost:8080/"
        },
        "id": "b15e44fe",
        "outputId": "727545d7-77ca-4511-cf89-c6b29a47ec81"
      },
      "outputs": [
        {
          "output_type": "stream",
          "name": "stdout",
          "text": [
            "Looking in indexes: https://pypi.org/simple, https://us-python.pkg.dev/colab-wheels/public/simple/\n",
            "Requirement already satisfied: plotly in /usr/local/lib/python3.8/dist-packages (5.5.0)\n",
            "Requirement already satisfied: six in /usr/local/lib/python3.8/dist-packages (from plotly) (1.15.0)\n",
            "Requirement already satisfied: tenacity>=6.2.0 in /usr/local/lib/python3.8/dist-packages (from plotly) (8.1.0)\n"
          ]
        },
        {
          "output_type": "stream",
          "name": "stderr",
          "text": [
            "[nltk_data] Downloading package punkt to /root/nltk_data...\n",
            "[nltk_data]   Unzipping tokenizers/punkt.zip.\n",
            "[nltk_data] Downloading package stopwords to /root/nltk_data...\n",
            "[nltk_data]   Unzipping corpora/stopwords.zip.\n"
          ]
        }
      ],
      "source": [
        "!pip install plotly\n",
        "import pandas as pd\n",
        "import numpy as np\n",
        "import matplotlib.pyplot as plt \n",
        "import plotly.express as px\n",
        "from scipy import stats\n",
        "from sklearn.metrics import confusion_matrix,mean_squared_error,precision_score,recall_score,f1_score ,classification_report\n",
        "from sklearn import metrics\n",
        "from sklearn.tree import DecisionTreeClassifier\n",
        "from sklearn.ensemble import RandomForestClassifier , GradientBoostingClassifier\n",
        "from sklearn.model_selection import cross_val_score, GridSearchCV\n",
        "import seaborn as sns\n",
        "from sklearn.feature_extraction.text import TfidfVectorizer\n",
        "import string\n",
        "from gensim.models import Word2Vec\n",
        "import tensorflow as tf\n",
        "from keras.utils import to_categorical\n",
        "from tensorflow.keras.layers import Dense, Flatten\n",
        "from tensorflow.keras.models import Sequential\n",
        "import nltk\n",
        "nltk.download('punkt')\n",
        "nltk.download('stopwords')\n",
        "import re\n",
        "from nltk.stem import ARLSTem\n",
        "from nltk.corpus import stopwords\n",
        "from nltk.stem.porter import PorterStemmer\n",
        "from nltk.tokenize import word_tokenize\n",
        "from keras.utils import to_categorical\n",
        "\n"
      ]
    },
    {
      "cell_type": "code",
      "execution_count": null,
      "id": "44612d1b",
      "metadata": {
        "id": "44612d1b"
      },
      "outputs": [],
      "source": [
        "df= pd.read_excel('/content/original_dataset.xlsx')"
      ]
    },
    {
      "cell_type": "code",
      "execution_count": null,
      "id": "8f48b6cb",
      "metadata": {
        "id": "8f48b6cb"
      },
      "outputs": [],
      "source": [
        "df=pd.DataFrame(df)"
      ]
    },
    {
      "cell_type": "code",
      "source": [
        "df.head()"
      ],
      "metadata": {
        "colab": {
          "base_uri": "https://localhost:8080/",
          "height": 206
        },
        "id": "ciKaUn-IcIBY",
        "outputId": "5ac9a1ac-58aa-40c3-b4be-b33a80a9f742"
      },
      "id": "ciKaUn-IcIBY",
      "execution_count": null,
      "outputs": [
        {
          "output_type": "execute_result",
          "data": {
            "text/plain": [
              "   Unnamed: 0                                 review_description  rating  \\\n",
              "0           0                         سيئ جدا بعد الإصدار الجديد      -1   \n",
              "1           1                                  ابلكيشن زباله بجد      -1   \n",
              "2           2                                 سيئ التطبيق لايعمل      -1   \n",
              "3           3  للأسف التطبيق للأسوأ كان جدا رائع وسهل وبسيط ا...      -1   \n",
              "4           4                     التحديث بطيئ جدا جدا عند الفتح      -1   \n",
              "\n",
              "       company  \n",
              "0  alahli_bank  \n",
              "1  alahli_bank  \n",
              "2  alahli_bank  \n",
              "3  alahli_bank  \n",
              "4  alahli_bank  "
            ],
            "text/html": [
              "\n",
              "  <div id=\"df-f3f694a4-2bf5-4645-835b-15a47a0ff19f\">\n",
              "    <div class=\"colab-df-container\">\n",
              "      <div>\n",
              "<style scoped>\n",
              "    .dataframe tbody tr th:only-of-type {\n",
              "        vertical-align: middle;\n",
              "    }\n",
              "\n",
              "    .dataframe tbody tr th {\n",
              "        vertical-align: top;\n",
              "    }\n",
              "\n",
              "    .dataframe thead th {\n",
              "        text-align: right;\n",
              "    }\n",
              "</style>\n",
              "<table border=\"1\" class=\"dataframe\">\n",
              "  <thead>\n",
              "    <tr style=\"text-align: right;\">\n",
              "      <th></th>\n",
              "      <th>Unnamed: 0</th>\n",
              "      <th>review_description</th>\n",
              "      <th>rating</th>\n",
              "      <th>company</th>\n",
              "    </tr>\n",
              "  </thead>\n",
              "  <tbody>\n",
              "    <tr>\n",
              "      <th>0</th>\n",
              "      <td>0</td>\n",
              "      <td>سيئ جدا بعد الإصدار الجديد</td>\n",
              "      <td>-1</td>\n",
              "      <td>alahli_bank</td>\n",
              "    </tr>\n",
              "    <tr>\n",
              "      <th>1</th>\n",
              "      <td>1</td>\n",
              "      <td>ابلكيشن زباله بجد</td>\n",
              "      <td>-1</td>\n",
              "      <td>alahli_bank</td>\n",
              "    </tr>\n",
              "    <tr>\n",
              "      <th>2</th>\n",
              "      <td>2</td>\n",
              "      <td>سيئ التطبيق لايعمل</td>\n",
              "      <td>-1</td>\n",
              "      <td>alahli_bank</td>\n",
              "    </tr>\n",
              "    <tr>\n",
              "      <th>3</th>\n",
              "      <td>3</td>\n",
              "      <td>للأسف التطبيق للأسوأ كان جدا رائع وسهل وبسيط ا...</td>\n",
              "      <td>-1</td>\n",
              "      <td>alahli_bank</td>\n",
              "    </tr>\n",
              "    <tr>\n",
              "      <th>4</th>\n",
              "      <td>4</td>\n",
              "      <td>التحديث بطيئ جدا جدا عند الفتح</td>\n",
              "      <td>-1</td>\n",
              "      <td>alahli_bank</td>\n",
              "    </tr>\n",
              "  </tbody>\n",
              "</table>\n",
              "</div>\n",
              "      <button class=\"colab-df-convert\" onclick=\"convertToInteractive('df-f3f694a4-2bf5-4645-835b-15a47a0ff19f')\"\n",
              "              title=\"Convert this dataframe to an interactive table.\"\n",
              "              style=\"display:none;\">\n",
              "        \n",
              "  <svg xmlns=\"http://www.w3.org/2000/svg\" height=\"24px\"viewBox=\"0 0 24 24\"\n",
              "       width=\"24px\">\n",
              "    <path d=\"M0 0h24v24H0V0z\" fill=\"none\"/>\n",
              "    <path d=\"M18.56 5.44l.94 2.06.94-2.06 2.06-.94-2.06-.94-.94-2.06-.94 2.06-2.06.94zm-11 1L8.5 8.5l.94-2.06 2.06-.94-2.06-.94L8.5 2.5l-.94 2.06-2.06.94zm10 10l.94 2.06.94-2.06 2.06-.94-2.06-.94-.94-2.06-.94 2.06-2.06.94z\"/><path d=\"M17.41 7.96l-1.37-1.37c-.4-.4-.92-.59-1.43-.59-.52 0-1.04.2-1.43.59L10.3 9.45l-7.72 7.72c-.78.78-.78 2.05 0 2.83L4 21.41c.39.39.9.59 1.41.59.51 0 1.02-.2 1.41-.59l7.78-7.78 2.81-2.81c.8-.78.8-2.07 0-2.86zM5.41 20L4 18.59l7.72-7.72 1.47 1.35L5.41 20z\"/>\n",
              "  </svg>\n",
              "      </button>\n",
              "      \n",
              "  <style>\n",
              "    .colab-df-container {\n",
              "      display:flex;\n",
              "      flex-wrap:wrap;\n",
              "      gap: 12px;\n",
              "    }\n",
              "\n",
              "    .colab-df-convert {\n",
              "      background-color: #E8F0FE;\n",
              "      border: none;\n",
              "      border-radius: 50%;\n",
              "      cursor: pointer;\n",
              "      display: none;\n",
              "      fill: #1967D2;\n",
              "      height: 32px;\n",
              "      padding: 0 0 0 0;\n",
              "      width: 32px;\n",
              "    }\n",
              "\n",
              "    .colab-df-convert:hover {\n",
              "      background-color: #E2EBFA;\n",
              "      box-shadow: 0px 1px 2px rgba(60, 64, 67, 0.3), 0px 1px 3px 1px rgba(60, 64, 67, 0.15);\n",
              "      fill: #174EA6;\n",
              "    }\n",
              "\n",
              "    [theme=dark] .colab-df-convert {\n",
              "      background-color: #3B4455;\n",
              "      fill: #D2E3FC;\n",
              "    }\n",
              "\n",
              "    [theme=dark] .colab-df-convert:hover {\n",
              "      background-color: #434B5C;\n",
              "      box-shadow: 0px 1px 3px 1px rgba(0, 0, 0, 0.15);\n",
              "      filter: drop-shadow(0px 1px 2px rgba(0, 0, 0, 0.3));\n",
              "      fill: #FFFFFF;\n",
              "    }\n",
              "  </style>\n",
              "\n",
              "      <script>\n",
              "        const buttonEl =\n",
              "          document.querySelector('#df-f3f694a4-2bf5-4645-835b-15a47a0ff19f button.colab-df-convert');\n",
              "        buttonEl.style.display =\n",
              "          google.colab.kernel.accessAllowed ? 'block' : 'none';\n",
              "\n",
              "        async function convertToInteractive(key) {\n",
              "          const element = document.querySelector('#df-f3f694a4-2bf5-4645-835b-15a47a0ff19f');\n",
              "          const dataTable =\n",
              "            await google.colab.kernel.invokeFunction('convertToInteractive',\n",
              "                                                     [key], {});\n",
              "          if (!dataTable) return;\n",
              "\n",
              "          const docLinkHtml = 'Like what you see? Visit the ' +\n",
              "            '<a target=\"_blank\" href=https://colab.research.google.com/notebooks/data_table.ipynb>data table notebook</a>'\n",
              "            + ' to learn more about interactive tables.';\n",
              "          element.innerHTML = '';\n",
              "          dataTable['output_type'] = 'display_data';\n",
              "          await google.colab.output.renderOutput(dataTable, element);\n",
              "          const docLink = document.createElement('div');\n",
              "          docLink.innerHTML = docLinkHtml;\n",
              "          element.appendChild(docLink);\n",
              "        }\n",
              "      </script>\n",
              "    </div>\n",
              "  </div>\n",
              "  "
            ]
          },
          "metadata": {},
          "execution_count": 7
        }
      ]
    },
    {
      "cell_type": "code",
      "execution_count": null,
      "id": "e38942ba",
      "metadata": {
        "id": "e38942ba",
        "colab": {
          "base_uri": "https://localhost:8080/"
        },
        "outputId": "09cbce07-65ed-45ce-ed29-3bd58acde827"
      },
      "outputs": [
        {
          "output_type": "stream",
          "name": "stdout",
          "text": [
            "(67127, 4)\n",
            "(67125, 4)\n"
          ]
        }
      ],
      "source": [
        "print(df.shape)\n",
        "df=df.dropna()\n",
        "df=df.drop_duplicates()\n",
        "print(df.shape)"
      ]
    },
    {
      "cell_type": "markdown",
      "source": [
        "# **data visualization**"
      ],
      "metadata": {
        "id": "TyjYupuzcuhz"
      },
      "id": "TyjYupuzcuhz"
    },
    {
      "cell_type": "code",
      "execution_count": null,
      "id": "1555b323",
      "metadata": {
        "id": "1555b323",
        "colab": {
          "base_uri": "https://localhost:8080/",
          "height": 346
        },
        "outputId": "cc1b047f-2e2c-426b-c682-bd70a57a233d"
      },
      "outputs": [
        {
          "output_type": "execute_result",
          "data": {
            "text/plain": [
              "<matplotlib.axes._subplots.AxesSubplot at 0x7f0216533a30>"
            ]
          },
          "metadata": {},
          "execution_count": 9
        },
        {
          "output_type": "display_data",
          "data": {
            "text/plain": [
              "<Figure size 432x288 with 1 Axes>"
            ],
            "image/png": "[encoded data removed]"
          },
          "metadata": {
            "needs_background": "light"
          }
        }
      ],
      "source": [
        "df.company.value_counts().plot(kind='bar')"
      ]
    },
    {
      "cell_type": "code",
      "source": [
        "fig = px.sunburst(df, path=['rating'],title= ' rating')\n",
        "fig.update_traces(textinfo='label + percent parent')"
      ],
      "metadata": {
        "id": "4FUR3q51DYyo",
        "colab": {
          "base_uri": "https://localhost:8080/",
          "height": 542
        },
        "outputId": "3fa4441c-c486-48e1-fe26-a971a404de43"
      },
      "id": "4FUR3q51DYyo",
      "execution_count": null,
      "outputs": [
        {
          "output_type": "display_data",
          "data": {
            "text/html": [
              "<html>\n",
              "<head><meta charset=\"utf-8\" /></head>\n",
              "<body>\n",
              "    <div>            <script src=\"https://cdnjs.cloudflare.com/ajax/libs/mathjax/2.7.5/MathJax.js?config=TeX-AMS-MML_SVG\"></script><script type=\"text/javascript\">if (window.MathJax) {MathJax.Hub.Config({SVG: {font: \"STIX-Web\"}});}</script>                <script type=\"text/javascript\">window.PlotlyConfig = {MathJaxConfig: 'local'};</script>\n",
              "        <script src=\"https://cdn.plot.ly/plotly-2.8.3.min.js\"></script>                <div id=\"6c914c8b-4984-48c0-a85c-60ec8f9dd753\" class=\"plotly-graph-div\" style=\"height:525px; width:100%;\"></div>            <script type=\"text/javascript\">                                    window.PLOTLYENV=window.PLOTLYENV || {};                                    if (document.getElementById(\"6c914c8b-4984-48c0-a85c-60ec8f9dd753\")) {                    Plotly.newPlot(                        \"6c914c8b-4984-48c0-a85c-60ec8f9dd753\",                        [{\"branchvalues\":\"total\",\"domain\":{\"x\":[0.0,1.0],\"y\":[0.0,1.0]},\"hovertemplate\":\"labels=%{label}<br>count=%{value}<br>parent=%{parent}<br>id=%{id}<extra></extra>\",\"ids\":[\"-1\",\"0\",\"1\"],\"labels\":[\"-1\",\"0\",\"1\"],\"name\":\"\",\"parents\":[\"\",\"\",\"\"],\"values\":[23035,23751,20339],\"type\":\"sunburst\",\"textinfo\":\"label+percent parent\"}],                        {\"template\":{\"data\":{\"bar\":[{\"error_x\":{\"color\":\"#2a3f5f\"},\"error_y\":{\"color\":\"#2a3f5f\"},\"marker\":{\"line\":{\"color\":\"#E5ECF6\",\"width\":0.5},\"pattern\":{\"fillmode\":\"overlay\",\"size\":10,\"solidity\":0.2}},\"type\":\"bar\"}],\"barpolar\":[{\"marker\":{\"line\":{\"color\":\"#E5ECF6\",\"width\":0.5},\"pattern\":{\"fillmode\":\"overlay\",\"size\":10,\"solidity\":0.2}},\"type\":\"barpolar\"}],\"carpet\":[{\"aaxis\":{\"endlinecolor\":\"#2a3f5f\",\"gridcolor\":\"white\",\"linecolor\":\"white\",\"minorgridcolor\":\"white\",\"startlinecolor\":\"#2a3f5f\"},\"baxis\":{\"endlinecolor\":\"#2a3f5f\",\"gridcolor\":\"white\",\"linecolor\":\"white\",\"minorgridcolor\":\"white\",\"startlinecolor\":\"#2a3f5f\"},\"type\":\"carpet\"}],\"choropleth\":[{\"colorbar\":{\"outlinewidth\":0,\"ticks\":\"\"},\"type\":\"choropleth\"}],\"contour\":[{\"colorbar\":{\"outlinewidth\":0,\"ticks\":\"\"},\"colorscale\":[[0.0,\"#0d0887\"],[0.1111111111111111,\"#46039f\"],[0.2222222222222222,\"#7201a8\"],[0.3333333333333333,\"#9c179e\"],[0.4444444444444444,\"#bd3786\"],[0.5555555555555556,\"#d8576b\"],[0.6666666666666666,\"#ed7953\"],[0.7777777777777778,\"#fb9f3a\"],[0.8888888888888888,\"#fdca26\"],[1.0,\"#f0f921\"]],\"type\":\"contour\"}],\"contourcarpet\":[{\"colorbar\":{\"outlinewidth\":0,\"ticks\":\"\"},\"type\":\"contourcarpet\"}],\"heatmap\":[{\"colorbar\":{\"outlinewidth\":0,\"ticks\":\"\"},\"colorscale\":[[0.0,\"#0d0887\"],[0.1111111111111111,\"#46039f\"],[0.2222222222222222,\"#7201a8\"],[0.3333333333333333,\"#9c179e\"],[0.4444444444444444,\"#bd3786\"],[0.5555555555555556,\"#d8576b\"],[0.6666666666666666,\"#ed7953\"],[0.7777777777777778,\"#fb9f3a\"],[0.8888888888888888,\"#fdca26\"],[1.0,\"#f0f921\"]],\"type\":\"heatmap\"}],\"heatmapgl\":[{\"colorbar\":{\"outlinewidth\":0,\"ticks\":\"\"},\"colorscale\":[[0.0,\"#0d0887\"],[0.1111111111111111,\"#46039f\"],[0.2222222222222222,\"#7201a8\"],[0.3333333333333333,\"#9c179e\"],[0.4444444444444444,\"#bd3786\"],[0.5555555555555556,\"#d8576b\"],[0.6666666666666666,\"#ed7953\"],[0.7777777777777778,\"#fb9f3a\"],[0.8888888888888888,\"#fdca26\"],[1.0,\"#f0f921\"]],\"type\":\"heatmapgl\"}],\"histogram\":[{\"marker\":{\"pattern\":{\"fillmode\":\"overlay\",\"size\":10,\"solidity\":0.2}},\"type\":\"histogram\"}],\"histogram2d\":[{\"colorbar\":{\"outlinewidth\":0,\"ticks\":\"\"},\"colorscale\":[[0.0,\"#0d0887\"],[0.1111111111111111,\"#46039f\"],[0.2222222222222222,\"#7201a8\"],[0.3333333333333333,\"#9c179e\"],[0.4444444444444444,\"#bd3786\"],[0.5555555555555556,\"#d8576b\"],[0.6666666666666666,\"#ed7953\"],[0.7777777777777778,\"#fb9f3a\"],[0.8888888888888888,\"#fdca26\"],[1.0,\"#f0f921\"]],\"type\":\"histogram2d\"}],\"histogram2dcontour\":[{\"colorbar\":{\"outlinewidth\":0,\"ticks\":\"\"},\"colorscale\":[[0.0,\"#0d0887\"],[0.1111111111111111,\"#46039f\"],[0.2222222222222222,\"#7201a8\"],[0.3333333333333333,\"#9c179e\"],[0.4444444444444444,\"#bd3786\"],[0.5555555555555556,\"#d8576b\"],[0.6666666666666666,\"#ed7953\"],[0.7777777777777778,\"#fb9f3a\"],[0.8888888888888888,\"#fdca26\"],[1.0,\"#f0f921\"]],\"type\":\"histogram2dcontour\"}],\"mesh3d\":[{\"colorbar\":{\"outlinewidth\":0,\"ticks\":\"\"},\"type\":\"mesh3d\"}],\"parcoords\":[{\"line\":{\"colorbar\":{\"outlinewidth\":0,\"ticks\":\"\"}},\"type\":\"parcoords\"}],\"pie\":[{\"automargin\":true,\"type\":\"pie\"}],\"scatter\":[{\"marker\":{\"colorbar\":{\"outlinewidth\":0,\"ticks\":\"\"}},\"type\":\"scatter\"}],\"scatter3d\":[{\"line\":{\"colorbar\":{\"outlinewidth\":0,\"ticks\":\"\"}},\"marker\":{\"colorbar\":{\"outlinewidth\":0,\"ticks\":\"\"}},\"type\":\"scatter3d\"}],\"scattercarpet\":[{\"marker\":{\"colorbar\":{\"outlinewidth\":0,\"ticks\":\"\"}},\"type\":\"scattercarpet\"}],\"scattergeo\":[{\"marker\":{\"colorbar\":{\"outlinewidth\":0,\"ticks\":\"\"}},\"type\":\"scattergeo\"}],\"scattergl\":[{\"marker\":{\"colorbar\":{\"outlinewidth\":0,\"ticks\":\"\"}},\"type\":\"scattergl\"}],\"scattermapbox\":[{\"marker\":{\"colorbar\":{\"outlinewidth\":0,\"ticks\":\"\"}},\"type\":\"scattermapbox\"}],\"scatterpolar\":[{\"marker\":{\"colorbar\":{\"outlinewidth\":0,\"ticks\":\"\"}},\"type\":\"scatterpolar\"}],\"scatterpolargl\":[{\"marker\":{\"colorbar\":{\"outlinewidth\":0,\"ticks\":\"\"}},\"type\":\"scatterpolargl\"}],\"scatterternary\":[{\"marker\":{\"colorbar\":{\"outlinewidth\":0,\"ticks\":\"\"}},\"type\":\"scatterternary\"}],\"surface\":[{\"colorbar\":{\"outlinewidth\":0,\"ticks\":\"\"},\"colorscale\":[[0.0,\"#0d0887\"],[0.1111111111111111,\"#46039f\"],[0.2222222222222222,\"#7201a8\"],[0.3333333333333333,\"#9c179e\"],[0.4444444444444444,\"#bd3786\"],[0.5555555555555556,\"#d8576b\"],[0.6666666666666666,\"#ed7953\"],[0.7777777777777778,\"#fb9f3a\"],[0.8888888888888888,\"#fdca26\"],[1.0,\"#f0f921\"]],\"type\":\"surface\"}],\"table\":[{\"cells\":{\"fill\":{\"color\":\"#EBF0F8\"},\"line\":{\"color\":\"white\"}},\"header\":{\"fill\":{\"color\":\"#C8D4E3\"},\"line\":{\"color\":\"white\"}},\"type\":\"table\"}]},\"layout\":{\"annotationdefaults\":{\"arrowcolor\":\"#2a3f5f\",\"arrowhead\":0,\"arrowwidth\":1},\"autotypenumbers\":\"strict\",\"coloraxis\":{\"colorbar\":{\"outlinewidth\":0,\"ticks\":\"\"}},\"colorscale\":{\"diverging\":[[0,\"#8e0152\"],[0.1,\"#c51b7d\"],[0.2,\"#de77ae\"],[0.3,\"#f1b6da\"],[0.4,\"#fde0ef\"],[0.5,\"#f7f7f7\"],[0.6,\"#e6f5d0\"],[0.7,\"#b8e186\"],[0.8,\"#7fbc41\"],[0.9,\"#4d9221\"],[1,\"#276419\"]],\"sequential\":[[0.0,\"#0d0887\"],[0.1111111111111111,\"#46039f\"],[0.2222222222222222,\"#7201a8\"],[0.3333333333333333,\"#9c179e\"],[0.4444444444444444,\"#bd3786\"],[0.5555555555555556,\"#d8576b\"],[0.6666666666666666,\"#ed7953\"],[0.7777777777777778,\"#fb9f3a\"],[0.8888888888888888,\"#fdca26\"],[1.0,\"#f0f921\"]],\"sequentialminus\":[[0.0,\"#0d0887\"],[0.1111111111111111,\"#46039f\"],[0.2222222222222222,\"#7201a8\"],[0.3333333333333333,\"#9c179e\"],[0.4444444444444444,\"#bd3786\"],[0.5555555555555556,\"#d8576b\"],[0.6666666666666666,\"#ed7953\"],[0.7777777777777778,\"#fb9f3a\"],[0.8888888888888888,\"#fdca26\"],[1.0,\"#f0f921\"]]},\"colorway\":[\"#636efa\",\"#EF553B\",\"#00cc96\",\"#ab63fa\",\"#FFA15A\",\"#19d3f3\",\"#FF6692\",\"#B6E880\",\"#FF97FF\",\"#FECB52\"],\"font\":{\"color\":\"#2a3f5f\"},\"geo\":{\"bgcolor\":\"white\",\"lakecolor\":\"white\",\"landcolor\":\"#E5ECF6\",\"showlakes\":true,\"showland\":true,\"subunitcolor\":\"white\"},\"hoverlabel\":{\"align\":\"left\"},\"hovermode\":\"closest\",\"mapbox\":{\"style\":\"light\"},\"paper_bgcolor\":\"white\",\"plot_bgcolor\":\"#E5ECF6\",\"polar\":{\"angularaxis\":{\"gridcolor\":\"white\",\"linecolor\":\"white\",\"ticks\":\"\"},\"bgcolor\":\"#E5ECF6\",\"radialaxis\":{\"gridcolor\":\"white\",\"linecolor\":\"white\",\"ticks\":\"\"}},\"scene\":{\"xaxis\":{\"backgroundcolor\":\"#E5ECF6\",\"gridcolor\":\"white\",\"gridwidth\":2,\"linecolor\":\"white\",\"showbackground\":true,\"ticks\":\"\",\"zerolinecolor\":\"white\"},\"yaxis\":{\"backgroundcolor\":\"#E5ECF6\",\"gridcolor\":\"white\",\"gridwidth\":2,\"linecolor\":\"white\",\"showbackground\":true,\"ticks\":\"\",\"zerolinecolor\":\"white\"},\"zaxis\":{\"backgroundcolor\":\"#E5ECF6\",\"gridcolor\":\"white\",\"gridwidth\":2,\"linecolor\":\"white\",\"showbackground\":true,\"ticks\":\"\",\"zerolinecolor\":\"white\"}},\"shapedefaults\":{\"line\":{\"color\":\"#2a3f5f\"}},\"ternary\":{\"aaxis\":{\"gridcolor\":\"white\",\"linecolor\":\"white\",\"ticks\":\"\"},\"baxis\":{\"gridcolor\":\"white\",\"linecolor\":\"white\",\"ticks\":\"\"},\"bgcolor\":\"#E5ECF6\",\"caxis\":{\"gridcolor\":\"white\",\"linecolor\":\"white\",\"ticks\":\"\"}},\"title\":{\"x\":0.05},\"xaxis\":{\"automargin\":true,\"gridcolor\":\"white\",\"linecolor\":\"white\",\"ticks\":\"\",\"title\":{\"standoff\":15},\"zerolinecolor\":\"white\",\"zerolinewidth\":2},\"yaxis\":{\"automargin\":true,\"gridcolor\":\"white\",\"linecolor\":\"white\",\"ticks\":\"\",\"title\":{\"standoff\":15},\"zerolinecolor\":\"white\",\"zerolinewidth\":2}}},\"legend\":{\"tracegroupgap\":0},\"title\":{\"text\":\" rating\"}},                        {\"responsive\": true}                    ).then(function(){\n",
              "                            \n",
              "var gd = document.getElementById('6c914c8b-4984-48c0-a85c-60ec8f9dd753');\n",
              "var x = new MutationObserver(function (mutations, observer) {{\n",
              "        var display = window.getComputedStyle(gd).display;\n",
              "        if (!display || display === 'none') {{\n",
              "            console.log([gd, 'removed!']);\n",
              "            Plotly.purge(gd);\n",
              "            observer.disconnect();\n",
              "        }}\n",
              "}});\n",
              "\n",
              "// Listen for the removal of the full notebook cells\n",
              "var notebookContainer = gd.closest('#notebook-container');\n",
              "if (notebookContainer) {{\n",
              "    x.observe(notebookContainer, {childList: true});\n",
              "}}\n",
              "\n",
              "// Listen for the clearing of the current output cell\n",
              "var outputEl = gd.closest('.output');\n",
              "if (outputEl) {{\n",
              "    x.observe(outputEl, {childList: true});\n",
              "}}\n",
              "\n",
              "                        })                };                            </script>        </div>\n",
              "</body>\n",
              "</html>"
            ]
          },
          "metadata": {}
        }
      ]
    },
    {
      "cell_type": "code",
      "source": [
        "sns.countplot(df.rating)"
      ],
      "metadata": {
        "id": "sTBcPpW8Dqzf",
        "colab": {
          "base_uri": "https://localhost:8080/",
          "height": 386
        },
        "outputId": "208c60e2-bfe0-4591-a479-a2fa8313c8b5"
      },
      "id": "sTBcPpW8Dqzf",
      "execution_count": null,
      "outputs": [
        {
          "output_type": "stream",
          "name": "stderr",
          "text": [
            "/usr/local/lib/python3.8/dist-packages/seaborn/_decorators.py:36: FutureWarning:\n",
            "\n",
            "Pass the following variable as a keyword arg: x. From version 0.12, the only valid positional argument will be `data`, and passing other arguments without an explicit keyword will result in an error or misinterpretation.\n",
            "\n"
          ]
        },
        {
          "output_type": "execute_result",
          "data": {
            "text/plain": [
              "<matplotlib.axes._subplots.AxesSubplot at 0x7f02155045e0>"
            ]
          },
          "metadata": {},
          "execution_count": 11
        },
        {
          "output_type": "display_data",
          "data": {
            "text/plain": [
              "<Figure size 432x288 with 1 Axes>"
            ],
            "image/png": "[encoded data removed]"
          },
          "metadata": {
            "needs_background": "light"
          }
        }
      ]
    },
    {
      "cell_type": "code",
      "execution_count": null,
      "metadata": {
        "id": "G0pi9YWdDab1",
        "colab": {
          "base_uri": "https://localhost:8080/",
          "height": 542
        },
        "outputId": "4a97b2fe-78ea-4e0c-90c1-796b5a8c6538"
      },
      "outputs": [
        {
          "output_type": "display_data",
          "data": {
            "text/html": [
              "<html>\n",
              "<head><meta charset=\"utf-8\" /></head>\n",
              "<body>\n",
              "    <div>            <script src=\"https://cdnjs.cloudflare.com/ajax/libs/mathjax/2.7.5/MathJax.js?config=TeX-AMS-MML_SVG\"></script><script type=\"text/javascript\">if (window.MathJax) {MathJax.Hub.Config({SVG: {font: \"STIX-Web\"}});}</script>                <script type=\"text/javascript\">window.PlotlyConfig = {MathJaxConfig: 'local'};</script>\n",
              "        <script src=\"https://cdn.plot.ly/plotly-2.8.3.min.js\"></script>                <div id=\"3d7b2195-30f7-4ba6-af6b-8142b20efc1b\" class=\"plotly-graph-div\" style=\"height:525px; width:100%;\"></div>            <script type=\"text/javascript\">                                    window.PLOTLYENV=window.PLOTLYENV || {};                                    if (document.getElementById(\"3d7b2195-30f7-4ba6-af6b-8142b20efc1b\")) {                    Plotly.newPlot(                        \"3d7b2195-30f7-4ba6-af6b-8142b20efc1b\",                        [{\"branchvalues\":\"total\",\"domain\":{\"x\":[0.0,1.0],\"y\":[0.0,1.0]},\"hovertemplate\":\"labels=%{label}<br>count=%{value}<br>parent=%{parent}<br>id=%{id}<extra></extra>\",\"ids\":[\"Raya/-1\",\"alahli_bank/-1\",\"hilton/-1\",\"swvl/-1\",\"talbat/-1\",\"telecom_egypt/-1\",\"venus/-1\",\"Raya/0\",\"alahli_bank/0\",\"hilton/0\",\"hotels/0\",\"swvl/0\",\"talbat/0\",\"telecom_egypt/0\",\"venus/0\",\"Raya/1\",\"alahli_bank/1\",\"hilton/1\",\"swvl/1\",\"talbat/1\",\"telecom_egypt/1\",\"venus/1\",\"Raya\",\"alahli_bank\",\"hilton\",\"hotels\",\"swvl\",\"talbat\",\"telecom_egypt\",\"venus\"],\"labels\":[\"-1\",\"-1\",\"-1\",\"-1\",\"-1\",\"-1\",\"-1\",\"0\",\"0\",\"0\",\"0\",\"0\",\"0\",\"0\",\"0\",\"1\",\"1\",\"1\",\"1\",\"1\",\"1\",\"1\",\"Raya\",\"alahli_bank\",\"hilton\",\"hotels\",\"swvl\",\"talbat\",\"telecom_egypt\",\"venus\"],\"name\":\"\",\"parents\":[\"Raya\",\"alahli_bank\",\"hilton\",\"swvl\",\"talbat\",\"telecom_egypt\",\"venus\",\"Raya\",\"alahli_bank\",\"hilton\",\"hotels\",\"swvl\",\"talbat\",\"telecom_egypt\",\"venus\",\"Raya\",\"alahli_bank\",\"hilton\",\"swvl\",\"talbat\",\"telecom_egypt\",\"venus\",\"\",\"\",\"\",\"\",\"\",\"\",\"\",\"\"],\"values\":[164,9202,24,1770,10657,1141,77,8,405,6,19998,418,2749,128,39,46,212,21,1938,17542,480,100,218,9819,51,19998,4126,30948,1749,216],\"type\":\"sunburst\",\"textinfo\":\"label+percent parent\"}],                        {\"template\":{\"data\":{\"bar\":[{\"error_x\":{\"color\":\"#2a3f5f\"},\"error_y\":{\"color\":\"#2a3f5f\"},\"marker\":{\"line\":{\"color\":\"#E5ECF6\",\"width\":0.5},\"pattern\":{\"fillmode\":\"overlay\",\"size\":10,\"solidity\":0.2}},\"type\":\"bar\"}],\"barpolar\":[{\"marker\":{\"line\":{\"color\":\"#E5ECF6\",\"width\":0.5},\"pattern\":{\"fillmode\":\"overlay\",\"size\":10,\"solidity\":0.2}},\"type\":\"barpolar\"}],\"carpet\":[{\"aaxis\":{\"endlinecolor\":\"#2a3f5f\",\"gridcolor\":\"white\",\"linecolor\":\"white\",\"minorgridcolor\":\"white\",\"startlinecolor\":\"#2a3f5f\"},\"baxis\":{\"endlinecolor\":\"#2a3f5f\",\"gridcolor\":\"white\",\"linecolor\":\"white\",\"minorgridcolor\":\"white\",\"startlinecolor\":\"#2a3f5f\"},\"type\":\"carpet\"}],\"choropleth\":[{\"colorbar\":{\"outlinewidth\":0,\"ticks\":\"\"},\"type\":\"choropleth\"}],\"contour\":[{\"colorbar\":{\"outlinewidth\":0,\"ticks\":\"\"},\"colorscale\":[[0.0,\"#0d0887\"],[0.1111111111111111,\"#46039f\"],[0.2222222222222222,\"#7201a8\"],[0.3333333333333333,\"#9c179e\"],[0.4444444444444444,\"#bd3786\"],[0.5555555555555556,\"#d8576b\"],[0.6666666666666666,\"#ed7953\"],[0.7777777777777778,\"#fb9f3a\"],[0.8888888888888888,\"#fdca26\"],[1.0,\"#f0f921\"]],\"type\":\"contour\"}],\"contourcarpet\":[{\"colorbar\":{\"outlinewidth\":0,\"ticks\":\"\"},\"type\":\"contourcarpet\"}],\"heatmap\":[{\"colorbar\":{\"outlinewidth\":0,\"ticks\":\"\"},\"colorscale\":[[0.0,\"#0d0887\"],[0.1111111111111111,\"#46039f\"],[0.2222222222222222,\"#7201a8\"],[0.3333333333333333,\"#9c179e\"],[0.4444444444444444,\"#bd3786\"],[0.5555555555555556,\"#d8576b\"],[0.6666666666666666,\"#ed7953\"],[0.7777777777777778,\"#fb9f3a\"],[0.8888888888888888,\"#fdca26\"],[1.0,\"#f0f921\"]],\"type\":\"heatmap\"}],\"heatmapgl\":[{\"colorbar\":{\"outlinewidth\":0,\"ticks\":\"\"},\"colorscale\":[[0.0,\"#0d0887\"],[0.1111111111111111,\"#46039f\"],[0.2222222222222222,\"#7201a8\"],[0.3333333333333333,\"#9c179e\"],[0.4444444444444444,\"#bd3786\"],[0.5555555555555556,\"#d8576b\"],[0.6666666666666666,\"#ed7953\"],[0.7777777777777778,\"#fb9f3a\"],[0.8888888888888888,\"#fdca26\"],[1.0,\"#f0f921\"]],\"type\":\"heatmapgl\"}],\"histogram\":[{\"marker\":{\"pattern\":{\"fillmode\":\"overlay\",\"size\":10,\"solidity\":0.2}},\"type\":\"histogram\"}],\"histogram2d\":[{\"colorbar\":{\"outlinewidth\":0,\"ticks\":\"\"},\"colorscale\":[[0.0,\"#0d0887\"],[0.1111111111111111,\"#46039f\"],[0.2222222222222222,\"#7201a8\"],[0.3333333333333333,\"#9c179e\"],[0.4444444444444444,\"#bd3786\"],[0.5555555555555556,\"#d8576b\"],[0.6666666666666666,\"#ed7953\"],[0.7777777777777778,\"#fb9f3a\"],[0.8888888888888888,\"#fdca26\"],[1.0,\"#f0f921\"]],\"type\":\"histogram2d\"}],\"histogram2dcontour\":[{\"colorbar\":{\"outlinewidth\":0,\"ticks\":\"\"},\"colorscale\":[[0.0,\"#0d0887\"],[0.1111111111111111,\"#46039f\"],[0.2222222222222222,\"#7201a8\"],[0.3333333333333333,\"#9c179e\"],[0.4444444444444444,\"#bd3786\"],[0.5555555555555556,\"#d8576b\"],[0.6666666666666666,\"#ed7953\"],[0.7777777777777778,\"#fb9f3a\"],[0.8888888888888888,\"#fdca26\"],[1.0,\"#f0f921\"]],\"type\":\"histogram2dcontour\"}],\"mesh3d\":[{\"colorbar\":{\"outlinewidth\":0,\"ticks\":\"\"},\"type\":\"mesh3d\"}],\"parcoords\":[{\"line\":{\"colorbar\":{\"outlinewidth\":0,\"ticks\":\"\"}},\"type\":\"parcoords\"}],\"pie\":[{\"automargin\":true,\"type\":\"pie\"}],\"scatter\":[{\"marker\":{\"colorbar\":{\"outlinewidth\":0,\"ticks\":\"\"}},\"type\":\"scatter\"}],\"scatter3d\":[{\"line\":{\"colorbar\":{\"outlinewidth\":0,\"ticks\":\"\"}},\"marker\":{\"colorbar\":{\"outlinewidth\":0,\"ticks\":\"\"}},\"type\":\"scatter3d\"}],\"scattercarpet\":[{\"marker\":{\"colorbar\":{\"outlinewidth\":0,\"ticks\":\"\"}},\"type\":\"scattercarpet\"}],\"scattergeo\":[{\"marker\":{\"colorbar\":{\"outlinewidth\":0,\"ticks\":\"\"}},\"type\":\"scattergeo\"}],\"scattergl\":[{\"marker\":{\"colorbar\":{\"outlinewidth\":0,\"ticks\":\"\"}},\"type\":\"scattergl\"}],\"scattermapbox\":[{\"marker\":{\"colorbar\":{\"outlinewidth\":0,\"ticks\":\"\"}},\"type\":\"scattermapbox\"}],\"scatterpolar\":[{\"marker\":{\"colorbar\":{\"outlinewidth\":0,\"ticks\":\"\"}},\"type\":\"scatterpolar\"}],\"scatterpolargl\":[{\"marker\":{\"colorbar\":{\"outlinewidth\":0,\"ticks\":\"\"}},\"type\":\"scatterpolargl\"}],\"scatterternary\":[{\"marker\":{\"colorbar\":{\"outlinewidth\":0,\"ticks\":\"\"}},\"type\":\"scatterternary\"}],\"surface\":[{\"colorbar\":{\"outlinewidth\":0,\"ticks\":\"\"},\"colorscale\":[[0.0,\"#0d0887\"],[0.1111111111111111,\"#46039f\"],[0.2222222222222222,\"#7201a8\"],[0.3333333333333333,\"#9c179e\"],[0.4444444444444444,\"#bd3786\"],[0.5555555555555556,\"#d8576b\"],[0.6666666666666666,\"#ed7953\"],[0.7777777777777778,\"#fb9f3a\"],[0.8888888888888888,\"#fdca26\"],[1.0,\"#f0f921\"]],\"type\":\"surface\"}],\"table\":[{\"cells\":{\"fill\":{\"color\":\"#EBF0F8\"},\"line\":{\"color\":\"white\"}},\"header\":{\"fill\":{\"color\":\"#C8D4E3\"},\"line\":{\"color\":\"white\"}},\"type\":\"table\"}]},\"layout\":{\"annotationdefaults\":{\"arrowcolor\":\"#2a3f5f\",\"arrowhead\":0,\"arrowwidth\":1},\"autotypenumbers\":\"strict\",\"coloraxis\":{\"colorbar\":{\"outlinewidth\":0,\"ticks\":\"\"}},\"colorscale\":{\"diverging\":[[0,\"#8e0152\"],[0.1,\"#c51b7d\"],[0.2,\"#de77ae\"],[0.3,\"#f1b6da\"],[0.4,\"#fde0ef\"],[0.5,\"#f7f7f7\"],[0.6,\"#e6f5d0\"],[0.7,\"#b8e186\"],[0.8,\"#7fbc41\"],[0.9,\"#4d9221\"],[1,\"#276419\"]],\"sequential\":[[0.0,\"#0d0887\"],[0.1111111111111111,\"#46039f\"],[0.2222222222222222,\"#7201a8\"],[0.3333333333333333,\"#9c179e\"],[0.4444444444444444,\"#bd3786\"],[0.5555555555555556,\"#d8576b\"],[0.6666666666666666,\"#ed7953\"],[0.7777777777777778,\"#fb9f3a\"],[0.8888888888888888,\"#fdca26\"],[1.0,\"#f0f921\"]],\"sequentialminus\":[[0.0,\"#0d0887\"],[0.1111111111111111,\"#46039f\"],[0.2222222222222222,\"#7201a8\"],[0.3333333333333333,\"#9c179e\"],[0.4444444444444444,\"#bd3786\"],[0.5555555555555556,\"#d8576b\"],[0.6666666666666666,\"#ed7953\"],[0.7777777777777778,\"#fb9f3a\"],[0.8888888888888888,\"#fdca26\"],[1.0,\"#f0f921\"]]},\"colorway\":[\"#636efa\",\"#EF553B\",\"#00cc96\",\"#ab63fa\",\"#FFA15A\",\"#19d3f3\",\"#FF6692\",\"#B6E880\",\"#FF97FF\",\"#FECB52\"],\"font\":{\"color\":\"#2a3f5f\"},\"geo\":{\"bgcolor\":\"white\",\"lakecolor\":\"white\",\"landcolor\":\"#E5ECF6\",\"showlakes\":true,\"showland\":true,\"subunitcolor\":\"white\"},\"hoverlabel\":{\"align\":\"left\"},\"hovermode\":\"closest\",\"mapbox\":{\"style\":\"light\"},\"paper_bgcolor\":\"white\",\"plot_bgcolor\":\"#E5ECF6\",\"polar\":{\"angularaxis\":{\"gridcolor\":\"white\",\"linecolor\":\"white\",\"ticks\":\"\"},\"bgcolor\":\"#E5ECF6\",\"radialaxis\":{\"gridcolor\":\"white\",\"linecolor\":\"white\",\"ticks\":\"\"}},\"scene\":{\"xaxis\":{\"backgroundcolor\":\"#E5ECF6\",\"gridcolor\":\"white\",\"gridwidth\":2,\"linecolor\":\"white\",\"showbackground\":true,\"ticks\":\"\",\"zerolinecolor\":\"white\"},\"yaxis\":{\"backgroundcolor\":\"#E5ECF6\",\"gridcolor\":\"white\",\"gridwidth\":2,\"linecolor\":\"white\",\"showbackground\":true,\"ticks\":\"\",\"zerolinecolor\":\"white\"},\"zaxis\":{\"backgroundcolor\":\"#E5ECF6\",\"gridcolor\":\"white\",\"gridwidth\":2,\"linecolor\":\"white\",\"showbackground\":true,\"ticks\":\"\",\"zerolinecolor\":\"white\"}},\"shapedefaults\":{\"line\":{\"color\":\"#2a3f5f\"}},\"ternary\":{\"aaxis\":{\"gridcolor\":\"white\",\"linecolor\":\"white\",\"ticks\":\"\"},\"baxis\":{\"gridcolor\":\"white\",\"linecolor\":\"white\",\"ticks\":\"\"},\"bgcolor\":\"#E5ECF6\",\"caxis\":{\"gridcolor\":\"white\",\"linecolor\":\"white\",\"ticks\":\"\"}},\"title\":{\"x\":0.05},\"xaxis\":{\"automargin\":true,\"gridcolor\":\"white\",\"linecolor\":\"white\",\"ticks\":\"\",\"title\":{\"standoff\":15},\"zerolinecolor\":\"white\",\"zerolinewidth\":2},\"yaxis\":{\"automargin\":true,\"gridcolor\":\"white\",\"linecolor\":\"white\",\"ticks\":\"\",\"title\":{\"standoff\":15},\"zerolinecolor\":\"white\",\"zerolinewidth\":2}}},\"legend\":{\"tracegroupgap\":0},\"title\":{\"text\":\"Relation between company and rating\"}},                        {\"responsive\": true}                    ).then(function(){\n",
              "                            \n",
              "var gd = document.getElementById('3d7b2195-30f7-4ba6-af6b-8142b20efc1b');\n",
              "var x = new MutationObserver(function (mutations, observer) {{\n",
              "        var display = window.getComputedStyle(gd).display;\n",
              "        if (!display || display === 'none') {{\n",
              "            console.log([gd, 'removed!']);\n",
              "            Plotly.purge(gd);\n",
              "            observer.disconnect();\n",
              "        }}\n",
              "}});\n",
              "\n",
              "// Listen for the removal of the full notebook cells\n",
              "var notebookContainer = gd.closest('#notebook-container');\n",
              "if (notebookContainer) {{\n",
              "    x.observe(notebookContainer, {childList: true});\n",
              "}}\n",
              "\n",
              "// Listen for the clearing of the current output cell\n",
              "var outputEl = gd.closest('.output');\n",
              "if (outputEl) {{\n",
              "    x.observe(outputEl, {childList: true});\n",
              "}}\n",
              "\n",
              "                        })                };                            </script>        </div>\n",
              "</body>\n",
              "</html>"
            ]
          },
          "metadata": {}
        }
      ],
      "source": [
        "fig = px.sunburst(df, path=['company', 'rating'],title= 'Relation between company and rating')\n",
        "fig.update_traces(textinfo='label + percent parent')"
      ],
      "id": "G0pi9YWdDab1"
    },
    {
      "cell_type": "markdown",
      "source": [
        "# **data cleaning**"
      ],
      "metadata": {
        "id": "VmZQyVDPdGXi"
      },
      "id": "VmZQyVDPdGXi"
    },
    {
      "cell_type": "code",
      "execution_count": null,
      "id": "2295a62b",
      "metadata": {
        "id": "2295a62b"
      },
      "outputs": [],
      "source": [
        "def del_digits_and_pun(value,pun):\n",
        "    new_value= re.sub('[1-9]','',value)\n",
        "    for i in pun:\n",
        "        new_value=new_value.replace(i,' ')\n",
        "    return new_value"
      ]
    },
    {
      "cell_type": "code",
      "source": [
        "def tokens_review(x,stop_words):\n",
        "    x=str(x)\n",
        "    words=word_tokenize(x)\n",
        "    new_words=[]\n",
        "    for i in words:\n",
        "        text = re.sub(r'[^ء-ي ]',' ',i)\n",
        "        \n",
        "        if text not in stop_words:\n",
        "            new_words.append(text)\n",
        "    return new_words"
      ],
      "metadata": {
        "id": "t41DrPc0nBfE"
      },
      "id": "t41DrPc0nBfE",
      "execution_count": null,
      "outputs": []
    },
    {
      "cell_type": "markdown",
      "source": [
        "delete english punctuations and arabic punctuations from our reviews"
      ],
      "metadata": {
        "id": "Fmu8q_TddlVh"
      },
      "id": "Fmu8q_TddlVh"
    },
    {
      "cell_type": "code",
      "execution_count": null,
      "id": "d1298735",
      "metadata": {
        "id": "d1298735"
      },
      "outputs": [],
      "source": [
        "arabic_punctuations = \"\"\"\n",
        "`÷×؛،.<>_()*&^%][ـ،/:؟.,'{}~¦+|!”…“–#.ـ\n",
        "\"\"\"\n",
        "\n",
        "english_punctuations = string.punctuation\n",
        "punctuations_list = arabic_punctuations + english_punctuations\n",
        "punctuations_list\n",
        "list_pun=[i for i in punctuations_list]\n",
        "\n",
        "\n",
        "df.review_description=df.review_description.apply(del_digits_and_pun,args=[list_pun])\n",
        "\n"
      ]
    },
    {
      "cell_type": "markdown",
      "source": [
        "# ** staming  reviwe**"
      ],
      "metadata": {
        "id": "BlgrzPYsnJHH"
      },
      "id": "BlgrzPYsnJHH"
    },
    {
      "cell_type": "code",
      "source": [
        "def preprossing (review):\n",
        "  words=word_tokenize(review)\n",
        "  new_words=[]\n",
        "  stop_words=stopwords.words('arabic')\n",
        "  stop_words.remove('لا')\n",
        "  stop_words.remove('لكن')\n",
        "  stop_words.remove('ولكن')\n",
        "  stop_words.remove('واو')\n",
        "  stop_words.remove('أطعم')\n",
        "  stop_words.remove('أف')\n",
        "  stop_words.append('طلبات')\n",
        "  stop_words.append('شركه')\n",
        "  stop_words.append('برنامج')\n",
        "  stop_words.append('تطبيق')\n",
        "  for i in words:\n",
        "    stemmer = ARLSTem()\n",
        "    word = stemmer.stem(i)\n",
        "    if i in stop_words:\n",
        "      continue \n",
        "    new_words.append(word)\n",
        "\n",
        "  return new_words\n",
        "\n",
        "\n"
      ],
      "metadata": {
        "id": "1f7J0g7Bl3Sj"
      },
      "id": "1f7J0g7Bl3Sj",
      "execution_count": null,
      "outputs": []
    },
    {
      "cell_type": "code",
      "source": [
        "import nltk\n",
        "\n",
        "df.steming_list=df.review_description.apply(preprossing)"
      ],
      "metadata": {
        "colab": {
          "base_uri": "https://localhost:8080/"
        },
        "id": "e1PZVejYh84P",
        "outputId": "bed2bc9c-3ae7-41f1-8ce7-0b26de043391"
      },
      "id": "e1PZVejYh84P",
      "execution_count": null,
      "outputs": [
        {
          "output_type": "stream",
          "name": "stderr",
          "text": [
            "<ipython-input-17-7b2250f778a7>:3: UserWarning:\n",
            "\n",
            "Pandas doesn't allow columns to be created via a new attribute name - see https://pandas.pydata.org/pandas-docs/stable/indexing.html#attribute-access\n",
            "\n"
          ]
        }
      ]
    },
    {
      "cell_type": "markdown",
      "source": [
        "# **features extraction  word2vec**"
      ],
      "metadata": {
        "id": "8kcv7CgELJUi"
      },
      "id": "8kcv7CgELJUi"
    },
    {
      "cell_type": "code",
      "source": [
        "from gensim.models import Word2Vec\n",
        "sents=[]\n",
        "for i in df.steming_list:\n",
        "  sents.append(i)\n",
        "model=Word2Vec(sentences=sents, window=5, min_count=1, workers=4,size=100)"
      ],
      "metadata": {
        "id": "mR4U3sm5GUGe"
      },
      "id": "mR4U3sm5GUGe",
      "execution_count": null,
      "outputs": []
    },
    {
      "cell_type": "code",
      "source": [
        "X=np.zeros((100,), dtype=float)\n",
        "\n",
        "for i in  df.steming_list:\n",
        "  counter=0\n",
        "  sum=np.zeros((100,), dtype=float)\n",
        "  for x in i :\n",
        "    sum+=model.wv[x]\n",
        "    counter+=1\n",
        "  if counter==0 :\n",
        "    X=np.vstack((X,sum))\n",
        "  else:\n",
        "    X=np.vstack((X,sum/counter))\n",
        "X= np.delete(X, (0), axis=0)\n",
        "y=df.rating \n",
        "X.shape\n",
        "\n",
        "  "
      ],
      "metadata": {
        "colab": {
          "base_uri": "https://localhost:8080/"
        },
        "id": "M_WQH6YJHMI8",
        "outputId": "39f9fbfa-7160-4ca8-ee70-c82e479afd2d"
      },
      "id": "M_WQH6YJHMI8",
      "execution_count": null,
      "outputs": [
        {
          "output_type": "execute_result",
          "data": {
            "text/plain": [
              "(67125, 100)"
            ]
          },
          "metadata": {},
          "execution_count": 20
        }
      ]
    },
    {
      "cell_type": "code",
      "source": [
        "def get_accuracy(name, trained_model , x_train, y_train, x_test, y_test):\n",
        "    tree_predict = trained_model.predict(x_test)\n",
        "    print(\"Testing accuracy   :\",metrics.accuracy_score(y_test, tree_predict)*100 , \"%\")\n",
        "    print(\"MSE [TEST]          :\",mean_squared_error(y_test, tree_predict))\n",
        "\n",
        "\n",
        "    tree_predict1 = trained_model.predict(x_train)\n",
        "    print(\"Training accuracy  :\",metrics.accuracy_score(y_train, tree_predict1)*100 ,\"%\")\n",
        "    print(\"MSE [TRAIN]         :\",mean_squared_error(y_train, tree_predict1))\n",
        "\n",
        "    print(\"precision : \",precision_score(y_test, tree_predict,average='micro'))\n",
        "    print(\"recall    : \",recall_score(y_test, tree_predict,average='micro'))\n",
        "    print(\"f1_score  : \",f1_score(y_test, tree_predict,average='micro'))\n",
        "\n",
        "\n",
        "    cf1 = confusion_matrix(y_test,tree_predict)\n",
        "    sns.heatmap(cf1,annot=True,fmt = '.0f')\n",
        "    plt.xlabel('prediction')\n",
        "    plt.ylabel('Actual')\n",
        "    plt.title(name+ ' Confusion Matrix')\n",
        "    plt.show()\n",
        "\n",
        "    print(classification_report(y_train,  trained_model.predict(x_train)))\n",
        "    print(classification_report(y_test,  trained_model.predict(x_test)))"
      ],
      "metadata": {
        "id": "lsPln-RKrrYs"
      },
      "execution_count": null,
      "outputs": [],
      "id": "lsPln-RKrrYs"
    },
    {
      "cell_type": "markdown",
      "source": [
        "# ** LinearSVC model** "
      ],
      "metadata": {
        "id": "xxHliw13LQwf"
      },
      "id": "xxHliw13LQwf"
    },
    {
      "cell_type": "code",
      "source": [
        "from sklearn.model_selection import train_test_split\n",
        "\n",
        "def encod(x):\n",
        "  if x==-1:\n",
        "    return 0\n",
        "  if x== 0:\n",
        "    return 1\n",
        "  return 2\n",
        "y=df.rating\n",
        "y=y.apply(encod)\n",
        "x_train,x_test,y_train,y_test = train_test_split(X,y,random_state=42,test_size=0.10,shuffle=True)\n",
        "y_train_enc = tf.keras.utils.to_categorical(y_train)\n"
      ],
      "metadata": {
        "id": "ZIgZzaB5IBzk"
      },
      "id": "ZIgZzaB5IBzk",
      "execution_count": null,
      "outputs": []
    },
    {
      "cell_type": "code",
      "source": [
        "\n",
        "from sklearn.svm import LinearSVC\n",
        "trained_clf_svc = LinearSVC().fit(x_train, y_train)\n"
      ],
      "metadata": {
        "id": "6-mtTMDQHqHV"
      },
      "id": "6-mtTMDQHqHV",
      "execution_count": null,
      "outputs": []
    },
    {
      "cell_type": "code",
      "source": [
        "get_accuracy('LinearSVC',trained_clf_svc,x_train, y_train, x_test, y_test)"
      ],
      "metadata": {
        "id": "OlNEuZABHUl4"
      },
      "id": "OlNEuZABHUl4",
      "execution_count": null,
      "outputs": []
    },
    {
      "cell_type": "markdown",
      "source": [
        "# **apply decision tree model**"
      ],
      "metadata": {
        "id": "O9h2n0W6IO39"
      },
      "id": "O9h2n0W6IO39"
    },
    {
      "cell_type": "code",
      "source": [
        "from sklearn.tree import DecisionTreeClassifier\n",
        "from sklearn.model_selection import GridSearchCV\n",
        "\n",
        "param_grid = {\n",
        "    \"max_depth\": [3,5,10,15,20,None],\n",
        "    \"min_samples_split\": [2,5,7,10],\n",
        "    \"min_samples_leaf\": [1,2,5]\n",
        "}\n",
        "\n",
        "clf = DecisionTreeClassifier(max_depth=7, min_samples_leaf=5, min_samples_split= 2).fit(x_train,y_train)\n",
        "get_accuracy('DecisionTreeClassifier',clf,x_train, y_train, x_test, y_test)\n"
      ],
      "metadata": {
        "colab": {
          "base_uri": "https://localhost:8080/",
          "height": 764
        },
        "id": "GsCyUUMfIVV8",
        "outputId": "00fb3988-2a45-4230-c88b-79f9cafd5b27"
      },
      "id": "GsCyUUMfIVV8",
      "execution_count": null,
      "outputs": [
        {
          "output_type": "stream",
          "name": "stdout",
          "text": [
            "Testing accuracy   : 76.71681811410696 %\n",
            "MSE [TEST]          : 0.5242067629971696\n",
            "Training accuracy  : 78.2510097331656 %\n",
            "MSE [TRAIN]         : 0.47159504734158775\n",
            "precision :  0.7671681811410695\n",
            "recall    :  0.7671681811410695\n",
            "f1_score  :  0.7671681811410695\n"
          ]
        },
        {
          "output_type": "display_data",
          "data": {
            "text/plain": [
              "<Figure size 432x288 with 2 Axes>"
            ],
            "image/png": "[encoded data removed]"
          },
          "metadata": {
            "needs_background": "light"
          }
        },
        {
          "output_type": "stream",
          "name": "stdout",
          "text": [
            "              precision    recall  f1-score   support\n",
            "\n",
            "           0       0.77      0.81      0.79     20686\n",
            "           1       0.84      0.77      0.80     21416\n",
            "           2       0.74      0.77      0.75     18310\n",
            "\n",
            "    accuracy                           0.78     60412\n",
            "   macro avg       0.78      0.78      0.78     60412\n",
            "weighted avg       0.79      0.78      0.78     60412\n",
            "\n",
            "              precision    recall  f1-score   support\n",
            "\n",
            "           0       0.74      0.80      0.77      2349\n",
            "           1       0.83      0.76      0.80      2335\n",
            "           2       0.73      0.74      0.73      2029\n",
            "\n",
            "    accuracy                           0.77      6713\n",
            "   macro avg       0.77      0.77      0.77      6713\n",
            "weighted avg       0.77      0.77      0.77      6713\n",
            "\n"
          ]
        }
      ]
    },
    {
      "cell_type": "markdown",
      "source": [
        "# **random forest model**"
      ],
      "metadata": {
        "id": "NO0DH2JSLAAN"
      },
      "id": "NO0DH2JSLAAN"
    },
    {
      "cell_type": "code",
      "source": [
        "from sklearn.ensemble import RandomForestClassifier\n",
        "model=RandomForestClassifier(max_depth=9,min_samples_leaf=5,min_samples_split=3).fit(x_train,y_train)\n",
        "get_accuracy('Random forest ',model,x_train, y_train, x_test, y_test)\n"
      ],
      "metadata": {
        "colab": {
          "base_uri": "https://localhost:8080/",
          "height": 764
        },
        "id": "f-qMv0A5LL0l",
        "outputId": "012b2222-dfbd-4460-c7bc-3b8b3762bcb3"
      },
      "id": "f-qMv0A5LL0l",
      "execution_count": null,
      "outputs": [
        {
          "output_type": "stream",
          "name": "stdout",
          "text": [
            "Testing accuracy   : 82.4668553552808 %\n",
            "MSE [TEST]          : 0.422910770147475\n",
            "Training accuracy  : 84.70502549162417 %\n",
            "MSE [TRAIN]         : 0.35024498444017743\n",
            "precision :  0.824668553552808\n",
            "recall    :  0.824668553552808\n",
            "f1_score  :  0.824668553552808\n"
          ]
        },
        {
          "output_type": "display_data",
          "data": {
            "text/plain": [
              "<Figure size 432x288 with 2 Axes>"
            ],
            "image/png": "[encoded data removed]"
          },
          "metadata": {
            "needs_background": "light"
          }
        },
        {
          "output_type": "stream",
          "name": "stdout",
          "text": [
            "              precision    recall  f1-score   support\n",
            "\n",
            "           0       0.81      0.89      0.85     20686\n",
            "           1       0.93      0.82      0.87     21416\n",
            "           2       0.81      0.83      0.82     18310\n",
            "\n",
            "    accuracy                           0.85     60412\n",
            "   macro avg       0.85      0.85      0.85     60412\n",
            "weighted avg       0.85      0.85      0.85     60412\n",
            "\n",
            "              precision    recall  f1-score   support\n",
            "\n",
            "           0       0.78      0.87      0.82      2349\n",
            "           1       0.91      0.81      0.86      2335\n",
            "           2       0.79      0.79      0.79      2029\n",
            "\n",
            "    accuracy                           0.82      6713\n",
            "   macro avg       0.83      0.82      0.82      6713\n",
            "weighted avg       0.83      0.82      0.83      6713\n",
            "\n"
          ]
        }
      ]
    },
    {
      "cell_type": "markdown",
      "source": [
        "# **model 1 neural network**"
      ],
      "metadata": {
        "id": "_L8HWsHVxmRK"
      },
      "id": "_L8HWsHVxmRK"
    },
    {
      "cell_type": "code",
      "source": [
        "NN_models=[]"
      ],
      "metadata": {
        "id": "tsyJGIQhSC_T"
      },
      "id": "tsyJGIQhSC_T",
      "execution_count": null,
      "outputs": []
    },
    {
      "cell_type": "code",
      "source": [
        "\n",
        "model=Sequential()\n",
        "model.add(Dense( 64 ,input_shape=(100,),activation='relu' ))\n",
        "model.add(Dense(32, activation='relu'))\n",
        "model.add(Dense(16, activation='relu'))\n",
        "model.add(Dense(3, activation='softmax'))\n",
        "\n",
        "\n",
        "model.compile(optimizer = 'adam', loss = 'categorical_crossentropy' ,metrics=['accuracy'])\n",
        "model.summary()"
      ],
      "metadata": {
        "colab": {
          "base_uri": "https://localhost:8080/"
        },
        "id": "IrbHF0TlMv44",
        "outputId": "8be053f0-d0f7-449e-bd43-abdf0b82efb3"
      },
      "id": "IrbHF0TlMv44",
      "execution_count": null,
      "outputs": [
        {
          "output_type": "stream",
          "name": "stdout",
          "text": [
            "Model: \"sequential_18\"\n",
            "_________________________________________________________________\n",
            " Layer (type)                Output Shape              Param #   \n",
            "=================================================================\n",
            " dense_46 (Dense)            (None, 64)                6464      \n",
            "                                                                 \n",
            " dense_47 (Dense)            (None, 32)                2080      \n",
            "                                                                 \n",
            " dense_48 (Dense)            (None, 16)                528       \n",
            "                                                                 \n",
            " dense_49 (Dense)            (None, 3)                 51        \n",
            "                                                                 \n",
            "=================================================================\n",
            "Total params: 9,123\n",
            "Trainable params: 9,123\n",
            "Non-trainable params: 0\n",
            "_________________________________________________________________\n"
          ]
        }
      ]
    },
    {
      "cell_type": "code",
      "source": [
        "model.fit(x_train,y_train_enc,batch_size=256 ,epochs=70)\n"
      ],
      "metadata": {
        "id": "Pea13Xp6TA6y",
        "colab": {
          "base_uri": "https://localhost:8080/"
        },
        "outputId": "3ae279ca-758f-4c2e-a851-d5d25dec368e"
      },
      "id": "Pea13Xp6TA6y",
      "execution_count": null,
      "outputs": [
        {
          "output_type": "stream",
          "name": "stdout",
          "text": [
            "Epoch 1/70\n",
            "236/236 [==============================] - 1s 3ms/step - loss: 0.5721 - accuracy: 0.7853\n",
            "Epoch 2/70\n",
            "236/236 [==============================] - 1s 3ms/step - loss: 0.4646 - accuracy: 0.8267\n",
            "Epoch 3/70\n",
            "236/236 [==============================] - 1s 3ms/step - loss: 0.4461 - accuracy: 0.8327\n",
            "Epoch 4/70\n",
            "236/236 [==============================] - 1s 3ms/step - loss: 0.4329 - accuracy: 0.8372\n",
            "Epoch 5/70\n",
            "236/236 [==============================] - 1s 3ms/step - loss: 0.4269 - accuracy: 0.8395\n",
            "Epoch 6/70\n",
            "236/236 [==============================] - 1s 3ms/step - loss: 0.4210 - accuracy: 0.8402\n",
            "Epoch 7/70\n",
            "236/236 [==============================] - 1s 3ms/step - loss: 0.4187 - accuracy: 0.8408\n",
            "Epoch 8/70\n",
            "236/236 [==============================] - 1s 3ms/step - loss: 0.4125 - accuracy: 0.8434\n",
            "Epoch 9/70\n",
            "236/236 [==============================] - 1s 3ms/step - loss: 0.4096 - accuracy: 0.8440\n",
            "Epoch 10/70\n",
            "236/236 [==============================] - 1s 3ms/step - loss: 0.4062 - accuracy: 0.8449\n",
            "Epoch 11/70\n",
            "236/236 [==============================] - 1s 3ms/step - loss: 0.4056 - accuracy: 0.8453\n",
            "Epoch 12/70\n",
            "236/236 [==============================] - 1s 3ms/step - loss: 0.4027 - accuracy: 0.8459\n",
            "Epoch 13/70\n",
            "236/236 [==============================] - 1s 3ms/step - loss: 0.4019 - accuracy: 0.8466\n",
            "Epoch 14/70\n",
            "236/236 [==============================] - 1s 3ms/step - loss: 0.3985 - accuracy: 0.8474\n",
            "Epoch 15/70\n",
            "236/236 [==============================] - 1s 3ms/step - loss: 0.3979 - accuracy: 0.8480\n",
            "Epoch 16/70\n",
            "236/236 [==============================] - 1s 3ms/step - loss: 0.3957 - accuracy: 0.8488\n",
            "Epoch 17/70\n",
            "236/236 [==============================] - 1s 3ms/step - loss: 0.3945 - accuracy: 0.8488\n",
            "Epoch 18/70\n",
            "236/236 [==============================] - 1s 3ms/step - loss: 0.3910 - accuracy: 0.8508\n",
            "Epoch 19/70\n",
            "236/236 [==============================] - 1s 3ms/step - loss: 0.3929 - accuracy: 0.8493\n",
            "Epoch 20/70\n",
            "236/236 [==============================] - 1s 3ms/step - loss: 0.3895 - accuracy: 0.8509\n",
            "Epoch 21/70\n",
            "236/236 [==============================] - 1s 3ms/step - loss: 0.3887 - accuracy: 0.8515\n",
            "Epoch 22/70\n",
            "236/236 [==============================] - 1s 3ms/step - loss: 0.3868 - accuracy: 0.8517\n",
            "Epoch 23/70\n",
            "236/236 [==============================] - 1s 3ms/step - loss: 0.3874 - accuracy: 0.8514\n",
            "Epoch 24/70\n",
            "236/236 [==============================] - 1s 3ms/step - loss: 0.3840 - accuracy: 0.8530\n",
            "Epoch 25/70\n",
            "236/236 [==============================] - 1s 3ms/step - loss: 0.3844 - accuracy: 0.8540\n",
            "Epoch 26/70\n",
            "236/236 [==============================] - 1s 3ms/step - loss: 0.3819 - accuracy: 0.8538\n",
            "Epoch 27/70\n",
            "236/236 [==============================] - 1s 3ms/step - loss: 0.3824 - accuracy: 0.8537\n",
            "Epoch 28/70\n",
            "236/236 [==============================] - 1s 3ms/step - loss: 0.3815 - accuracy: 0.8544\n",
            "Epoch 29/70\n",
            "236/236 [==============================] - 1s 3ms/step - loss: 0.3792 - accuracy: 0.8539\n",
            "Epoch 30/70\n",
            "236/236 [==============================] - 1s 3ms/step - loss: 0.3785 - accuracy: 0.8551\n",
            "Epoch 31/70\n",
            "236/236 [==============================] - 1s 3ms/step - loss: 0.3781 - accuracy: 0.8550\n",
            "Epoch 32/70\n",
            "236/236 [==============================] - 1s 3ms/step - loss: 0.3758 - accuracy: 0.8563\n",
            "Epoch 33/70\n",
            "236/236 [==============================] - 1s 3ms/step - loss: 0.3757 - accuracy: 0.8560\n",
            "Epoch 34/70\n",
            "236/236 [==============================] - 1s 3ms/step - loss: 0.3747 - accuracy: 0.8571\n",
            "Epoch 35/70\n",
            "236/236 [==============================] - 1s 3ms/step - loss: 0.3730 - accuracy: 0.8577\n",
            "Epoch 36/70\n",
            "236/236 [==============================] - 1s 3ms/step - loss: 0.3729 - accuracy: 0.8572\n",
            "Epoch 37/70\n",
            "236/236 [==============================] - 1s 3ms/step - loss: 0.3728 - accuracy: 0.8578\n",
            "Epoch 38/70\n",
            "236/236 [==============================] - 1s 3ms/step - loss: 0.3728 - accuracy: 0.8579\n",
            "Epoch 39/70\n",
            "236/236 [==============================] - 1s 3ms/step - loss: 0.3713 - accuracy: 0.8577\n",
            "Epoch 40/70\n",
            "236/236 [==============================] - 1s 3ms/step - loss: 0.3716 - accuracy: 0.8581\n",
            "Epoch 41/70\n",
            "236/236 [==============================] - 1s 3ms/step - loss: 0.3696 - accuracy: 0.8588\n",
            "Epoch 42/70\n",
            "236/236 [==============================] - 1s 3ms/step - loss: 0.3695 - accuracy: 0.8602\n",
            "Epoch 43/70\n",
            "236/236 [==============================] - 1s 3ms/step - loss: 0.3680 - accuracy: 0.8594\n",
            "Epoch 44/70\n",
            "236/236 [==============================] - 1s 3ms/step - loss: 0.3673 - accuracy: 0.8606\n",
            "Epoch 45/70\n",
            "236/236 [==============================] - 1s 3ms/step - loss: 0.3669 - accuracy: 0.8599\n",
            "Epoch 46/70\n",
            "236/236 [==============================] - 1s 3ms/step - loss: 0.3671 - accuracy: 0.8592\n",
            "Epoch 47/70\n",
            "236/236 [==============================] - 1s 3ms/step - loss: 0.3645 - accuracy: 0.8614\n",
            "Epoch 48/70\n",
            "236/236 [==============================] - 1s 3ms/step - loss: 0.3638 - accuracy: 0.8607\n",
            "Epoch 49/70\n",
            "236/236 [==============================] - 1s 3ms/step - loss: 0.3640 - accuracy: 0.8609\n",
            "Epoch 50/70\n",
            "236/236 [==============================] - 1s 3ms/step - loss: 0.3637 - accuracy: 0.8617\n",
            "Epoch 51/70\n",
            "236/236 [==============================] - 1s 3ms/step - loss: 0.3621 - accuracy: 0.8614\n",
            "Epoch 52/70\n",
            "236/236 [==============================] - 1s 3ms/step - loss: 0.3647 - accuracy: 0.8602\n",
            "Epoch 53/70\n",
            "236/236 [==============================] - 1s 3ms/step - loss: 0.3632 - accuracy: 0.8600\n",
            "Epoch 54/70\n",
            "236/236 [==============================] - 1s 3ms/step - loss: 0.3623 - accuracy: 0.8614\n",
            "Epoch 55/70\n",
            "236/236 [==============================] - 1s 3ms/step - loss: 0.3615 - accuracy: 0.8616\n",
            "Epoch 56/70\n",
            "236/236 [==============================] - 1s 3ms/step - loss: 0.3593 - accuracy: 0.8625\n",
            "Epoch 57/70\n",
            "236/236 [==============================] - 1s 3ms/step - loss: 0.3593 - accuracy: 0.8625\n",
            "Epoch 58/70\n",
            "236/236 [==============================] - 1s 3ms/step - loss: 0.3592 - accuracy: 0.8627\n",
            "Epoch 59/70\n",
            "236/236 [==============================] - 1s 3ms/step - loss: 0.3589 - accuracy: 0.8627\n",
            "Epoch 60/70\n",
            "236/236 [==============================] - 1s 3ms/step - loss: 0.3594 - accuracy: 0.8621\n",
            "Epoch 61/70\n",
            "236/236 [==============================] - 1s 3ms/step - loss: 0.3581 - accuracy: 0.8634\n",
            "Epoch 62/70\n",
            "236/236 [==============================] - 1s 3ms/step - loss: 0.3578 - accuracy: 0.8626\n",
            "Epoch 63/70\n",
            "236/236 [==============================] - 1s 3ms/step - loss: 0.3563 - accuracy: 0.8640\n",
            "Epoch 64/70\n",
            "236/236 [==============================] - 1s 3ms/step - loss: 0.3563 - accuracy: 0.8645\n",
            "Epoch 65/70\n",
            "236/236 [==============================] - 1s 3ms/step - loss: 0.3559 - accuracy: 0.8642\n",
            "Epoch 66/70\n",
            "236/236 [==============================] - 1s 3ms/step - loss: 0.3553 - accuracy: 0.8649\n",
            "Epoch 67/70\n",
            "236/236 [==============================] - 1s 3ms/step - loss: 0.3546 - accuracy: 0.8656\n",
            "Epoch 68/70\n",
            "236/236 [==============================] - 1s 3ms/step - loss: 0.3549 - accuracy: 0.8635\n",
            "Epoch 69/70\n",
            "236/236 [==============================] - 1s 3ms/step - loss: 0.3539 - accuracy: 0.8648\n",
            "Epoch 70/70\n",
            "236/236 [==============================] - 1s 3ms/step - loss: 0.3541 - accuracy: 0.8651\n"
          ]
        },
        {
          "output_type": "execute_result",
          "data": {
            "text/plain": [
              "<keras.callbacks.History at 0x7f02095e25e0>"
            ]
          },
          "metadata": {},
          "execution_count": 97
        }
      ]
    },
    {
      "cell_type": "code",
      "source": [
        "pred=model.predict(x_test)\n",
        "pred_list=[]\n",
        "for i in pred:\n",
        "  pred_list.append(np.argmax(i))\n",
        "from sklearn.metrics import accuracy_score\n",
        "print(\"test accuracy : \", accuracy_score(y_test,pred_list)*100)\n",
        "print(\"_______________________\")\n",
        "print(classification_report(y_test,pred_list  ))\n",
        "print(\"confusion  matrix\")\n",
        "print(confusion_matrix(pred_list, y_test))\n"
      ],
      "metadata": {
        "id": "zFez1nZB7XL3",
        "colab": {
          "base_uri": "https://localhost:8080/"
        },
        "outputId": "6188ac20-c0ff-40f6-a185-1d0f5803e59b"
      },
      "id": "zFez1nZB7XL3",
      "execution_count": null,
      "outputs": [
        {
          "output_type": "stream",
          "name": "stdout",
          "text": [
            "210/210 [==============================] - 0s 1ms/step\n",
            "test accuracy :  85.10353046328021\n",
            "_______________________\n",
            "              precision    recall  f1-score   support\n",
            "\n",
            "           0       0.85      0.85      0.85      2349\n",
            "           1       0.91      0.85      0.88      2335\n",
            "           2       0.79      0.85      0.82      2029\n",
            "\n",
            "    accuracy                           0.85      6713\n",
            "   macro avg       0.85      0.85      0.85      6713\n",
            "weighted avg       0.85      0.85      0.85      6713\n",
            "\n",
            "confusion  matrix\n",
            "[[2001  146  194]\n",
            " [  91 1986  109]\n",
            " [ 257  203 1726]]\n"
          ]
        }
      ]
    },
    {
      "cell_type": "markdown",
      "source": [
        "# ***model 2 neural ntework***"
      ],
      "metadata": {
        "id": "mCL2gctvxtma"
      },
      "id": "mCL2gctvxtma"
    },
    {
      "cell_type": "code",
      "source": [
        "\n",
        "model=Sequential()\n",
        "model.add(Dense( 120,input_shape=(100,),activation='relu' ))\n",
        "\n",
        "model.add(Dense(64, activation='relu'))\n",
        "model.add(Dense(16, activation='relu'))\n",
        "model.add(Dense(64, activation='relu'))\n",
        "model.add(Dense(3, activation='softmax'))\n",
        "\n",
        "\n",
        "model.compile(optimizer = 'adam' ,loss = 'categorical_crossentropy' ,metrics=['accuracy'])\n",
        "\n"
      ],
      "metadata": {
        "id": "iKMNlyTYiQw4",
        "colab": {
          "base_uri": "https://localhost:8080/",
          "height": 235
        },
        "outputId": "e3de8d5c-8489-4a89-f034-2cf88cb19567"
      },
      "id": "iKMNlyTYiQw4",
      "execution_count": 1,
      "outputs": [
        {
          "output_type": "error",
          "ename": "NameError",
          "evalue": "ignored",
          "traceback": [
            "\u001b[0;31m---------------------------------------------------------------------------\u001b[0m",
            "\u001b[0;31mNameError\u001b[0m                                 Traceback (most recent call last)",
            "\u001b[0;32m<ipython-input-1-54d5e9d6cf9e>\u001b[0m in \u001b[0;36m<module>\u001b[0;34m\u001b[0m\n\u001b[0;32m----> 1\u001b[0;31m \u001b[0mmodel\u001b[0m\u001b[0;34m=\u001b[0m\u001b[0mSequential\u001b[0m\u001b[0;34m(\u001b[0m\u001b[0;34m)\u001b[0m\u001b[0;34m\u001b[0m\u001b[0;34m\u001b[0m\u001b[0m\n\u001b[0m\u001b[1;32m      2\u001b[0m \u001b[0mmodel\u001b[0m\u001b[0;34m.\u001b[0m\u001b[0madd\u001b[0m\u001b[0;34m(\u001b[0m\u001b[0mDense\u001b[0m\u001b[0;34m(\u001b[0m \u001b[0;36m120\u001b[0m\u001b[0;34m,\u001b[0m\u001b[0minput_shape\u001b[0m\u001b[0;34m=\u001b[0m\u001b[0;34m(\u001b[0m\u001b[0;36m100\u001b[0m\u001b[0;34m,\u001b[0m\u001b[0;34m)\u001b[0m\u001b[0;34m,\u001b[0m\u001b[0mactivation\u001b[0m\u001b[0;34m=\u001b[0m\u001b[0;34m'relu'\u001b[0m \u001b[0;34m)\u001b[0m\u001b[0;34m)\u001b[0m\u001b[0;34m\u001b[0m\u001b[0;34m\u001b[0m\u001b[0m\n\u001b[1;32m      3\u001b[0m \u001b[0;34m\u001b[0m\u001b[0m\n\u001b[1;32m      4\u001b[0m \u001b[0mmodel\u001b[0m\u001b[0;34m.\u001b[0m\u001b[0madd\u001b[0m\u001b[0;34m(\u001b[0m\u001b[0mDense\u001b[0m\u001b[0;34m(\u001b[0m\u001b[0;36m64\u001b[0m\u001b[0;34m,\u001b[0m \u001b[0mactivation\u001b[0m\u001b[0;34m=\u001b[0m\u001b[0;34m'relu'\u001b[0m\u001b[0;34m)\u001b[0m\u001b[0;34m)\u001b[0m\u001b[0;34m\u001b[0m\u001b[0;34m\u001b[0m\u001b[0m\n\u001b[1;32m      5\u001b[0m \u001b[0mmodel\u001b[0m\u001b[0;34m.\u001b[0m\u001b[0madd\u001b[0m\u001b[0;34m(\u001b[0m\u001b[0mDense\u001b[0m\u001b[0;34m(\u001b[0m\u001b[0;36m16\u001b[0m\u001b[0;34m,\u001b[0m \u001b[0mactivation\u001b[0m\u001b[0;34m=\u001b[0m\u001b[0;34m'relu'\u001b[0m\u001b[0;34m)\u001b[0m\u001b[0;34m)\u001b[0m\u001b[0;34m\u001b[0m\u001b[0;34m\u001b[0m\u001b[0m\n",
            "\u001b[0;31mNameError\u001b[0m: name 'Sequential' is not defined"
          ]
        }
      ]
    },
    {
      "cell_type": "code",
      "source": [
        "model.fit(x_train,y_train_enc,batch_size=256 ,epochs=50)"
      ],
      "metadata": {
        "id": "ZUNln5NO4TBY"
      },
      "id": "ZUNln5NO4TBY",
      "execution_count": null,
      "outputs": []
    },
    {
      "cell_type": "code",
      "source": [
        "pred=model.predict(x_test)\n",
        "pred_list=[]\n",
        "for i in pred:\n",
        "  pred_list.append(np.argmax(i))\n",
        "from sklearn.metrics import accuracy_score\n",
        "print(\"test accuracy : \", accuracy_score(y_test,pred_list)*100)\n",
        "print(\"_______________________\")\n",
        "print(classification_report(y_test,pred_list  ))\n",
        "print(\"confusion  matrix\")\n",
        "print(confusion_matrix(pred_list, y_test))"
      ],
      "metadata": {
        "id": "NVyZAVvr9d8s"
      },
      "id": "NVyZAVvr9d8s",
      "execution_count": null,
      "outputs": []
    },
    {
      "cell_type": "code",
      "source": [
        "models=[]"
      ],
      "metadata": {
        "id": "gykZj0qOY2H0"
      },
      "id": "gykZj0qOY2H0",
      "execution_count": null,
      "outputs": []
    },
    {
      "cell_type": "markdown",
      "source": [
        "CNN"
      ],
      "metadata": {
        "id": "ROdxt3dNmic-"
      },
      "id": "ROdxt3dNmic-"
    },
    {
      "cell_type": "code",
      "source": [
        "from tensorflow.keras.layers import Dense, Conv2D, Flatten\n",
        "# Instantiate your model as usual\n",
        "model = Sequential()\n",
        "model.add(Conv2D(\n",
        "                 filters=64,  \n",
        "                 kernel_size=2,              \n",
        "                 input_shape=(10,10,1),     \n",
        "                 activation='relu')\n",
        ")\n",
        "\n",
        "model.add(Conv2D(8, kernel_size=3, activation='relu'))\n",
        "model.add(Flatten())\n",
        "\n",
        "model.add(Dense(64, activation='relu'))\n",
        "\n",
        "model.add(Dense(16, activation='relu'))\n",
        "# End this multiclass model with 3 outputs and softmax\n",
        "model.add(Dense(3, activation='softmax'))\n",
        "\n",
        "model.summary ()"
      ],
      "metadata": {
        "id": "n0F5Zt1XkihN"
      },
      "id": "n0F5Zt1XkihN",
      "execution_count": null,
      "outputs": []
    },
    {
      "cell_type": "code",
      "source": [
        "model.compile(optimizer = 'adam' ,loss = 'categorical_crossentropy' ,metrics=['accuracy'])\n",
        "model.fit(x_train.reshape(-1,10,10,1),y_train_enc,batch_size=256 ,epochs=70)"
      ],
      "metadata": {
        "id": "qJNen43Rlb0-"
      },
      "id": "qJNen43Rlb0-",
      "execution_count": null,
      "outputs": []
    },
    {
      "cell_type": "code",
      "source": [
        "\n",
        "pred=model.predict(x_test.reshape(-1,10,10,1))\n",
        "pred_list=[]\n",
        "for i in pred:\n",
        "  pred_list.append(np.argmax(i))\n",
        "from sklearn.metrics import accuracy_score\n",
        "print(\"test accuracy : \", accuracy_score(y_test,pred_list)*100)\n",
        "print(\"_______________________\")\n",
        "print(classification_report(y_test,pred_list  ))\n",
        "print(\"confusion  matrix\")\n",
        "print(confusion_matrix(pred_list, y_test))"
      ],
      "metadata": {
        "id": "M7_kuTa4WAdM"
      },
      "id": "M7_kuTa4WAdM",
      "execution_count": null,
      "outputs": []
    },
    {
      "cell_type": "code",
      "source": [
        "models.append(model)"
      ],
      "metadata": {
        "id": "_QxrzyFfYw4j"
      },
      "id": "_QxrzyFfYw4j",
      "execution_count": null,
      "outputs": []
    }
  ],
  "metadata": {
    "kernelspec": {
      "display_name": "Python 3 (ipykernel)",
      "language": "python",
      "name": "python3"
    },
    "language_info": {
      "codemirror_mode": {
        "name": "ipython",
        "version": 3
      },
      "file_extension": ".py",
      "mimetype": "text/x-python",
      "name": "python",
      "nbconvert_exporter": "python",
      "pygments_lexer": "ipython3",
      "version": "3.9.7"
    },
    "colab": {
      "provenance": [],
      "include_colab_link": true
    }
  },
  "nbformat": 4,
  "nbformat_minor": 5
}