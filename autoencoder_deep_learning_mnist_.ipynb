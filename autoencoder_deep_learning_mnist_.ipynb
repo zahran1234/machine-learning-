{
  "nbformat": 4,
  "nbformat_minor": 0,
  "metadata": {
    "colab": {
      "provenance": [],
      "authorship_tag": "ABX9TyPrnfjReYTljGO/izZUnzX9",
      "include_colab_link": true
    },
    "kernelspec": {
      "name": "python3",
      "display_name": "Python 3"
    },
    "language_info": {
      "name": "python"
    }
  },
  "cells": [
    {
      "cell_type": "markdown",
      "metadata": {
        "id": "view-in-github",
        "colab_type": "text"
      },
      "source": [
        "<a href=\"https://colab.research.google.com/github/zahran1234/machine-learning-/blob/main/autoencoder_deep_learning_mnist_.ipynb\" target=\"_parent\"><img src=\"https://colab.research.google.com/assets/colab-badge.svg\" alt=\"Open In Colab\"/></a>"
      ]
    },
    {
      "cell_type": "code",
      "execution_count": 2,
      "metadata": {
        "id": "uJ7tnR14WoIG"
      },
      "outputs": [],
      "source": [
        "import tensorflow as tf\n",
        "from tensorflow.keras.datasets import mnist\n",
        "from keras.layers import  Dense \n",
        "from keras.models import Sequential\n",
        "import matplotlib.pyplot as plt"
      ]
    },
    {
      "cell_type": "code",
      "source": [
        "(x_train, y_train), (x_test, y_test) = mnist.load_data()\n",
        "x_train = x_train/255.0\n",
        "x_test = x_test/255.0"
      ],
      "metadata": {
        "colab": {
          "base_uri": "https://localhost:8080/"
        },
        "id": "SKHrYHvaXGvz",
        "outputId": "023ab9d5-c18d-42eb-9fd1-447dfd61470b"
      },
      "execution_count": 3,
      "outputs": [
        {
          "output_type": "stream",
          "name": "stdout",
          "text": [
            "Downloading data from https://storage.googleapis.com/tensorflow/tf-keras-datasets/mnist.npz\n",
            "11490434/11490434 [==============================] - 0s 0us/step\n"
          ]
        }
      ]
    },
    {
      "cell_type": "code",
      "source": [
        "plt.imshow(x_train[10])"
      ],
      "metadata": {
        "colab": {
          "base_uri": "https://localhost:8080/",
          "height": 283
        },
        "id": "A4KEnzfGXxwg",
        "outputId": "16b64084-b9a2-4304-86a3-f6eb3dd7d54c"
      },
      "execution_count": 4,
      "outputs": [
        {
          "output_type": "execute_result",
          "data": {
            "text/plain": [
              "<matplotlib.image.AxesImage at 0x7f3fa99d8f50>"
            ]
          },
          "metadata": {},
          "execution_count": 4
        },
        {
          "output_type": "display_data",
          "data": {
            "text/plain": [
              "<Figure size 432x288 with 1 Axes>"
            ],
            "image/png": "[encoded data removed]"
          },
          "metadata": {
            "needs_background": "light"
          }
        }
      ]
    },
    {
      "cell_type": "code",
      "source": [
        "\n",
        "model=Sequential()\n",
        "model.add(Dense( 500 ,input_shape=(784,),activation='linear' ))\n",
        "model.add(Dense(300, activation='linear'))\n",
        "model.add(Dense(100, activation='linear'))\n",
        "model.add(Dense(300, activation='linear'))\n",
        "model.add(Dense(500, activation='linear'))\n",
        "model.add(Dense(784, activation='sigmoid'))\n",
        "model.summary()"
      ],
      "metadata": {
        "colab": {
          "base_uri": "https://localhost:8080/"
        },
        "id": "-KpOi-M_YEvY",
        "outputId": "a87c5dab-ce3a-4448-bf68-1f83c868c153"
      },
      "execution_count": 5,
      "outputs": [
        {
          "output_type": "stream",
          "name": "stdout",
          "text": [
            "Model: \"sequential\"\n",
            "_________________________________________________________________\n",
            " Layer (type)                Output Shape              Param #   \n",
            "=================================================================\n",
            " dense (Dense)               (None, 500)               392500    \n",
            "                                                                 \n",
            " dense_1 (Dense)             (None, 300)               150300    \n",
            "                                                                 \n",
            " dense_2 (Dense)             (None, 100)               30100     \n",
            "                                                                 \n",
            " dense_3 (Dense)             (None, 300)               30300     \n",
            "                                                                 \n",
            " dense_4 (Dense)             (None, 500)               150500    \n",
            "                                                                 \n",
            " dense_5 (Dense)             (None, 784)               392784    \n",
            "                                                                 \n",
            "=================================================================\n",
            "Total params: 1,146,484\n",
            "Trainable params: 1,146,484\n",
            "Non-trainable params: 0\n",
            "_________________________________________________________________\n"
          ]
        }
      ]
    },
    {
      "cell_type": "code",
      "source": [
        "model.compile(optimizer = 'adam', loss = 'MSE')"
      ],
      "metadata": {
        "id": "5d5IK6ugYwyd"
      },
      "execution_count": 6,
      "outputs": []
    },
    {
      "cell_type": "code",
      "source": [
        "x_train=x_train.reshape(-1,28*28)\n",
        "x_train[0].shape"
      ],
      "metadata": {
        "colab": {
          "base_uri": "https://localhost:8080/"
        },
        "id": "rcKzJrvSZceG",
        "outputId": "17a4d0e3-c6e9-4019-e48f-c306e860fde3"
      },
      "execution_count": 7,
      "outputs": [
        {
          "output_type": "execute_result",
          "data": {
            "text/plain": [
              "(784,)"
            ]
          },
          "metadata": {},
          "execution_count": 7
        }
      ]
    },
    {
      "cell_type": "code",
      "source": [
        "model.fit(x_train,x_train, epochs=15)"
      ],
      "metadata": {
        "colab": {
          "base_uri": "https://localhost:8080/"
        },
        "id": "l9afuBU4Y-03",
        "outputId": "3c925639-9087-4afb-a294-ca487d807227"
      },
      "execution_count": 8,
      "outputs": [
        {
          "output_type": "stream",
          "name": "stdout",
          "text": [
            "Epoch 1/15\n",
            "1875/1875 [==============================] - 28s 14ms/step - loss: 0.0100\n",
            "Epoch 2/15\n",
            "1875/1875 [==============================] - 27s 14ms/step - loss: 0.0039\n",
            "Epoch 3/15\n",
            "1875/1875 [==============================] - 28s 15ms/step - loss: 0.0035\n",
            "Epoch 4/15\n",
            "1875/1875 [==============================] - 27s 14ms/step - loss: 0.0034\n",
            "Epoch 5/15\n",
            "1875/1875 [==============================] - 27s 14ms/step - loss: 0.0033\n",
            "Epoch 6/15\n",
            "1875/1875 [==============================] - 28s 15ms/step - loss: 0.0031\n",
            "Epoch 7/15\n",
            "1875/1875 [==============================] - 27s 14ms/step - loss: 0.0031\n",
            "Epoch 8/15\n",
            "1875/1875 [==============================] - 29s 16ms/step - loss: 0.0030\n",
            "Epoch 9/15\n",
            "1875/1875 [==============================] - 43s 23ms/step - loss: 0.0029\n",
            "Epoch 10/15\n",
            "1875/1875 [==============================] - 35s 19ms/step - loss: 0.0028\n",
            "Epoch 11/15\n",
            "1875/1875 [==============================] - 27s 14ms/step - loss: 0.0028\n",
            "Epoch 12/15\n",
            "1875/1875 [==============================] - 27s 14ms/step - loss: 0.0027\n",
            "Epoch 13/15\n",
            "1875/1875 [==============================] - 28s 15ms/step - loss: 0.0026\n",
            "Epoch 14/15\n",
            "1875/1875 [==============================] - 33s 18ms/step - loss: 0.0026\n",
            "Epoch 15/15\n",
            "1875/1875 [==============================] - 27s 15ms/step - loss: 0.0026\n"
          ]
        },
        {
          "output_type": "execute_result",
          "data": {
            "text/plain": [
              "<keras.callbacks.History at 0x7f3fa21e5d50>"
            ]
          },
          "metadata": {},
          "execution_count": 8
        }
      ]
    },
    {
      "cell_type": "code",
      "source": [
        "x_test=x_test.reshape(-1,28*28)\n",
        "x_test[0].shape"
      ],
      "metadata": {
        "colab": {
          "base_uri": "https://localhost:8080/"
        },
        "id": "N5ZcF_ERAew9",
        "outputId": "181c0320-6d9e-424c-b695-b8e2cfad7635"
      },
      "execution_count": 9,
      "outputs": [
        {
          "output_type": "execute_result",
          "data": {
            "text/plain": [
              "(784,)"
            ]
          },
          "metadata": {},
          "execution_count": 9
        }
      ]
    },
    {
      "cell_type": "code",
      "source": [
        "pred=model.predict(x_test)\n"
      ],
      "metadata": {
        "colab": {
          "base_uri": "https://localhost:8080/"
        },
        "id": "ZSz51gm6btEg",
        "outputId": "a83d2d2b-dd71-4bb9-f8a1-ab0e79bb8de5"
      },
      "execution_count": 10,
      "outputs": [
        {
          "output_type": "stream",
          "name": "stdout",
          "text": [
            "313/313 [==============================] - 2s 6ms/step\n"
          ]
        }
      ]
    },
    {
      "cell_type": "markdown",
      "source": [
        "predicted image "
      ],
      "metadata": {
        "id": "hbaiKtBnErHL"
      }
    },
    {
      "cell_type": "code",
      "source": [
        "plt.imshow(pred[1000].reshape(28,28)*255)"
      ],
      "metadata": {
        "colab": {
          "base_uri": "https://localhost:8080/",
          "height": 283
        },
        "id": "5Co_ntzzcw25",
        "outputId": "ec486761-27d3-4872-e787-cb56e269048d"
      },
      "execution_count": 14,
      "outputs": [
        {
          "output_type": "execute_result",
          "data": {
            "text/plain": [
              "<matplotlib.image.AxesImage at 0x7f3f9f6c4bd0>"
            ]
          },
          "metadata": {},
          "execution_count": 14
        },
        {
          "output_type": "display_data",
          "data": {
            "text/plain": [
              "<Figure size 432x288 with 1 Axes>"
            ],
            "image/png": "[encoded data removed]"
          },
          "metadata": {
            "needs_background": "light"
          }
        }
      ]
    },
    {
      "cell_type": "markdown",
      "source": [
        "target image \n"
      ],
      "metadata": {
        "id": "-YIoGVHeEu2c"
      }
    },
    {
      "cell_type": "code",
      "source": [
        "plt.imshow(x_test[1000].reshape(28,28)*255)"
      ],
      "metadata": {
        "colab": {
          "base_uri": "https://localhost:8080/",
          "height": 283
        },
        "id": "hFB7ELV9ArdX",
        "outputId": "6949a241-24a6-40a9-8074-afba65fc6784"
      },
      "execution_count": 16,
      "outputs": [
        {
          "output_type": "execute_result",
          "data": {
            "text/plain": [
              "<matplotlib.image.AxesImage at 0x7f3f9f593a90>"
            ]
          },
          "metadata": {},
          "execution_count": 16
        },
        {
          "output_type": "display_data",
          "data": {
            "text/plain": [
              "<Figure size 432x288 with 1 Axes>"
            ],
            "image/png": "[encoded data removed]"
          },
          "metadata": {
            "needs_background": "light"
          }
        }
      ]
    }
  ]
}