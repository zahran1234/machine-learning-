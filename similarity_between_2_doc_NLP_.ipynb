{
  "nbformat": 4,
  "nbformat_minor": 0,
  "metadata": {
    "colab": {
      "provenance": [],
      "authorship_tag": "ABX9TyMpHlXnrtxjwY+KTNYI1DGZ",
      "include_colab_link": true
    },
    "kernelspec": {
      "name": "python3",
      "display_name": "Python 3"
    },
    "language_info": {
      "name": "python"
    }
  },
  "cells": [
    {
      "cell_type": "markdown",
      "metadata": {
        "id": "view-in-github",
        "colab_type": "text"
      },
      "source": [
        "<a href=\"https://colab.research.google.com/github/zahran1234/machine-learning-/blob/main/similarity_between_2_doc_NLP_.ipynb\" target=\"_parent\"><img src=\"https://colab.research.google.com/assets/colab-badge.svg\" alt=\"Open In Colab\"/></a>"
      ]
    },
    {
      "cell_type": "code",
      "execution_count": null,
      "metadata": {
        "colab": {
          "base_uri": "https://localhost:8080/"
        },
        "id": "oTBIS1RkRAiz",
        "outputId": "95834140-c32b-459a-e104-e6681f166f0b"
      },
      "outputs": [
        {
          "output_type": "stream",
          "name": "stderr",
          "text": [
            "[nltk_data] Downloading package punkt to /root/nltk_data...\n",
            "[nltk_data]   Package punkt is already up-to-date!\n",
            "[nltk_data] Downloading package stopwords to /root/nltk_data...\n",
            "[nltk_data]   Package stopwords is already up-to-date!\n"
          ]
        }
      ],
      "source": [
        "import numpy as np\n",
        "from gensim.test.utils import common_texts\n",
        "from gensim.models import Word2Vec\n",
        "from nltk.tokenize import sent_tokenize, word_tokenize\n",
        "from nltk.corpus import stopwords\n",
        "import nltk\n",
        "nltk.download('punkt')\n",
        "nltk.download('stopwords')\n",
        "import re \n"
      ]
    },
    {
      "cell_type": "code",
      "source": [
        "text1= open(\"/content/neuralnetwork2.txt\", encoding='utf-8')\n",
        "text1=text1.read()"
      ],
      "metadata": {
        "id": "NMGkwQdt0WK4"
      },
      "execution_count": null,
      "outputs": []
    },
    {
      "cell_type": "code",
      "source": [
        "text2= open(\"/content/football.txt\", encoding='utf-8')\n",
        "text2=text2.read()"
      ],
      "metadata": {
        "id": "5Wnb8ICy0adS"
      },
      "execution_count": null,
      "outputs": []
    },
    {
      "cell_type": "code",
      "source": [
        "text3= open(\"/content/neural network1.txt\", encoding='utf-8')\n",
        "text3=text3.read()"
      ],
      "metadata": {
        "id": "wtVMSYxqTvgU"
      },
      "execution_count": null,
      "outputs": []
    },
    {
      "cell_type": "code",
      "source": [
        "\n",
        "\n",
        "stop_words=stopwords.words('english')\n",
        "\n",
        "list_sentences_text1=[re.sub(r'[^a-zA-Z]',' ',x).lower() for x in sent_tokenize(text1)  ]\n",
        "list_sentences_text2=[re.sub(r'[^a-zA-Z]',' ',x).lower() for x in sent_tokenize(text2) ]\n",
        "list_sentences_text3=[re.sub(r'[^a-zA-Z]',' ',x).lower() for x in sent_tokenize(text3)]\n",
        "\n",
        "\n"
      ],
      "metadata": {
        "id": "cSV78TQIVg1M"
      },
      "execution_count": null,
      "outputs": []
    },
    {
      "cell_type": "code",
      "source": [
        "all_sentences=list_sentences_text1+list_sentences_text2+list_sentences_text3\n"
      ],
      "metadata": {
        "id": "DlynXwWQWHbr"
      },
      "execution_count": null,
      "outputs": []
    },
    {
      "cell_type": "code",
      "source": [
        "sentences_words=[]\n",
        "for i in all_sentences:\n",
        "  sentences_words.append(word_tokenize(i))\n",
        "\n",
        "len(sentences_words)"
      ],
      "metadata": {
        "colab": {
          "base_uri": "https://localhost:8080/"
        },
        "id": "SMXeC1VZnFYE",
        "outputId": "588a9a34-bd27-42df-c0ac-a54c8482f3e7"
      },
      "execution_count": null,
      "outputs": [
        {
          "output_type": "execute_result",
          "data": {
            "text/plain": [
              "208"
            ]
          },
          "metadata": {},
          "execution_count": 85
        }
      ]
    },
    {
      "cell_type": "code",
      "source": [
        "sentences_words_without_stop_words=[]"
      ],
      "metadata": {
        "id": "ZthFc1FCwmBA"
      },
      "execution_count": null,
      "outputs": []
    },
    {
      "cell_type": "code",
      "source": [
        "for i in range(len(sentences_words)):\n",
        "  li=[]\n",
        "  for x in range (len(sentences_words[i])):\n",
        "\n",
        "    if sentences_words[i][x] not in stop_words:\n",
        "      li.append(sentences_words[i][x] )\n",
        "  sentences_words_without_stop_words.append(li)\n",
        "       "
      ],
      "metadata": {
        "id": "IMCBSNDIvcnQ"
      },
      "execution_count": null,
      "outputs": []
    },
    {
      "cell_type": "code",
      "source": [
        "sentences_words_without_stop_words[0]"
      ],
      "metadata": {
        "colab": {
          "base_uri": "https://localhost:8080/"
        },
        "id": "5CsASOqOxG5Q",
        "outputId": "edbf4dc5-567a-42c3-e053-e2130b272183"
      },
      "execution_count": null,
      "outputs": [
        {
          "output_type": "execute_result",
          "data": {
            "text/plain": [
              "['definition', 'neural', 'network']"
            ]
          },
          "metadata": {},
          "execution_count": 88
        }
      ]
    },
    {
      "cell_type": "code",
      "source": [
        "model=Word2Vec(sentences=sentences_words_without_stop_words , window=3, min_count=1, workers=4)\n",
        "#model.save(\"word2vec.model\")"
      ],
      "metadata": {
        "id": "rWVFsHqzUOqp",
        "colab": {
          "base_uri": "https://localhost:8080/"
        },
        "outputId": "babbd6e9-2fed-456e-b2f2-165a1c6a6055"
      },
      "execution_count": null,
      "outputs": [
        {
          "output_type": "stream",
          "name": "stderr",
          "text": [
            "WARNING:gensim.models.base_any2vec:under 10 jobs per worker: consider setting a smaller `batch_words' for smoother alpha decay\n"
          ]
        }
      ]
    },
    {
      "cell_type": "code",
      "source": [],
      "metadata": {
        "id": "VKp83qlvTVGs"
      },
      "execution_count": null,
      "outputs": []
    },
    {
      "cell_type": "code",
      "source": [
        "model.train([[\"hello\", \"world\"]], total_examples=1, epochs=10)"
      ],
      "metadata": {
        "colab": {
          "base_uri": "https://localhost:8080/"
        },
        "id": "VE3LMUQJRG2T",
        "outputId": "ec4a76be-b772-4797-ff06-ac501910e0a0"
      },
      "execution_count": null,
      "outputs": [
        {
          "output_type": "stream",
          "name": "stderr",
          "text": [
            "WARNING:gensim.models.base_any2vec:under 10 jobs per worker: consider setting a smaller `batch_words' for smoother alpha decay\n"
          ]
        },
        {
          "output_type": "execute_result",
          "data": {
            "text/plain": [
              "(10, 20)"
            ]
          },
          "metadata": {},
          "execution_count": 90
        }
      ]
    },
    {
      "cell_type": "code",
      "source": [],
      "metadata": {
        "id": "4vmz2Dq1SMIE"
      },
      "execution_count": null,
      "outputs": []
    },
    {
      "cell_type": "code",
      "source": [
        "vector = model.wv['networks']  # get numpy vector of a word\n",
        "sims = model.wv.most_similar('networks', topn=10)  # get other similar words\n",
        "sims"
      ],
      "metadata": {
        "colab": {
          "base_uri": "https://localhost:8080/"
        },
        "id": "BZ3qoTAQYRaq",
        "outputId": "2a7c01ab-62ec-4faf-8207-b69b8643d602"
      },
      "execution_count": null,
      "outputs": [
        {
          "output_type": "execute_result",
          "data": {
            "text/plain": [
              "[('painting', 0.33501213788986206),\n",
              " ('second', 0.29028165340423584),\n",
              " ('troves', 0.29024744033813477),\n",
              " ('vision', 0.2835042476654053),\n",
              " ('segmentation', 0.2810121476650238),\n",
              " ('medical', 0.27727818489074707),\n",
              " ('valueless', 0.26689738035202026),\n",
              " ('djab', 0.2662939131259918),\n",
              " ('went', 0.2593669891357422),\n",
              " ('development', 0.2545108199119568)]"
            ]
          },
          "metadata": {},
          "execution_count": 91
        }
      ]
    },
    {
      "cell_type": "code",
      "source": [
        "len(model.wv.vocab)"
      ],
      "metadata": {
        "colab": {
          "base_uri": "https://localhost:8080/"
        },
        "id": "OALWSknxalZv",
        "outputId": "efa1d47a-0710-4ec7-9289-f94936fe1ca4"
      },
      "execution_count": null,
      "outputs": [
        {
          "output_type": "execute_result",
          "data": {
            "text/plain": [
              "1389"
            ]
          },
          "metadata": {},
          "execution_count": 92
        }
      ]
    },
    {
      "cell_type": "code",
      "source": [
        "def get_av_word2vec(sents):\n",
        "  counter=0\n",
        "  sum=np.zeros((100,), dtype=float)\n",
        "  for i in sents:\n",
        "    for x in word_tokenize(i):\n",
        "      if x not in stop_words:\n",
        "        vector = model.wv[x] \n",
        "        sum+=vector\n",
        "        counter+=1\n",
        "  return sum/counter\n",
        "    \n",
        "\n",
        "\n",
        "\n"
      ],
      "metadata": {
        "id": "2VbTP7x2gvo3"
      },
      "execution_count": null,
      "outputs": []
    },
    {
      "cell_type": "code",
      "source": [
        "vec1=get_av_word2vec(list_sentences_text1)\n",
        "vec2=get_av_word2vec(list_sentences_text2)\n",
        "vec3=get_av_word2vec(list_sentences_text3)\n",
        "vec3\n"
      ],
      "metadata": {
        "id": "kGvY6aBRUQ5F",
        "colab": {
          "base_uri": "https://localhost:8080/"
        },
        "outputId": "5c80ccfc-c30c-422b-8b63-de3763a3b563"
      },
      "execution_count": null,
      "outputs": [
        {
          "output_type": "execute_result",
          "data": {
            "text/plain": [
              "array([ 9.12889388e-05,  1.01369398e-04,  3.38327544e-04, -1.69346361e-04,\n",
              "       -2.72972386e-04,  2.27887703e-05, -2.37792856e-05, -1.94383792e-04,\n",
              "        6.23784471e-05, -2.21518482e-04,  6.64120645e-05,  6.59374274e-05,\n",
              "       -1.10272330e-04, -4.62397901e-06, -2.58468967e-04,  4.39960143e-05,\n",
              "        2.31360874e-04,  9.91057708e-06,  3.98201256e-04, -1.92059211e-04,\n",
              "       -2.62408966e-05,  1.97619027e-04, -1.78220264e-04, -1.38330896e-04,\n",
              "        1.32064327e-04,  3.32156873e-04, -2.30116323e-04, -7.59334080e-05,\n",
              "        1.41449949e-04, -3.53602346e-04, -6.45831337e-05,  2.84450451e-04,\n",
              "        5.87831771e-05, -9.57477682e-05,  1.00388281e-04,  3.57041382e-04,\n",
              "       -4.30273696e-04, -5.97077114e-05,  7.05294621e-05,  3.38391666e-04,\n",
              "        2.90407751e-04,  3.12384701e-04,  1.02756917e-04,  6.88440677e-05,\n",
              "       -5.50104682e-05, -1.85752381e-04,  5.45772867e-05, -1.88533929e-04,\n",
              "       -1.65091873e-04,  6.22508811e-05, -1.03444139e-04, -1.95559658e-04,\n",
              "       -1.26465933e-04,  2.42683454e-04,  4.01761426e-04, -1.17264993e-04,\n",
              "        1.56047273e-04,  7.06233433e-05, -2.47042210e-04, -5.06937123e-04,\n",
              "       -4.76821982e-04,  2.69619669e-04, -3.70587184e-04, -5.75719662e-05,\n",
              "        2.30992403e-04,  6.45468256e-04,  3.25395212e-04, -4.58906031e-04,\n",
              "        9.71243671e-05,  1.95076159e-05, -1.05434306e-04, -2.62004458e-04,\n",
              "        9.71847260e-05, -1.23440594e-04, -1.77579789e-04, -1.32070165e-04,\n",
              "        1.69029850e-04,  2.87886587e-05,  1.88547826e-04, -1.36410558e-05,\n",
              "        2.53665296e-04, -4.22406101e-04,  2.45547627e-04, -3.88358777e-04,\n",
              "       -1.93531715e-04,  2.64687843e-04,  2.01101310e-04,  2.62430821e-04,\n",
              "        4.87544458e-06,  1.95876218e-04,  1.37952214e-05,  2.63906028e-04,\n",
              "        1.91533154e-04,  3.33632252e-04, -1.02309243e-04,  5.13796341e-04,\n",
              "       -1.43298264e-04,  5.70201997e-05,  1.07700835e-04, -4.81623649e-04])"
            ]
          },
          "metadata": {},
          "execution_count": 94
        }
      ]
    },
    {
      "cell_type": "markdown",
      "source": [
        "#dis between centroid of  neural networks arc1 and foodball arc"
      ],
      "metadata": {
        "id": "Qu2HJqVmUf_r"
      }
    },
    {
      "cell_type": "code",
      "source": [
        "dist12 = np.linalg.norm(vec1 - vec2)\n",
        "dist12"
      ],
      "metadata": {
        "colab": {
          "base_uri": "https://localhost:8080/"
        },
        "id": "uJCnmqPETW6X",
        "outputId": "4f61b811-83dc-47c9-92ef-b4a393ca3d51"
      },
      "execution_count": null,
      "outputs": [
        {
          "output_type": "execute_result",
          "data": {
            "text/plain": [
              "0.00366598946731925"
            ]
          },
          "metadata": {},
          "execution_count": 95
        }
      ]
    },
    {
      "cell_type": "markdown",
      "source": [
        "#dis between centroid of  neural networks arc1 and naural network arc2"
      ],
      "metadata": {
        "id": "tOfA0NTIUdUi"
      }
    },
    {
      "cell_type": "code",
      "source": [
        " \n",
        "dist13 = np.linalg.norm(vec1 - vec3)\n",
        "dist13"
      ],
      "metadata": {
        "colab": {
          "base_uri": "https://localhost:8080/"
        },
        "id": "VF-6yaT05Mie",
        "outputId": "03a3a1f2-d357-4072-f064-d672f6996adc"
      },
      "execution_count": null,
      "outputs": [
        {
          "output_type": "execute_result",
          "data": {
            "text/plain": [
              "0.0019886291610173145"
            ]
          },
          "metadata": {},
          "execution_count": 96
        }
      ]
    },
    {
      "cell_type": "markdown",
      "source": [
        "#dis between centroid of  neural networks arc2 and foodball arc"
      ],
      "metadata": {
        "id": "7m5dVTFrUciD"
      }
    },
    {
      "cell_type": "code",
      "source": [
        "dist23=np.linalg.norm(vec2 - vec3)\n",
        "dist23"
      ],
      "metadata": {
        "colab": {
          "base_uri": "https://localhost:8080/"
        },
        "id": "1rDdCU-75Spd",
        "outputId": "e3bfafef-9402-45da-da8e-732ed4bc628a"
      },
      "execution_count": null,
      "outputs": [
        {
          "output_type": "execute_result",
          "data": {
            "text/plain": [
              "0.0035099419210232706"
            ]
          },
          "metadata": {},
          "execution_count": 97
        }
      ]
    }
  ]
}