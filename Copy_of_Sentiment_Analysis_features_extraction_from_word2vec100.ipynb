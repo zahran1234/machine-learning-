{
  "cells": [
    {
      "cell_type": "markdown",
      "metadata": {
        "id": "view-in-github",
        "colab_type": "text"
      },
      "source": [
        "<a href=\"https://colab.research.google.com/github/zahran1234/machine-learning-/blob/main/Copy_of_Sentiment_Analysis_features_extraction_from_word2vec100.ipynb\" target=\"_parent\"><img src=\"https://colab.research.google.com/assets/colab-badge.svg\" alt=\"Open In Colab\"/></a>"
      ]
    },
    {
      "cell_type": "code",
      "execution_count": 9,
      "id": "b15e44fe",
      "metadata": {
        "colab": {
          "base_uri": "https://localhost:8080/"
        },
        "id": "b15e44fe",
        "outputId": "1f38ef70-0e74-4cbd-ae4e-cb06f7abeadf"
      },
      "outputs": [
        {
          "output_type": "stream",
          "name": "stdout",
          "text": [
            "Looking in indexes: https://pypi.org/simple, https://us-python.pkg.dev/colab-wheels/public/simple/\n",
            "Requirement already satisfied: plotly in /usr/local/lib/python3.8/dist-packages (5.5.0)\n",
            "Requirement already satisfied: six in /usr/local/lib/python3.8/dist-packages (from plotly) (1.15.0)\n",
            "Requirement already satisfied: tenacity>=6.2.0 in /usr/local/lib/python3.8/dist-packages (from plotly) (8.1.0)\n"
          ]
        },
        {
          "output_type": "stream",
          "name": "stderr",
          "text": [
            "[nltk_data] Downloading package punkt to /root/nltk_data...\n",
            "[nltk_data]   Package punkt is already up-to-date!\n",
            "[nltk_data] Downloading package stopwords to /root/nltk_data...\n",
            "[nltk_data]   Package stopwords is already up-to-date!\n"
          ]
        }
      ],
      "source": [
        "!pip install plotly\n",
        "import pandas as pd\n",
        "import numpy as np\n",
        "import matplotlib.pyplot as plt \n",
        "import plotly.express as px\n",
        "from scipy import stats\n",
        "from sklearn.metrics import confusion_matrix,mean_squared_error,precision_score,recall_score,f1_score ,classification_report\n",
        "from sklearn import metrics\n",
        "from sklearn.tree import DecisionTreeClassifier\n",
        "from sklearn.ensemble import RandomForestClassifier , GradientBoostingClassifier\n",
        "from sklearn.model_selection import cross_val_score, GridSearchCV\n",
        "import seaborn as sns\n",
        "from sklearn.feature_extraction.text import TfidfVectorizer\n",
        "import string\n",
        "from gensim.models import Word2Vec\n",
        "import tensorflow as tf\n",
        "from keras.utils import to_categorical\n",
        "from tensorflow.keras.layers import Dense, Flatten\n",
        "from tensorflow.keras.models import Sequential\n",
        "import nltk\n",
        "nltk.download('punkt')\n",
        "nltk.download('stopwords')\n",
        "import re\n",
        "from nltk.stem import ARLSTem\n",
        "from nltk.corpus import stopwords\n",
        "from nltk.stem.porter import PorterStemmer\n",
        "from nltk.tokenize import word_tokenize\n",
        "from keras.utils import to_categorical\n",
        "\n"
      ]
    },
    {
      "cell_type": "code",
      "source": [
        "def get_accuracy(name, trained_model , x_train, y_train, x_test, y_test):\n",
        "    tree_predict = trained_model.predict(x_test)\n",
        "    print(\"Testing accuracy   :\",metrics.accuracy_score(y_test, tree_predict)*100 , \"%\")\n",
        "    print(\"MSE [TEST]          :\",mean_squared_error(y_test, tree_predict))\n",
        "\n",
        "\n",
        "    tree_predict1 = trained_model.predict(x_train)\n",
        "    print(\"Training accuracy  :\",metrics.accuracy_score(y_train, tree_predict1)*100 ,\"%\")\n",
        "    print(\"MSE [TRAIN]         :\",mean_squared_error(y_train, tree_predict1))\n",
        "\n",
        "    print(\"precision : \",precision_score(y_test, tree_predict,average='micro'))\n",
        "    print(\"recall    : \",recall_score(y_test, tree_predict,average='micro'))\n",
        "    print(\"f1_score  : \",f1_score(y_test, tree_predict,average='micro'))\n",
        "\n",
        "\n",
        "    cf1 = confusion_matrix(y_test,tree_predict)\n",
        "    sns.heatmap(cf1,annot=True,fmt = '.0f')\n",
        "    plt.xlabel('prediction')\n",
        "    plt.ylabel('Actual')\n",
        "    plt.title(name+ ' Confusion Matrix')\n",
        "    plt.show()\n",
        "\n",
        "    print(classification_report(y_train,  trained_model.predict(x_train)))\n",
        "    print(classification_report(y_test,  trained_model.predict(x_test)))"
      ],
      "metadata": {
        "id": "5v8ygdvmaODv"
      },
      "id": "5v8ygdvmaODv",
      "execution_count": 10,
      "outputs": []
    },
    {
      "cell_type": "code",
      "source": [
        "def get_accuracy_NN(name, trained_model , x_train, y_train, x_test, y_test,y_train_enc,y_test_enc):\n",
        "  loss,acc=model.evaluate(x_test,y_test_enc)\n",
        "  print(\"test loss :\", loss)\n",
        "  print('test accuracy:',acc*100)\n",
        "  print(\"____________________________\")\n",
        "  loss,acc=model.evaluate(x_train,y_train_enc)\n",
        "  print(\"trainig loss :\", loss)\n",
        "  print('trainig accuracy:',acc*100)\n",
        "  print(\"____________________________\")\n",
        "\n",
        "  pred=model.predict(x_test)\n",
        "  pred_list=[]\n",
        "  for i in pred:\n",
        "    pred_list.append(np.argmax(i))\n",
        "  cf1 = confusion_matrix(y_test,pred_list)\n",
        "  sns.heatmap(cf1,annot=True,fmt = '.0f')\n",
        "  plt.xlabel('prediction')\n",
        "  plt.ylabel('Actual')\n",
        "  plt.title(name+ ' Confusion Matrix')\n",
        "  plt.show()\n",
        "  print(\"true\")\n",
        "  print(classification_report(y_test,pred_list  ))"
      ],
      "metadata": {
        "id": "MxMMdJT0aVQL"
      },
      "id": "MxMMdJT0aVQL",
      "execution_count": 11,
      "outputs": []
    },
    {
      "cell_type": "code",
      "execution_count": 12,
      "id": "44612d1b",
      "metadata": {
        "id": "44612d1b"
      },
      "outputs": [],
      "source": [
        "df= pd.read_excel('/content/original_dataset.xlsx')"
      ]
    },
    {
      "cell_type": "code",
      "execution_count": 13,
      "id": "8f48b6cb",
      "metadata": {
        "id": "8f48b6cb"
      },
      "outputs": [],
      "source": [
        "df=pd.DataFrame(df)"
      ]
    },
    {
      "cell_type": "code",
      "source": [
        "df.head()"
      ],
      "metadata": {
        "colab": {
          "base_uri": "https://localhost:8080/",
          "height": 206
        },
        "id": "ciKaUn-IcIBY",
        "outputId": "19fc23cf-d989-45f2-ee18-1a4a9decf22e"
      },
      "id": "ciKaUn-IcIBY",
      "execution_count": 14,
      "outputs": [
        {
          "output_type": "execute_result",
          "data": {
            "text/plain": [
              "   Unnamed: 0                                 review_description  rating  \\\n",
              "0           0                         سيئ جدا بعد الإصدار الجديد      -1   \n",
              "1           1                                  ابلكيشن زباله بجد      -1   \n",
              "2           2                                 سيئ التطبيق لايعمل      -1   \n",
              "3           3  للأسف التطبيق للأسوأ كان جدا رائع وسهل وبسيط ا...      -1   \n",
              "4           4                     التحديث بطيئ جدا جدا عند الفتح      -1   \n",
              "\n",
              "       company  \n",
              "0  alahli_bank  \n",
              "1  alahli_bank  \n",
              "2  alahli_bank  \n",
              "3  alahli_bank  \n",
              "4  alahli_bank  "
            ],
            "text/html": [
              "\n",
              "  <div id=\"df-df47f33a-2555-4d8f-9103-055c27d13000\">\n",
              "    <div class=\"colab-df-container\">\n",
              "      <div>\n",
              "<style scoped>\n",
              "    .dataframe tbody tr th:only-of-type {\n",
              "        vertical-align: middle;\n",
              "    }\n",
              "\n",
              "    .dataframe tbody tr th {\n",
              "        vertical-align: top;\n",
              "    }\n",
              "\n",
              "    .dataframe thead th {\n",
              "        text-align: right;\n",
              "    }\n",
              "</style>\n",
              "<table border=\"1\" class=\"dataframe\">\n",
              "  <thead>\n",
              "    <tr style=\"text-align: right;\">\n",
              "      <th></th>\n",
              "      <th>Unnamed: 0</th>\n",
              "      <th>review_description</th>\n",
              "      <th>rating</th>\n",
              "      <th>company</th>\n",
              "    </tr>\n",
              "  </thead>\n",
              "  <tbody>\n",
              "    <tr>\n",
              "      <th>0</th>\n",
              "      <td>0</td>\n",
              "      <td>سيئ جدا بعد الإصدار الجديد</td>\n",
              "      <td>-1</td>\n",
              "      <td>alahli_bank</td>\n",
              "    </tr>\n",
              "    <tr>\n",
              "      <th>1</th>\n",
              "      <td>1</td>\n",
              "      <td>ابلكيشن زباله بجد</td>\n",
              "      <td>-1</td>\n",
              "      <td>alahli_bank</td>\n",
              "    </tr>\n",
              "    <tr>\n",
              "      <th>2</th>\n",
              "      <td>2</td>\n",
              "      <td>سيئ التطبيق لايعمل</td>\n",
              "      <td>-1</td>\n",
              "      <td>alahli_bank</td>\n",
              "    </tr>\n",
              "    <tr>\n",
              "      <th>3</th>\n",
              "      <td>3</td>\n",
              "      <td>للأسف التطبيق للأسوأ كان جدا رائع وسهل وبسيط ا...</td>\n",
              "      <td>-1</td>\n",
              "      <td>alahli_bank</td>\n",
              "    </tr>\n",
              "    <tr>\n",
              "      <th>4</th>\n",
              "      <td>4</td>\n",
              "      <td>التحديث بطيئ جدا جدا عند الفتح</td>\n",
              "      <td>-1</td>\n",
              "      <td>alahli_bank</td>\n",
              "    </tr>\n",
              "  </tbody>\n",
              "</table>\n",
              "</div>\n",
              "      <button class=\"colab-df-convert\" onclick=\"convertToInteractive('df-df47f33a-2555-4d8f-9103-055c27d13000')\"\n",
              "              title=\"Convert this dataframe to an interactive table.\"\n",
              "              style=\"display:none;\">\n",
              "        \n",
              "  <svg xmlns=\"http://www.w3.org/2000/svg\" height=\"24px\"viewBox=\"0 0 24 24\"\n",
              "       width=\"24px\">\n",
              "    <path d=\"M0 0h24v24H0V0z\" fill=\"none\"/>\n",
              "    <path d=\"M18.56 5.44l.94 2.06.94-2.06 2.06-.94-2.06-.94-.94-2.06-.94 2.06-2.06.94zm-11 1L8.5 8.5l.94-2.06 2.06-.94-2.06-.94L8.5 2.5l-.94 2.06-2.06.94zm10 10l.94 2.06.94-2.06 2.06-.94-2.06-.94-.94-2.06-.94 2.06-2.06.94z\"/><path d=\"M17.41 7.96l-1.37-1.37c-.4-.4-.92-.59-1.43-.59-.52 0-1.04.2-1.43.59L10.3 9.45l-7.72 7.72c-.78.78-.78 2.05 0 2.83L4 21.41c.39.39.9.59 1.41.59.51 0 1.02-.2 1.41-.59l7.78-7.78 2.81-2.81c.8-.78.8-2.07 0-2.86zM5.41 20L4 18.59l7.72-7.72 1.47 1.35L5.41 20z\"/>\n",
              "  </svg>\n",
              "      </button>\n",
              "      \n",
              "  <style>\n",
              "    .colab-df-container {\n",
              "      display:flex;\n",
              "      flex-wrap:wrap;\n",
              "      gap: 12px;\n",
              "    }\n",
              "\n",
              "    .colab-df-convert {\n",
              "      background-color: #E8F0FE;\n",
              "      border: none;\n",
              "      border-radius: 50%;\n",
              "      cursor: pointer;\n",
              "      display: none;\n",
              "      fill: #1967D2;\n",
              "      height: 32px;\n",
              "      padding: 0 0 0 0;\n",
              "      width: 32px;\n",
              "    }\n",
              "\n",
              "    .colab-df-convert:hover {\n",
              "      background-color: #E2EBFA;\n",
              "      box-shadow: 0px 1px 2px rgba(60, 64, 67, 0.3), 0px 1px 3px 1px rgba(60, 64, 67, 0.15);\n",
              "      fill: #174EA6;\n",
              "    }\n",
              "\n",
              "    [theme=dark] .colab-df-convert {\n",
              "      background-color: #3B4455;\n",
              "      fill: #D2E3FC;\n",
              "    }\n",
              "\n",
              "    [theme=dark] .colab-df-convert:hover {\n",
              "      background-color: #434B5C;\n",
              "      box-shadow: 0px 1px 3px 1px rgba(0, 0, 0, 0.15);\n",
              "      filter: drop-shadow(0px 1px 2px rgba(0, 0, 0, 0.3));\n",
              "      fill: #FFFFFF;\n",
              "    }\n",
              "  </style>\n",
              "\n",
              "      <script>\n",
              "        const buttonEl =\n",
              "          document.querySelector('#df-df47f33a-2555-4d8f-9103-055c27d13000 button.colab-df-convert');\n",
              "        buttonEl.style.display =\n",
              "          google.colab.kernel.accessAllowed ? 'block' : 'none';\n",
              "\n",
              "        async function convertToInteractive(key) {\n",
              "          const element = document.querySelector('#df-df47f33a-2555-4d8f-9103-055c27d13000');\n",
              "          const dataTable =\n",
              "            await google.colab.kernel.invokeFunction('convertToInteractive',\n",
              "                                                     [key], {});\n",
              "          if (!dataTable) return;\n",
              "\n",
              "          const docLinkHtml = 'Like what you see? Visit the ' +\n",
              "            '<a target=\"_blank\" href=https://colab.research.google.com/notebooks/data_table.ipynb>data table notebook</a>'\n",
              "            + ' to learn more about interactive tables.';\n",
              "          element.innerHTML = '';\n",
              "          dataTable['output_type'] = 'display_data';\n",
              "          await google.colab.output.renderOutput(dataTable, element);\n",
              "          const docLink = document.createElement('div');\n",
              "          docLink.innerHTML = docLinkHtml;\n",
              "          element.appendChild(docLink);\n",
              "        }\n",
              "      </script>\n",
              "    </div>\n",
              "  </div>\n",
              "  "
            ]
          },
          "metadata": {},
          "execution_count": 14
        }
      ]
    },
    {
      "cell_type": "code",
      "execution_count": 15,
      "id": "e38942ba",
      "metadata": {
        "id": "e38942ba",
        "colab": {
          "base_uri": "https://localhost:8080/"
        },
        "outputId": "0d41b1a5-190f-481f-f480-d8e8c7912b72"
      },
      "outputs": [
        {
          "output_type": "stream",
          "name": "stdout",
          "text": [
            "(67127, 4)\n",
            "(67125, 4)\n"
          ]
        }
      ],
      "source": [
        "print(df.shape)\n",
        "df=df.dropna()\n",
        "df=df.drop_duplicates()\n",
        "print(df.shape)"
      ]
    },
    {
      "cell_type": "markdown",
      "source": [
        "# **data visualization**"
      ],
      "metadata": {
        "id": "TyjYupuzcuhz"
      },
      "id": "TyjYupuzcuhz"
    },
    {
      "cell_type": "code",
      "execution_count": 16,
      "id": "1555b323",
      "metadata": {
        "id": "1555b323",
        "colab": {
          "base_uri": "https://localhost:8080/",
          "height": 346
        },
        "outputId": "48ba06c4-4a3a-4ef6-a661-81bb3e01f8db"
      },
      "outputs": [
        {
          "output_type": "execute_result",
          "data": {
            "text/plain": [
              "<matplotlib.axes._subplots.AxesSubplot at 0x7fbc560297c0>"
            ]
          },
          "metadata": {},
          "execution_count": 16
        },
        {
          "output_type": "display_data",
          "data": {
            "text/plain": [
              "<Figure size 432x288 with 1 Axes>"
            ],
            "image/png": "[encoded data removed]"
          },
          "metadata": {
            "needs_background": "light"
          }
        }
      ],
      "source": [
        "df.company.value_counts().plot(kind='bar')"
      ]
    },
    {
      "cell_type": "code",
      "source": [
        "fig = px.sunburst(df, path=['rating'],title= ' rating')\n",
        "fig.update_traces(textinfo='label + percent parent')"
      ],
      "metadata": {
        "id": "4FUR3q51DYyo",
        "colab": {
          "base_uri": "https://localhost:8080/",
          "height": 542
        },
        "outputId": "cdc14984-f682-4bcb-b993-c1799f53321d"
      },
      "id": "4FUR3q51DYyo",
      "execution_count": 17,
      "outputs": [
        {
          "output_type": "display_data",
          "data": {
            "text/html": [
              "<html>\n",
              "<head><meta charset=\"utf-8\" /></head>\n",
              "<body>\n",
              "    <div>            <script src=\"https://cdnjs.cloudflare.com/ajax/libs/mathjax/2.7.5/MathJax.js?config=TeX-AMS-MML_SVG\"></script><script type=\"text/javascript\">if (window.MathJax) {MathJax.Hub.Config({SVG: {font: \"STIX-Web\"}});}</script>                <script type=\"text/javascript\">window.PlotlyConfig = {MathJaxConfig: 'local'};</script>\n",
              "        <script src=\"https://cdn.plot.ly/plotly-2.8.3.min.js\"></script>                <div id=\"6a175f81-8381-4544-9b4c-29b8a91ea641\" class=\"plotly-graph-div\" style=\"height:525px; width:100%;\"></div>            <script type=\"text/javascript\">                                    window.PLOTLYENV=window.PLOTLYENV || {};                                    if (document.getElementById(\"6a175f81-8381-4544-9b4c-29b8a91ea641\")) {                    Plotly.newPlot(                        \"6a175f81-8381-4544-9b4c-29b8a91ea641\",                        [{\"branchvalues\":\"total\",\"domain\":{\"x\":[0.0,1.0],\"y\":[0.0,1.0]},\"hovertemplate\":\"labels=%{label}<br>count=%{value}<br>parent=%{parent}<br>id=%{id}<extra></extra>\",\"ids\":[\"-1\",\"0\",\"1\"],\"labels\":[\"-1\",\"0\",\"1\"],\"name\":\"\",\"parents\":[\"\",\"\",\"\"],\"values\":[23035,23751,20339],\"type\":\"sunburst\",\"textinfo\":\"label+percent parent\"}],                        {\"template\":{\"data\":{\"bar\":[{\"error_x\":{\"color\":\"#2a3f5f\"},\"error_y\":{\"color\":\"#2a3f5f\"},\"marker\":{\"line\":{\"color\":\"#E5ECF6\",\"width\":0.5},\"pattern\":{\"fillmode\":\"overlay\",\"size\":10,\"solidity\":0.2}},\"type\":\"bar\"}],\"barpolar\":[{\"marker\":{\"line\":{\"color\":\"#E5ECF6\",\"width\":0.5},\"pattern\":{\"fillmode\":\"overlay\",\"size\":10,\"solidity\":0.2}},\"type\":\"barpolar\"}],\"carpet\":[{\"aaxis\":{\"endlinecolor\":\"#2a3f5f\",\"gridcolor\":\"white\",\"linecolor\":\"white\",\"minorgridcolor\":\"white\",\"startlinecolor\":\"#2a3f5f\"},\"baxis\":{\"endlinecolor\":\"#2a3f5f\",\"gridcolor\":\"white\",\"linecolor\":\"white\",\"minorgridcolor\":\"white\",\"startlinecolor\":\"#2a3f5f\"},\"type\":\"carpet\"}],\"choropleth\":[{\"colorbar\":{\"outlinewidth\":0,\"ticks\":\"\"},\"type\":\"choropleth\"}],\"contour\":[{\"colorbar\":{\"outlinewidth\":0,\"ticks\":\"\"},\"colorscale\":[[0.0,\"#0d0887\"],[0.1111111111111111,\"#46039f\"],[0.2222222222222222,\"#7201a8\"],[0.3333333333333333,\"#9c179e\"],[0.4444444444444444,\"#bd3786\"],[0.5555555555555556,\"#d8576b\"],[0.6666666666666666,\"#ed7953\"],[0.7777777777777778,\"#fb9f3a\"],[0.8888888888888888,\"#fdca26\"],[1.0,\"#f0f921\"]],\"type\":\"contour\"}],\"contourcarpet\":[{\"colorbar\":{\"outlinewidth\":0,\"ticks\":\"\"},\"type\":\"contourcarpet\"}],\"heatmap\":[{\"colorbar\":{\"outlinewidth\":0,\"ticks\":\"\"},\"colorscale\":[[0.0,\"#0d0887\"],[0.1111111111111111,\"#46039f\"],[0.2222222222222222,\"#7201a8\"],[0.3333333333333333,\"#9c179e\"],[0.4444444444444444,\"#bd3786\"],[0.5555555555555556,\"#d8576b\"],[0.6666666666666666,\"#ed7953\"],[0.7777777777777778,\"#fb9f3a\"],[0.8888888888888888,\"#fdca26\"],[1.0,\"#f0f921\"]],\"type\":\"heatmap\"}],\"heatmapgl\":[{\"colorbar\":{\"outlinewidth\":0,\"ticks\":\"\"},\"colorscale\":[[0.0,\"#0d0887\"],[0.1111111111111111,\"#46039f\"],[0.2222222222222222,\"#7201a8\"],[0.3333333333333333,\"#9c179e\"],[0.4444444444444444,\"#bd3786\"],[0.5555555555555556,\"#d8576b\"],[0.6666666666666666,\"#ed7953\"],[0.7777777777777778,\"#fb9f3a\"],[0.8888888888888888,\"#fdca26\"],[1.0,\"#f0f921\"]],\"type\":\"heatmapgl\"}],\"histogram\":[{\"marker\":{\"pattern\":{\"fillmode\":\"overlay\",\"size\":10,\"solidity\":0.2}},\"type\":\"histogram\"}],\"histogram2d\":[{\"colorbar\":{\"outlinewidth\":0,\"ticks\":\"\"},\"colorscale\":[[0.0,\"#0d0887\"],[0.1111111111111111,\"#46039f\"],[0.2222222222222222,\"#7201a8\"],[0.3333333333333333,\"#9c179e\"],[0.4444444444444444,\"#bd3786\"],[0.5555555555555556,\"#d8576b\"],[0.6666666666666666,\"#ed7953\"],[0.7777777777777778,\"#fb9f3a\"],[0.8888888888888888,\"#fdca26\"],[1.0,\"#f0f921\"]],\"type\":\"histogram2d\"}],\"histogram2dcontour\":[{\"colorbar\":{\"outlinewidth\":0,\"ticks\":\"\"},\"colorscale\":[[0.0,\"#0d0887\"],[0.1111111111111111,\"#46039f\"],[0.2222222222222222,\"#7201a8\"],[0.3333333333333333,\"#9c179e\"],[0.4444444444444444,\"#bd3786\"],[0.5555555555555556,\"#d8576b\"],[0.6666666666666666,\"#ed7953\"],[0.7777777777777778,\"#fb9f3a\"],[0.8888888888888888,\"#fdca26\"],[1.0,\"#f0f921\"]],\"type\":\"histogram2dcontour\"}],\"mesh3d\":[{\"colorbar\":{\"outlinewidth\":0,\"ticks\":\"\"},\"type\":\"mesh3d\"}],\"parcoords\":[{\"line\":{\"colorbar\":{\"outlinewidth\":0,\"ticks\":\"\"}},\"type\":\"parcoords\"}],\"pie\":[{\"automargin\":true,\"type\":\"pie\"}],\"scatter\":[{\"marker\":{\"colorbar\":{\"outlinewidth\":0,\"ticks\":\"\"}},\"type\":\"scatter\"}],\"scatter3d\":[{\"line\":{\"colorbar\":{\"outlinewidth\":0,\"ticks\":\"\"}},\"marker\":{\"colorbar\":{\"outlinewidth\":0,\"ticks\":\"\"}},\"type\":\"scatter3d\"}],\"scattercarpet\":[{\"marker\":{\"colorbar\":{\"outlinewidth\":0,\"ticks\":\"\"}},\"type\":\"scattercarpet\"}],\"scattergeo\":[{\"marker\":{\"colorbar\":{\"outlinewidth\":0,\"ticks\":\"\"}},\"type\":\"scattergeo\"}],\"scattergl\":[{\"marker\":{\"colorbar\":{\"outlinewidth\":0,\"ticks\":\"\"}},\"type\":\"scattergl\"}],\"scattermapbox\":[{\"marker\":{\"colorbar\":{\"outlinewidth\":0,\"ticks\":\"\"}},\"type\":\"scattermapbox\"}],\"scatterpolar\":[{\"marker\":{\"colorbar\":{\"outlinewidth\":0,\"ticks\":\"\"}},\"type\":\"scatterpolar\"}],\"scatterpolargl\":[{\"marker\":{\"colorbar\":{\"outlinewidth\":0,\"ticks\":\"\"}},\"type\":\"scatterpolargl\"}],\"scatterternary\":[{\"marker\":{\"colorbar\":{\"outlinewidth\":0,\"ticks\":\"\"}},\"type\":\"scatterternary\"}],\"surface\":[{\"colorbar\":{\"outlinewidth\":0,\"ticks\":\"\"},\"colorscale\":[[0.0,\"#0d0887\"],[0.1111111111111111,\"#46039f\"],[0.2222222222222222,\"#7201a8\"],[0.3333333333333333,\"#9c179e\"],[0.4444444444444444,\"#bd3786\"],[0.5555555555555556,\"#d8576b\"],[0.6666666666666666,\"#ed7953\"],[0.7777777777777778,\"#fb9f3a\"],[0.8888888888888888,\"#fdca26\"],[1.0,\"#f0f921\"]],\"type\":\"surface\"}],\"table\":[{\"cells\":{\"fill\":{\"color\":\"#EBF0F8\"},\"line\":{\"color\":\"white\"}},\"header\":{\"fill\":{\"color\":\"#C8D4E3\"},\"line\":{\"color\":\"white\"}},\"type\":\"table\"}]},\"layout\":{\"annotationdefaults\":{\"arrowcolor\":\"#2a3f5f\",\"arrowhead\":0,\"arrowwidth\":1},\"autotypenumbers\":\"strict\",\"coloraxis\":{\"colorbar\":{\"outlinewidth\":0,\"ticks\":\"\"}},\"colorscale\":{\"diverging\":[[0,\"#8e0152\"],[0.1,\"#c51b7d\"],[0.2,\"#de77ae\"],[0.3,\"#f1b6da\"],[0.4,\"#fde0ef\"],[0.5,\"#f7f7f7\"],[0.6,\"#e6f5d0\"],[0.7,\"#b8e186\"],[0.8,\"#7fbc41\"],[0.9,\"#4d9221\"],[1,\"#276419\"]],\"sequential\":[[0.0,\"#0d0887\"],[0.1111111111111111,\"#46039f\"],[0.2222222222222222,\"#7201a8\"],[0.3333333333333333,\"#9c179e\"],[0.4444444444444444,\"#bd3786\"],[0.5555555555555556,\"#d8576b\"],[0.6666666666666666,\"#ed7953\"],[0.7777777777777778,\"#fb9f3a\"],[0.8888888888888888,\"#fdca26\"],[1.0,\"#f0f921\"]],\"sequentialminus\":[[0.0,\"#0d0887\"],[0.1111111111111111,\"#46039f\"],[0.2222222222222222,\"#7201a8\"],[0.3333333333333333,\"#9c179e\"],[0.4444444444444444,\"#bd3786\"],[0.5555555555555556,\"#d8576b\"],[0.6666666666666666,\"#ed7953\"],[0.7777777777777778,\"#fb9f3a\"],[0.8888888888888888,\"#fdca26\"],[1.0,\"#f0f921\"]]},\"colorway\":[\"#636efa\",\"#EF553B\",\"#00cc96\",\"#ab63fa\",\"#FFA15A\",\"#19d3f3\",\"#FF6692\",\"#B6E880\",\"#FF97FF\",\"#FECB52\"],\"font\":{\"color\":\"#2a3f5f\"},\"geo\":{\"bgcolor\":\"white\",\"lakecolor\":\"white\",\"landcolor\":\"#E5ECF6\",\"showlakes\":true,\"showland\":true,\"subunitcolor\":\"white\"},\"hoverlabel\":{\"align\":\"left\"},\"hovermode\":\"closest\",\"mapbox\":{\"style\":\"light\"},\"paper_bgcolor\":\"white\",\"plot_bgcolor\":\"#E5ECF6\",\"polar\":{\"angularaxis\":{\"gridcolor\":\"white\",\"linecolor\":\"white\",\"ticks\":\"\"},\"bgcolor\":\"#E5ECF6\",\"radialaxis\":{\"gridcolor\":\"white\",\"linecolor\":\"white\",\"ticks\":\"\"}},\"scene\":{\"xaxis\":{\"backgroundcolor\":\"#E5ECF6\",\"gridcolor\":\"white\",\"gridwidth\":2,\"linecolor\":\"white\",\"showbackground\":true,\"ticks\":\"\",\"zerolinecolor\":\"white\"},\"yaxis\":{\"backgroundcolor\":\"#E5ECF6\",\"gridcolor\":\"white\",\"gridwidth\":2,\"linecolor\":\"white\",\"showbackground\":true,\"ticks\":\"\",\"zerolinecolor\":\"white\"},\"zaxis\":{\"backgroundcolor\":\"#E5ECF6\",\"gridcolor\":\"white\",\"gridwidth\":2,\"linecolor\":\"white\",\"showbackground\":true,\"ticks\":\"\",\"zerolinecolor\":\"white\"}},\"shapedefaults\":{\"line\":{\"color\":\"#2a3f5f\"}},\"ternary\":{\"aaxis\":{\"gridcolor\":\"white\",\"linecolor\":\"white\",\"ticks\":\"\"},\"baxis\":{\"gridcolor\":\"white\",\"linecolor\":\"white\",\"ticks\":\"\"},\"bgcolor\":\"#E5ECF6\",\"caxis\":{\"gridcolor\":\"white\",\"linecolor\":\"white\",\"ticks\":\"\"}},\"title\":{\"x\":0.05},\"xaxis\":{\"automargin\":true,\"gridcolor\":\"white\",\"linecolor\":\"white\",\"ticks\":\"\",\"title\":{\"standoff\":15},\"zerolinecolor\":\"white\",\"zerolinewidth\":2},\"yaxis\":{\"automargin\":true,\"gridcolor\":\"white\",\"linecolor\":\"white\",\"ticks\":\"\",\"title\":{\"standoff\":15},\"zerolinecolor\":\"white\",\"zerolinewidth\":2}}},\"legend\":{\"tracegroupgap\":0},\"title\":{\"text\":\" rating\"}},                        {\"responsive\": true}                    ).then(function(){\n",
              "                            \n",
              "var gd = document.getElementById('6a175f81-8381-4544-9b4c-29b8a91ea641');\n",
              "var x = new MutationObserver(function (mutations, observer) {{\n",
              "        var display = window.getComputedStyle(gd).display;\n",
              "        if (!display || display === 'none') {{\n",
              "            console.log([gd, 'removed!']);\n",
              "            Plotly.purge(gd);\n",
              "            observer.disconnect();\n",
              "        }}\n",
              "}});\n",
              "\n",
              "// Listen for the removal of the full notebook cells\n",
              "var notebookContainer = gd.closest('#notebook-container');\n",
              "if (notebookContainer) {{\n",
              "    x.observe(notebookContainer, {childList: true});\n",
              "}}\n",
              "\n",
              "// Listen for the clearing of the current output cell\n",
              "var outputEl = gd.closest('.output');\n",
              "if (outputEl) {{\n",
              "    x.observe(outputEl, {childList: true});\n",
              "}}\n",
              "\n",
              "                        })                };                            </script>        </div>\n",
              "</body>\n",
              "</html>"
            ]
          },
          "metadata": {}
        }
      ]
    },
    {
      "cell_type": "code",
      "source": [
        "sns.countplot(df.rating)"
      ],
      "metadata": {
        "id": "sTBcPpW8Dqzf",
        "colab": {
          "base_uri": "https://localhost:8080/",
          "height": 386
        },
        "outputId": "9b838822-2c61-4a96-ceb1-ec9ca9496320"
      },
      "id": "sTBcPpW8Dqzf",
      "execution_count": 18,
      "outputs": [
        {
          "output_type": "stream",
          "name": "stderr",
          "text": [
            "/usr/local/lib/python3.8/dist-packages/seaborn/_decorators.py:36: FutureWarning:\n",
            "\n",
            "Pass the following variable as a keyword arg: x. From version 0.12, the only valid positional argument will be `data`, and passing other arguments without an explicit keyword will result in an error or misinterpretation.\n",
            "\n"
          ]
        },
        {
          "output_type": "execute_result",
          "data": {
            "text/plain": [
              "<matplotlib.axes._subplots.AxesSubplot at 0x7fbc547e52b0>"
            ]
          },
          "metadata": {},
          "execution_count": 18
        },
        {
          "output_type": "display_data",
          "data": {
            "text/plain": [
              "<Figure size 432x288 with 1 Axes>"
            ],
            "image/png": "[encoded data removed]"
          },
          "metadata": {
            "needs_background": "light"
          }
        }
      ]
    },
    {
      "cell_type": "code",
      "execution_count": 19,
      "metadata": {
        "id": "G0pi9YWdDab1",
        "colab": {
          "base_uri": "https://localhost:8080/",
          "height": 542
        },
        "outputId": "1b48d7df-87dd-4229-bfd2-28fd24427928"
      },
      "outputs": [
        {
          "output_type": "display_data",
          "data": {
            "text/html": [
              "<html>\n",
              "<head><meta charset=\"utf-8\" /></head>\n",
              "<body>\n",
              "    <div>            <script src=\"https://cdnjs.cloudflare.com/ajax/libs/mathjax/2.7.5/MathJax.js?config=TeX-AMS-MML_SVG\"></script><script type=\"text/javascript\">if (window.MathJax) {MathJax.Hub.Config({SVG: {font: \"STIX-Web\"}});}</script>                <script type=\"text/javascript\">window.PlotlyConfig = {MathJaxConfig: 'local'};</script>\n",
              "        <script src=\"https://cdn.plot.ly/plotly-2.8.3.min.js\"></script>                <div id=\"0a3c1370-bdf9-4b81-8c1c-2acb671e99ea\" class=\"plotly-graph-div\" style=\"height:525px; width:100%;\"></div>            <script type=\"text/javascript\">                                    window.PLOTLYENV=window.PLOTLYENV || {};                                    if (document.getElementById(\"0a3c1370-bdf9-4b81-8c1c-2acb671e99ea\")) {                    Plotly.newPlot(                        \"0a3c1370-bdf9-4b81-8c1c-2acb671e99ea\",                        [{\"branchvalues\":\"total\",\"domain\":{\"x\":[0.0,1.0],\"y\":[0.0,1.0]},\"hovertemplate\":\"labels=%{label}<br>count=%{value}<br>parent=%{parent}<br>id=%{id}<extra></extra>\",\"ids\":[\"Raya/-1\",\"alahli_bank/-1\",\"hilton/-1\",\"swvl/-1\",\"talbat/-1\",\"telecom_egypt/-1\",\"venus/-1\",\"Raya/0\",\"alahli_bank/0\",\"hilton/0\",\"hotels/0\",\"swvl/0\",\"talbat/0\",\"telecom_egypt/0\",\"venus/0\",\"Raya/1\",\"alahli_bank/1\",\"hilton/1\",\"swvl/1\",\"talbat/1\",\"telecom_egypt/1\",\"venus/1\",\"Raya\",\"alahli_bank\",\"hilton\",\"hotels\",\"swvl\",\"talbat\",\"telecom_egypt\",\"venus\"],\"labels\":[\"-1\",\"-1\",\"-1\",\"-1\",\"-1\",\"-1\",\"-1\",\"0\",\"0\",\"0\",\"0\",\"0\",\"0\",\"0\",\"0\",\"1\",\"1\",\"1\",\"1\",\"1\",\"1\",\"1\",\"Raya\",\"alahli_bank\",\"hilton\",\"hotels\",\"swvl\",\"talbat\",\"telecom_egypt\",\"venus\"],\"name\":\"\",\"parents\":[\"Raya\",\"alahli_bank\",\"hilton\",\"swvl\",\"talbat\",\"telecom_egypt\",\"venus\",\"Raya\",\"alahli_bank\",\"hilton\",\"hotels\",\"swvl\",\"talbat\",\"telecom_egypt\",\"venus\",\"Raya\",\"alahli_bank\",\"hilton\",\"swvl\",\"talbat\",\"telecom_egypt\",\"venus\",\"\",\"\",\"\",\"\",\"\",\"\",\"\",\"\"],\"values\":[164,9202,24,1770,10657,1141,77,8,405,6,19998,418,2749,128,39,46,212,21,1938,17542,480,100,218,9819,51,19998,4126,30948,1749,216],\"type\":\"sunburst\",\"textinfo\":\"label+percent parent\"}],                        {\"template\":{\"data\":{\"bar\":[{\"error_x\":{\"color\":\"#2a3f5f\"},\"error_y\":{\"color\":\"#2a3f5f\"},\"marker\":{\"line\":{\"color\":\"#E5ECF6\",\"width\":0.5},\"pattern\":{\"fillmode\":\"overlay\",\"size\":10,\"solidity\":0.2}},\"type\":\"bar\"}],\"barpolar\":[{\"marker\":{\"line\":{\"color\":\"#E5ECF6\",\"width\":0.5},\"pattern\":{\"fillmode\":\"overlay\",\"size\":10,\"solidity\":0.2}},\"type\":\"barpolar\"}],\"carpet\":[{\"aaxis\":{\"endlinecolor\":\"#2a3f5f\",\"gridcolor\":\"white\",\"linecolor\":\"white\",\"minorgridcolor\":\"white\",\"startlinecolor\":\"#2a3f5f\"},\"baxis\":{\"endlinecolor\":\"#2a3f5f\",\"gridcolor\":\"white\",\"linecolor\":\"white\",\"minorgridcolor\":\"white\",\"startlinecolor\":\"#2a3f5f\"},\"type\":\"carpet\"}],\"choropleth\":[{\"colorbar\":{\"outlinewidth\":0,\"ticks\":\"\"},\"type\":\"choropleth\"}],\"contour\":[{\"colorbar\":{\"outlinewidth\":0,\"ticks\":\"\"},\"colorscale\":[[0.0,\"#0d0887\"],[0.1111111111111111,\"#46039f\"],[0.2222222222222222,\"#7201a8\"],[0.3333333333333333,\"#9c179e\"],[0.4444444444444444,\"#bd3786\"],[0.5555555555555556,\"#d8576b\"],[0.6666666666666666,\"#ed7953\"],[0.7777777777777778,\"#fb9f3a\"],[0.8888888888888888,\"#fdca26\"],[1.0,\"#f0f921\"]],\"type\":\"contour\"}],\"contourcarpet\":[{\"colorbar\":{\"outlinewidth\":0,\"ticks\":\"\"},\"type\":\"contourcarpet\"}],\"heatmap\":[{\"colorbar\":{\"outlinewidth\":0,\"ticks\":\"\"},\"colorscale\":[[0.0,\"#0d0887\"],[0.1111111111111111,\"#46039f\"],[0.2222222222222222,\"#7201a8\"],[0.3333333333333333,\"#9c179e\"],[0.4444444444444444,\"#bd3786\"],[0.5555555555555556,\"#d8576b\"],[0.6666666666666666,\"#ed7953\"],[0.7777777777777778,\"#fb9f3a\"],[0.8888888888888888,\"#fdca26\"],[1.0,\"#f0f921\"]],\"type\":\"heatmap\"}],\"heatmapgl\":[{\"colorbar\":{\"outlinewidth\":0,\"ticks\":\"\"},\"colorscale\":[[0.0,\"#0d0887\"],[0.1111111111111111,\"#46039f\"],[0.2222222222222222,\"#7201a8\"],[0.3333333333333333,\"#9c179e\"],[0.4444444444444444,\"#bd3786\"],[0.5555555555555556,\"#d8576b\"],[0.6666666666666666,\"#ed7953\"],[0.7777777777777778,\"#fb9f3a\"],[0.8888888888888888,\"#fdca26\"],[1.0,\"#f0f921\"]],\"type\":\"heatmapgl\"}],\"histogram\":[{\"marker\":{\"pattern\":{\"fillmode\":\"overlay\",\"size\":10,\"solidity\":0.2}},\"type\":\"histogram\"}],\"histogram2d\":[{\"colorbar\":{\"outlinewidth\":0,\"ticks\":\"\"},\"colorscale\":[[0.0,\"#0d0887\"],[0.1111111111111111,\"#46039f\"],[0.2222222222222222,\"#7201a8\"],[0.3333333333333333,\"#9c179e\"],[0.4444444444444444,\"#bd3786\"],[0.5555555555555556,\"#d8576b\"],[0.6666666666666666,\"#ed7953\"],[0.7777777777777778,\"#fb9f3a\"],[0.8888888888888888,\"#fdca26\"],[1.0,\"#f0f921\"]],\"type\":\"histogram2d\"}],\"histogram2dcontour\":[{\"colorbar\":{\"outlinewidth\":0,\"ticks\":\"\"},\"colorscale\":[[0.0,\"#0d0887\"],[0.1111111111111111,\"#46039f\"],[0.2222222222222222,\"#7201a8\"],[0.3333333333333333,\"#9c179e\"],[0.4444444444444444,\"#bd3786\"],[0.5555555555555556,\"#d8576b\"],[0.6666666666666666,\"#ed7953\"],[0.7777777777777778,\"#fb9f3a\"],[0.8888888888888888,\"#fdca26\"],[1.0,\"#f0f921\"]],\"type\":\"histogram2dcontour\"}],\"mesh3d\":[{\"colorbar\":{\"outlinewidth\":0,\"ticks\":\"\"},\"type\":\"mesh3d\"}],\"parcoords\":[{\"line\":{\"colorbar\":{\"outlinewidth\":0,\"ticks\":\"\"}},\"type\":\"parcoords\"}],\"pie\":[{\"automargin\":true,\"type\":\"pie\"}],\"scatter\":[{\"marker\":{\"colorbar\":{\"outlinewidth\":0,\"ticks\":\"\"}},\"type\":\"scatter\"}],\"scatter3d\":[{\"line\":{\"colorbar\":{\"outlinewidth\":0,\"ticks\":\"\"}},\"marker\":{\"colorbar\":{\"outlinewidth\":0,\"ticks\":\"\"}},\"type\":\"scatter3d\"}],\"scattercarpet\":[{\"marker\":{\"colorbar\":{\"outlinewidth\":0,\"ticks\":\"\"}},\"type\":\"scattercarpet\"}],\"scattergeo\":[{\"marker\":{\"colorbar\":{\"outlinewidth\":0,\"ticks\":\"\"}},\"type\":\"scattergeo\"}],\"scattergl\":[{\"marker\":{\"colorbar\":{\"outlinewidth\":0,\"ticks\":\"\"}},\"type\":\"scattergl\"}],\"scattermapbox\":[{\"marker\":{\"colorbar\":{\"outlinewidth\":0,\"ticks\":\"\"}},\"type\":\"scattermapbox\"}],\"scatterpolar\":[{\"marker\":{\"colorbar\":{\"outlinewidth\":0,\"ticks\":\"\"}},\"type\":\"scatterpolar\"}],\"scatterpolargl\":[{\"marker\":{\"colorbar\":{\"outlinewidth\":0,\"ticks\":\"\"}},\"type\":\"scatterpolargl\"}],\"scatterternary\":[{\"marker\":{\"colorbar\":{\"outlinewidth\":0,\"ticks\":\"\"}},\"type\":\"scatterternary\"}],\"surface\":[{\"colorbar\":{\"outlinewidth\":0,\"ticks\":\"\"},\"colorscale\":[[0.0,\"#0d0887\"],[0.1111111111111111,\"#46039f\"],[0.2222222222222222,\"#7201a8\"],[0.3333333333333333,\"#9c179e\"],[0.4444444444444444,\"#bd3786\"],[0.5555555555555556,\"#d8576b\"],[0.6666666666666666,\"#ed7953\"],[0.7777777777777778,\"#fb9f3a\"],[0.8888888888888888,\"#fdca26\"],[1.0,\"#f0f921\"]],\"type\":\"surface\"}],\"table\":[{\"cells\":{\"fill\":{\"color\":\"#EBF0F8\"},\"line\":{\"color\":\"white\"}},\"header\":{\"fill\":{\"color\":\"#C8D4E3\"},\"line\":{\"color\":\"white\"}},\"type\":\"table\"}]},\"layout\":{\"annotationdefaults\":{\"arrowcolor\":\"#2a3f5f\",\"arrowhead\":0,\"arrowwidth\":1},\"autotypenumbers\":\"strict\",\"coloraxis\":{\"colorbar\":{\"outlinewidth\":0,\"ticks\":\"\"}},\"colorscale\":{\"diverging\":[[0,\"#8e0152\"],[0.1,\"#c51b7d\"],[0.2,\"#de77ae\"],[0.3,\"#f1b6da\"],[0.4,\"#fde0ef\"],[0.5,\"#f7f7f7\"],[0.6,\"#e6f5d0\"],[0.7,\"#b8e186\"],[0.8,\"#7fbc41\"],[0.9,\"#4d9221\"],[1,\"#276419\"]],\"sequential\":[[0.0,\"#0d0887\"],[0.1111111111111111,\"#46039f\"],[0.2222222222222222,\"#7201a8\"],[0.3333333333333333,\"#9c179e\"],[0.4444444444444444,\"#bd3786\"],[0.5555555555555556,\"#d8576b\"],[0.6666666666666666,\"#ed7953\"],[0.7777777777777778,\"#fb9f3a\"],[0.8888888888888888,\"#fdca26\"],[1.0,\"#f0f921\"]],\"sequentialminus\":[[0.0,\"#0d0887\"],[0.1111111111111111,\"#46039f\"],[0.2222222222222222,\"#7201a8\"],[0.3333333333333333,\"#9c179e\"],[0.4444444444444444,\"#bd3786\"],[0.5555555555555556,\"#d8576b\"],[0.6666666666666666,\"#ed7953\"],[0.7777777777777778,\"#fb9f3a\"],[0.8888888888888888,\"#fdca26\"],[1.0,\"#f0f921\"]]},\"colorway\":[\"#636efa\",\"#EF553B\",\"#00cc96\",\"#ab63fa\",\"#FFA15A\",\"#19d3f3\",\"#FF6692\",\"#B6E880\",\"#FF97FF\",\"#FECB52\"],\"font\":{\"color\":\"#2a3f5f\"},\"geo\":{\"bgcolor\":\"white\",\"lakecolor\":\"white\",\"landcolor\":\"#E5ECF6\",\"showlakes\":true,\"showland\":true,\"subunitcolor\":\"white\"},\"hoverlabel\":{\"align\":\"left\"},\"hovermode\":\"closest\",\"mapbox\":{\"style\":\"light\"},\"paper_bgcolor\":\"white\",\"plot_bgcolor\":\"#E5ECF6\",\"polar\":{\"angularaxis\":{\"gridcolor\":\"white\",\"linecolor\":\"white\",\"ticks\":\"\"},\"bgcolor\":\"#E5ECF6\",\"radialaxis\":{\"gridcolor\":\"white\",\"linecolor\":\"white\",\"ticks\":\"\"}},\"scene\":{\"xaxis\":{\"backgroundcolor\":\"#E5ECF6\",\"gridcolor\":\"white\",\"gridwidth\":2,\"linecolor\":\"white\",\"showbackground\":true,\"ticks\":\"\",\"zerolinecolor\":\"white\"},\"yaxis\":{\"backgroundcolor\":\"#E5ECF6\",\"gridcolor\":\"white\",\"gridwidth\":2,\"linecolor\":\"white\",\"showbackground\":true,\"ticks\":\"\",\"zerolinecolor\":\"white\"},\"zaxis\":{\"backgroundcolor\":\"#E5ECF6\",\"gridcolor\":\"white\",\"gridwidth\":2,\"linecolor\":\"white\",\"showbackground\":true,\"ticks\":\"\",\"zerolinecolor\":\"white\"}},\"shapedefaults\":{\"line\":{\"color\":\"#2a3f5f\"}},\"ternary\":{\"aaxis\":{\"gridcolor\":\"white\",\"linecolor\":\"white\",\"ticks\":\"\"},\"baxis\":{\"gridcolor\":\"white\",\"linecolor\":\"white\",\"ticks\":\"\"},\"bgcolor\":\"#E5ECF6\",\"caxis\":{\"gridcolor\":\"white\",\"linecolor\":\"white\",\"ticks\":\"\"}},\"title\":{\"x\":0.05},\"xaxis\":{\"automargin\":true,\"gridcolor\":\"white\",\"linecolor\":\"white\",\"ticks\":\"\",\"title\":{\"standoff\":15},\"zerolinecolor\":\"white\",\"zerolinewidth\":2},\"yaxis\":{\"automargin\":true,\"gridcolor\":\"white\",\"linecolor\":\"white\",\"ticks\":\"\",\"title\":{\"standoff\":15},\"zerolinecolor\":\"white\",\"zerolinewidth\":2}}},\"legend\":{\"tracegroupgap\":0},\"title\":{\"text\":\"Relation between company and rating\"}},                        {\"responsive\": true}                    ).then(function(){\n",
              "                            \n",
              "var gd = document.getElementById('0a3c1370-bdf9-4b81-8c1c-2acb671e99ea');\n",
              "var x = new MutationObserver(function (mutations, observer) {{\n",
              "        var display = window.getComputedStyle(gd).display;\n",
              "        if (!display || display === 'none') {{\n",
              "            console.log([gd, 'removed!']);\n",
              "            Plotly.purge(gd);\n",
              "            observer.disconnect();\n",
              "        }}\n",
              "}});\n",
              "\n",
              "// Listen for the removal of the full notebook cells\n",
              "var notebookContainer = gd.closest('#notebook-container');\n",
              "if (notebookContainer) {{\n",
              "    x.observe(notebookContainer, {childList: true});\n",
              "}}\n",
              "\n",
              "// Listen for the clearing of the current output cell\n",
              "var outputEl = gd.closest('.output');\n",
              "if (outputEl) {{\n",
              "    x.observe(outputEl, {childList: true});\n",
              "}}\n",
              "\n",
              "                        })                };                            </script>        </div>\n",
              "</body>\n",
              "</html>"
            ]
          },
          "metadata": {}
        }
      ],
      "source": [
        "fig = px.sunburst(df, path=['company', 'rating'],title= 'Relation between company and rating')\n",
        "fig.update_traces(textinfo='label + percent parent')"
      ],
      "id": "G0pi9YWdDab1"
    },
    {
      "cell_type": "code",
      "source": [
        "emojis = {\n",
        "    \"🙂\":\"يبتسم\",\n",
        "    \"😂\":\"يضحك\",\n",
        "    \"💔\":\"قلب حزين\",\n",
        "    \"🙂\":\"يبتسم\",\n",
        "    \"❤️\":\"حب\",\n",
        "    \"❤\":\"حب\",\n",
        "    \"😍\":\"حب\",\n",
        "    \"😭\":\"يبكي\",\n",
        "    \"😢\":\"حزن\",\n",
        "    \"😔\":\"حزن\",\n",
        "    \"♥\":\"حب\",\n",
        "    \"💜\":\"حب\",\n",
        "    \"😅\":\"يضحك\",\n",
        "    \"🙁\":\"حزين\",\n",
        "    \"💕\":\"حب\",\n",
        "    \"💙\":\"حب\",\n",
        "    \"😞\":\"حزين\",\n",
        "    \"😊\":\"سعادة\",\n",
        "    \"👏\":\"يصفق\",\n",
        "    \"👌\":\"احسنت\",\n",
        "    \"😴\":\"ينام\",\n",
        "    \"😀\":\"يضحك\",\n",
        "    \"😌\":\"حزين\",\n",
        "    \"🌹\":\"وردة\",\n",
        "    \"🙈\":\"حب\",\n",
        "    \"😄\":\"يضحك\",\n",
        "    \"😐\":\"محايد\",\n",
        "    \"✌\":\"منتصر\",\n",
        "    \"✨\":\"نجمه\",\n",
        "    \"🤔\":\"تفكير\",\n",
        "    \"😏\":\"يستهزء\",\n",
        "    \"😒\":\"يستهزء\",\n",
        "    \"🙄\":\"ملل\",\n",
        "    \"😕\":\"عصبية\",\n",
        "    \"😃\":\"يضحك\",\n",
        "    \"🌸\":\"وردة\",\n",
        "    \"😓\":\"حزن\",\n",
        "    \"💞\":\"حب\",\n",
        "    \"💗\":\"حب\",\n",
        "    \"😑\":\"منزعج\",\n",
        "    \"💭\":\"تفكير\",\n",
        "    \"😎\":\"ثقة\",\n",
        "    \"💛\":\"حب\",\n",
        "    \"😩\":\"حزين\",\n",
        "    \"💪\":\"عضلات\",\n",
        "    \"👍\":\"موافق\",\n",
        "    \"🙏🏻\":\"رجاء طلب\",\n",
        "    \"😳\":\"مصدوم\",\n",
        "    \"👏🏼\":\"تصفيق\",\n",
        "    \"🎶\":\"موسيقي\",\n",
        "    \"🌚\":\"صمت\",\n",
        "    \"💚\":\"حب\",\n",
        "    \"🙏\":\"رجاء طلب\",\n",
        "    \"💘\":\"حب\",\n",
        "    \"🍃\":\"سلام\",\n",
        "    \"☺\":\"يضحك\",\n",
        "    \"🐸\":\"ضفدع\",\n",
        "    \"😶\":\"مصدوم\",\n",
        "    \"✌️\":\"مرح\",\n",
        "    \"✋🏻\":\"توقف\",\n",
        "    \"😉\":\"غمزة\",\n",
        "    \"🌷\":\"حب\",\n",
        "    \"🙃\":\"مبتسم\",\n",
        "    \"😫\":\"حزين\",\n",
        "    \"😨\":\"مصدوم\",\n",
        "    \"🎼 \":\"موسيقي\",\n",
        "    \"🍁\":\"مرح\",\n",
        "    \"🍂\":\"مرح\",\n",
        "    \"💟\":\"حب\",\n",
        "    \"😪\":\"حزن\",\n",
        "    \"😆\":\"يضحك\",\n",
        "    \"😣\":\"استياء\",\n",
        "    \"☺️\":\"حب\",\n",
        "    \"😱\":\"كارثة\",\n",
        "    \"😁\":\"يضحك\",\n",
        "    \"😖\":\"استياء\",\n",
        "    \"🏃🏼\":\"يجري\",\n",
        "    \"😡\":\"غضب\",\n",
        "    \"🚶\":\"يسير\",\n",
        "    \"🤕\":\"مرض\",\n",
        "    \"‼️\":\"تعجب\",\n",
        "    \"🕊\":\"طائر\",\n",
        "    \"👌🏻\":\"احسنت\",\n",
        "    \"❣\":\"حب\",\n",
        "    \"🙊\":\"مصدوم\",\n",
        "    \"💃\":\"سعادة مرح\",\n",
        "    \"💃🏼\":\"سعادة مرح\",\n",
        "    \"😜\":\"مرح\",\n",
        "    \"👊\":\"ضربة\",\n",
        "    \"😟\":\"استياء\",\n",
        "    \"💖\":\"حب\",\n",
        "    \"😥\":\"حزن\",\n",
        "    \"🎻\":\"موسيقي\",\n",
        "    \"✒\":\"يكتب\",\n",
        "    \"🚶🏻\":\"يسير\",\n",
        "    \"💎\":\"الماظ\",\n",
        "    \"😷\":\"وباء مرض\",\n",
        "    \"☝\":\"واحد\",\n",
        "    \"🚬\":\"تدخين\",\n",
        "    \"💐\" : \"ورد\",\n",
        "    \"🌞\" : \"شمس\",\n",
        "    \"👆\" : \"الاول\",\n",
        "    \"⚠️\" :\"تحذير\",\n",
        "    \"🤗\" : \"احتواء\",\n",
        "    \"✖️\": \"غلط\",\n",
        "    \"📍\"  : \"مكان\",\n",
        "    \"👸\" : \"ملكه\",\n",
        "    \"👑\" : \"تاج\",\n",
        "    \"✔️\" : \"صح\",\n",
        "    \"💌\": \"قلب\",\n",
        "    \"😲\" : \"مندهش\",\n",
        "    \"💦\": \"ماء\",\n",
        "    \"🚫\" : \"خطا\",\n",
        "    \"👏🏻\" : \"برافو\",\n",
        "    \"🏊\" :\"يسبح\",\n",
        "    \"👍🏻\": \"تمام\",\n",
        "    \"⭕️\" :\"دائره كبيره\",\n",
        "    \"🎷\" : \"ساكسفون\",\n",
        "    \"👋\": \"تلويح باليد\",\n",
        "    \"✌🏼\": \"علامه النصر\",\n",
        "    \"🌝\":\"مبتسم\",\n",
        "    \"➿\"  : \"عقده مزدوجه\",\n",
        "    \"💪🏼\" : \"قوي\",\n",
        "    \"📩\":  \"تواصل معي\",\n",
        "    \"☕️\": \"قهوه\",\n",
        "    \"😧\" : \"قلق و صدمة\",\n",
        "    \"🗨\": \"رسالة\",   \n",
        "    \"❗️\" :\"تعجب\",\n",
        "    \"🙆🏻\": \"اشاره موافقه\",\n",
        "    \"👯\" :\"اخوات\",\n",
        "    \"©\" :  \"رمز\",\n",
        "    \"👵🏽\" :\"سيده عجوزه\",\n",
        "    \"🐣\": \"كتكوت\",  \n",
        "    \"🙌\": \"تشجيع\",\n",
        "    \"🙇\": \"شخص ينحني\",\n",
        "    \"👐🏽\":\"ايدي مفتوحه\",    \n",
        "    \"👌🏽\": \"بالظبط\",\n",
        "    \"⁉️\" : \"استنكار\",\n",
        "    \"⚽️\": \"كوره\",\n",
        "    \"🕶\" :\"حب\",\n",
        "    \"🎈\" :\"بالون\",    \n",
        "    \"🎀\":    \"ورده\",\n",
        "    \"💵\":  \"فلوس\",   \n",
        "    \"😋\":  \"جائع\",\n",
        "    \"😛\":  \"يغيظ\",\n",
        "    \"😠\":  \"غاضب\",\n",
        "    \"✍🏻\":  \"يكتب\",\n",
        "    \"🌾\":  \"ارز\",\n",
        "    \"👣\":  \"اثر قدمين\",\n",
        "    \"❌\":\"رفض\",\n",
        "    \"🍟\":\"طعام\",\n",
        "    \"👬\":\"صداقة\",\n",
        "    \"🐰\":\"ارنب\",\n",
        "    \"☂\":\"مطر\",\n",
        "    \"⚜\":\"مملكة فرنسا\",\n",
        "    \"🐑\":\"خروف\",\n",
        "    \"🗣\":\"صوت مرتفع\",\n",
        "    \"👌🏼\":\"احسنت\",\n",
        "    \"☘\":\"مرح\",\n",
        "    \"😮\":\"صدمة\",\n",
        "    \"😦\":\"قلق\",\n",
        "    \"⭕\":\"الحق\",\n",
        "    \"✏️\":\"قلم\",\n",
        "    \"ℹ\":\"معلومات\",\n",
        "    \"🙍🏻\":\"رفض\",\n",
        "    \"⚪️\":\"نضارة نقاء\",\n",
        "    \"🐤\":\"حزن\",\n",
        "    \"💫\":\"مرح\",\n",
        "    \"💝\":\"حب\",\n",
        "    \"🍔\":\"طعام\",\n",
        "    \"❤︎\":\"حب\",\n",
        "    \"✈️\":\"سفر\",\n",
        "    \"🏃🏻‍♀️\":\"يسير\",\n",
        "    \"🍳\":\"ذكر\",\n",
        "    \"🎤\":\"مايك غناء\",\n",
        "    \"🎾\":\"كره\",\n",
        "    \"🐔\":\"دجاجة\",\n",
        "    \"🙋\":\"سؤال\",\n",
        "    \"📮\":\"بحر\",\n",
        "    \"💉\":\"دواء\",\n",
        "    \"🙏🏼\":\"رجاء طلب\",\n",
        "    \"💂🏿 \":\"حارس\",\n",
        "    \"🎬\":\"سينما\",\n",
        "    \"♦️\":\"مرح\",\n",
        "    \"💡\":\"قكرة\",\n",
        "    \"‼\":\"تعجب\",\n",
        "    \"👼\":\"طفل\",\n",
        "    \"🔑\":\"مفتاح\",\n",
        "    \"♥️\":\"حب\",\n",
        "    \"🕋\":\"كعبة\",\n",
        "    \"🐓\":\"دجاجة\",\n",
        "    \"💩\":\"معترض\",\n",
        "    \"👽\":\"فضائي\",\n",
        "    \"☔️\":\"مطر\",\n",
        "    \"🍷\":\"عصير\",\n",
        "    \"🌟\":\"نجمة\",\n",
        "    \"☁️\":\"سحب\",\n",
        "    \"👃\":\"معترض\",\n",
        "    \"🌺\":\"مرح\",\n",
        "    \"🔪\":\"سكينة\",\n",
        "    \"♨\":\"سخونية\",\n",
        "    \"👊🏼\":\"ضرب\",\n",
        "    \"✏\":\"قلم\",\n",
        "    \"🚶🏾‍♀️\":\"يسير\",\n",
        "    \"👊\":\"ضربة\",\n",
        "    \"◾️\":\"وقف\",\n",
        "    \"😚\":\"حب\",\n",
        "    \"🔸\":\"مرح\",\n",
        "    \"👎🏻\":\"لا يعجبني\",\n",
        "    \"👊🏽\":\"ضربة\",\n",
        "    \"😙\":\"حب\",\n",
        "    \"🎥\":\"تصوير\",\n",
        "    \"👉\":\"جذب انتباه\",\n",
        "    \"👏🏽\":\"يصفق\",\n",
        "    \"💪🏻\":\"عضلات\",\n",
        "    \"🏴\":\"اسود\",\n",
        "    \"🔥\":\"حريق\",  \n",
        "    \"😬\":\"عدم الراحة\",   \n",
        "    \"👊🏿\":\"يضرب\",    \n",
        "    \"🌿\":\"ورقه شجره\",     \n",
        "    \"✋🏼\":\"كف ايد\",    \n",
        "    \"👐\":\"ايدي مفتوحه\",      \n",
        "    \"☠️\":\"وجه مرعب\",     \n",
        "    \"🎉\":\"يهنئ\",      \n",
        "    \"🔕\" :\"صامت\",\n",
        "    \"😿\":\"وجه حزين\",      \n",
        "    \"☹️\":\"وجه يائس\",     \n",
        "    \"😘\" :\"حب\",     \n",
        "    \"😰\" :\"خوف و حزن\",\n",
        "    \"🌼\":\"ورده\",      \n",
        "    \"💋\":  \"بوسه\",\n",
        "    \"👇\":\"لاسفل\",     \n",
        "    \"❣️\":\"حب\",     \n",
        "    \"🎧\":\"سماعات\",\n",
        "    \"📝\":\"يكتب\",      \n",
        "    \"😇\":\"دايخ\",      \n",
        "    \"😈\":\"رعب\",      \n",
        "    \"🏃\":\"يجري\",      \n",
        "    \"✌🏻\":\"علامه النصر\",    \n",
        "    \"🔫\":\"يضرب\",      \n",
        "    \"❗️\":\"تعجب\",\n",
        "    \"👎\":\"غير موافق\",      \n",
        "    \"🔐\":\"قفل\",      \n",
        "    \"👈\":\"لليمين\",\n",
        "    \"™\":\"رمز\",    \n",
        "    \"🚶🏽\":\"يتمشي\",    \n",
        "    \"😯\":\"متفاجأ\",  \n",
        "    \"✊\":\"يد مغلقه\",    \n",
        "    \"😻\":\"اعجاب\",    \n",
        "    \"🙉\" :\"قرد\",    \n",
        "    \"👧\":\"طفله صغيره\",     \n",
        "    \"🔴\":\"دائره حمراء\",      \n",
        "    \"💪🏽\":\"قوه\",     \n",
        "    \"💤\":\"ينام\",     \n",
        "    \"👀\":\"ينظر\",     \n",
        "    \"✍🏻\":\"يكتب\",  \n",
        "    \"❄️\":\"تلج\",\n",
        "    \"💀\":\"رعب\",   \n",
        "    \"😤\":\"وجه عابس\",      \n",
        "    \"🖋\":\"قلم\",      \n",
        "    \"🎩\":\"كاب\",      \n",
        "    \"☕️\":\"قهوه\",     \n",
        "    \"😹\":\"ضحك\",     \n",
        "    \"💓\":\"حب\",      \n",
        "    \"☄️ \":\"نار\",     \n",
        "    \"👻\":\"رعب\",\n",
        "    \"❎\":\"خطء\",\n",
        "    \"🤮\":\"حزن\",\n",
        "    '🏻':\"احمر\"\n",
        "    }\n",
        "\n",
        "emoticons_to_emoji = {\n",
        "    \":)\" : \"🙂\",\n",
        "    \":(\" : \"🙁\",\n",
        "    \"xD\" : \"😆\",\n",
        "    \":=(\": \"😭\",\n",
        "    \":'(\": \"😢\",\n",
        "    \":'‑(\": \"😢\",\n",
        "    \"XD\" : \"😂\",\n",
        "    \":D\" : \"🙂\",\n",
        "    \"♬\" : \"موسيقي\",\n",
        "    \"♡\" : \"❤\",\n",
        "    \"☻\"  : \"🙂\",\n",
        "    }"
      ],
      "metadata": {
        "id": "DpkgtKzYMu5E"
      },
      "id": "DpkgtKzYMu5E",
      "execution_count": 20,
      "outputs": []
    },
    {
      "cell_type": "code",
      "source": [],
      "metadata": {
        "id": "Cl2jdjytNHl7"
      },
      "id": "Cl2jdjytNHl7",
      "execution_count": 20,
      "outputs": []
    },
    {
      "cell_type": "markdown",
      "source": [
        "# **data cleaning**"
      ],
      "metadata": {
        "id": "VmZQyVDPdGXi"
      },
      "id": "VmZQyVDPdGXi"
    },
    {
      "cell_type": "code",
      "execution_count": 21,
      "id": "2295a62b",
      "metadata": {
        "id": "2295a62b"
      },
      "outputs": [],
      "source": [
        "def del_digits_and_pun(value,pun):\n",
        "    new_value= re.sub('[1-9]','',value)\n",
        "    for i in pun:\n",
        "        new_value=new_value.replace(i,' ')\n",
        "    return new_value"
      ]
    },
    {
      "cell_type": "code",
      "source": [
        "def tokens_review(x,stop_words):\n",
        "    x=str(x)\n",
        "    words=word_tokenize(x)\n",
        "    new_words=[]\n",
        "    for i in words:\n",
        "        text = re.sub(r'[^ء-ي ]',' ',i)\n",
        "        \n",
        "        if text not in stop_words:\n",
        "            new_words.append(text)\n",
        "    return new_words"
      ],
      "metadata": {
        "id": "t41DrPc0nBfE"
      },
      "id": "t41DrPc0nBfE",
      "execution_count": 22,
      "outputs": []
    },
    {
      "cell_type": "code",
      "source": [
        "def remove_diacritics(text):\n",
        "        arabic_diacritics = re.compile(\"\"\" ّ    | # Tashdid\n",
        "                             َ    | # Fatha\n",
        "                             ً    | # Tanwin Fath\n",
        "                             ُ    | # Damma\n",
        "                             ٌ    | # Tanwin Damm\n",
        "                             ِ    | # Kasra\n",
        "                             ٍ    | # Tanwin Kasr\n",
        "                             ْ    | # Sukun\n",
        "                             ـ     # Tatwil/Kashida\n",
        "                         \"\"\", re.VERBOSE)\n",
        "        text = re.sub(arabic_diacritics, '', str(text))\n",
        "        return text "
      ],
      "metadata": {
        "id": "1kylgXfxOoqg"
      },
      "id": "1kylgXfxOoqg",
      "execution_count": 23,
      "outputs": []
    },
    {
      "cell_type": "code",
      "source": [
        "def hendle_emojis(text,emojis):\n",
        "  li=[]\n",
        "  for i in word_tokenize(text):\n",
        "    for x in i :\n",
        "      if x not in emojis.keys():\n",
        "        li.append(i)\n",
        "        break\n",
        "      else:\n",
        "        li.append(emojis[x])\n",
        "  return \" \".join(li)\n",
        "        "
      ],
      "metadata": {
        "id": "2H4I_DZoOp1J"
      },
      "id": "2H4I_DZoOp1J",
      "execution_count": 24,
      "outputs": []
    },
    {
      "cell_type": "markdown",
      "source": [
        "delete english punctuations and arabic punctuations from our reviews"
      ],
      "metadata": {
        "id": "Fmu8q_TddlVh"
      },
      "id": "Fmu8q_TddlVh"
    },
    {
      "cell_type": "code",
      "source": [
        "hendle_emojis(\"😂😂😂\", emojis)"
      ],
      "metadata": {
        "id": "EpRttZD7On60",
        "outputId": "f8ca00b8-407e-4eb4-f77b-eaea89e2d93c",
        "colab": {
          "base_uri": "https://localhost:8080/",
          "height": 35
        }
      },
      "id": "EpRttZD7On60",
      "execution_count": 25,
      "outputs": [
        {
          "output_type": "execute_result",
          "data": {
            "text/plain": [
              "'يضحك يضحك يضحك'"
            ],
            "application/vnd.google.colaboratory.intrinsic+json": {
              "type": "string"
            }
          },
          "metadata": {},
          "execution_count": 25
        }
      ]
    },
    {
      "cell_type": "code",
      "execution_count": 26,
      "id": "d1298735",
      "metadata": {
        "id": "d1298735"
      },
      "outputs": [],
      "source": [
        "arabic_punctuations = \"\"\"\n",
        "`÷×؛،.<>_()*&^%][ـ،/:؟.,'{}~¦+|!”…“–#.ـ\n",
        "\"\"\"\n",
        "\n",
        "english_punctuations = string.punctuation\n",
        "punctuations_list = arabic_punctuations + english_punctuations\n",
        "punctuations_list\n",
        "list_pun=[i for i in punctuations_list]\n",
        "\n",
        "\n",
        "df.review_description=df.review_description.apply(del_digits_and_pun,args=[list_pun])\n",
        "\n"
      ]
    },
    {
      "cell_type": "markdown",
      "source": [
        "# ** staming  reviwe**"
      ],
      "metadata": {
        "id": "BlgrzPYsnJHH"
      },
      "id": "BlgrzPYsnJHH"
    },
    {
      "cell_type": "code",
      "source": [
        "def preprossing (review):\n",
        "  words=word_tokenize(review)\n",
        "  new_words=[]\n",
        "  stop_words=stopwords.words('arabic')\n",
        "  stop_words.remove('لا')\n",
        "  stop_words.remove('لكن')\n",
        "  stop_words.remove('ولكن')\n",
        "  stop_words.remove('واو')\n",
        "  stop_words.remove('أطعم')\n",
        "  stop_words.remove('أف')\n",
        "  stop_words.append('طلبات')\n",
        "  stop_words.append('شركه')\n",
        "  stop_words.append('برنامج')\n",
        "  stop_words.append('تطبيق')\n",
        "  for i in words:\n",
        "    stemmer = ARLSTem()\n",
        "    word = stemmer.stem(i)\n",
        "    if i in stop_words:\n",
        "      continue \n",
        "    new_words.append(word)\n",
        "\n",
        "  return \" \".join(new_words)\n",
        "\n",
        "\n"
      ],
      "metadata": {
        "id": "1f7J0g7Bl3Sj"
      },
      "id": "1f7J0g7Bl3Sj",
      "execution_count": 27,
      "outputs": []
    },
    {
      "cell_type": "code",
      "source": [
        "import nltk\n",
        "\n",
        "df['clean']=df.review_description.apply(preprossing)\n",
        "df['clean']=df.clean.apply(hendle_emojis,args=[emojis])\n",
        "\n"
      ],
      "metadata": {
        "id": "e1PZVejYh84P"
      },
      "id": "e1PZVejYh84P",
      "execution_count": 28,
      "outputs": []
    },
    {
      "cell_type": "code",
      "source": [
        "df.head()"
      ],
      "metadata": {
        "id": "w2azPSRfVvZO",
        "outputId": "37ca5f1a-29b5-4962-a3e6-bbd79753a9e7",
        "colab": {
          "base_uri": "https://localhost:8080/",
          "height": 206
        }
      },
      "id": "w2azPSRfVvZO",
      "execution_count": 29,
      "outputs": [
        {
          "output_type": "execute_result",
          "data": {
            "text/plain": [
              "   Unnamed: 0                                 review_description  rating  \\\n",
              "0           0                         سيئ جدا بعد الإصدار الجديد      -1   \n",
              "1           1                                  ابلكيشن زباله بجد      -1   \n",
              "2           2                                 سيئ التطبيق لايعمل      -1   \n",
              "3           3  للأسف التطبيق للأسوأ كان جدا رائع وسهل وبسيط ا...      -1   \n",
              "4           4                     التحديث بطيئ جدا جدا عند الفتح      -1   \n",
              "\n",
              "       company                                              clean  \n",
              "0  alahli_bank                                   سيئ جدا صدر جديد  \n",
              "1  alahli_bank                                     بلكيش زبال بجد  \n",
              "2  alahli_bank                                   سيئ تطبيق لايعمل  \n",
              "3  alahli_bank  اسف تطبيق اسوا جدا رائع سهل بسيط معقد فتح معا ...  \n",
              "4  alahli_bank                             تحديث بطيئ جدا جدا فتح  "
            ],
            "text/html": [
              "\n",
              "  <div id=\"df-f90acfbd-179a-420c-91ab-79cfc00420ba\">\n",
              "    <div class=\"colab-df-container\">\n",
              "      <div>\n",
              "<style scoped>\n",
              "    .dataframe tbody tr th:only-of-type {\n",
              "        vertical-align: middle;\n",
              "    }\n",
              "\n",
              "    .dataframe tbody tr th {\n",
              "        vertical-align: top;\n",
              "    }\n",
              "\n",
              "    .dataframe thead th {\n",
              "        text-align: right;\n",
              "    }\n",
              "</style>\n",
              "<table border=\"1\" class=\"dataframe\">\n",
              "  <thead>\n",
              "    <tr style=\"text-align: right;\">\n",
              "      <th></th>\n",
              "      <th>Unnamed: 0</th>\n",
              "      <th>review_description</th>\n",
              "      <th>rating</th>\n",
              "      <th>company</th>\n",
              "      <th>clean</th>\n",
              "    </tr>\n",
              "  </thead>\n",
              "  <tbody>\n",
              "    <tr>\n",
              "      <th>0</th>\n",
              "      <td>0</td>\n",
              "      <td>سيئ جدا بعد الإصدار الجديد</td>\n",
              "      <td>-1</td>\n",
              "      <td>alahli_bank</td>\n",
              "      <td>سيئ جدا صدر جديد</td>\n",
              "    </tr>\n",
              "    <tr>\n",
              "      <th>1</th>\n",
              "      <td>1</td>\n",
              "      <td>ابلكيشن زباله بجد</td>\n",
              "      <td>-1</td>\n",
              "      <td>alahli_bank</td>\n",
              "      <td>بلكيش زبال بجد</td>\n",
              "    </tr>\n",
              "    <tr>\n",
              "      <th>2</th>\n",
              "      <td>2</td>\n",
              "      <td>سيئ التطبيق لايعمل</td>\n",
              "      <td>-1</td>\n",
              "      <td>alahli_bank</td>\n",
              "      <td>سيئ تطبيق لايعمل</td>\n",
              "    </tr>\n",
              "    <tr>\n",
              "      <th>3</th>\n",
              "      <td>3</td>\n",
              "      <td>للأسف التطبيق للأسوأ كان جدا رائع وسهل وبسيط ا...</td>\n",
              "      <td>-1</td>\n",
              "      <td>alahli_bank</td>\n",
              "      <td>اسف تطبيق اسوا جدا رائع سهل بسيط معقد فتح معا ...</td>\n",
              "    </tr>\n",
              "    <tr>\n",
              "      <th>4</th>\n",
              "      <td>4</td>\n",
              "      <td>التحديث بطيئ جدا جدا عند الفتح</td>\n",
              "      <td>-1</td>\n",
              "      <td>alahli_bank</td>\n",
              "      <td>تحديث بطيئ جدا جدا فتح</td>\n",
              "    </tr>\n",
              "  </tbody>\n",
              "</table>\n",
              "</div>\n",
              "      <button class=\"colab-df-convert\" onclick=\"convertToInteractive('df-f90acfbd-179a-420c-91ab-79cfc00420ba')\"\n",
              "              title=\"Convert this dataframe to an interactive table.\"\n",
              "              style=\"display:none;\">\n",
              "        \n",
              "  <svg xmlns=\"http://www.w3.org/2000/svg\" height=\"24px\"viewBox=\"0 0 24 24\"\n",
              "       width=\"24px\">\n",
              "    <path d=\"M0 0h24v24H0V0z\" fill=\"none\"/>\n",
              "    <path d=\"M18.56 5.44l.94 2.06.94-2.06 2.06-.94-2.06-.94-.94-2.06-.94 2.06-2.06.94zm-11 1L8.5 8.5l.94-2.06 2.06-.94-2.06-.94L8.5 2.5l-.94 2.06-2.06.94zm10 10l.94 2.06.94-2.06 2.06-.94-2.06-.94-.94-2.06-.94 2.06-2.06.94z\"/><path d=\"M17.41 7.96l-1.37-1.37c-.4-.4-.92-.59-1.43-.59-.52 0-1.04.2-1.43.59L10.3 9.45l-7.72 7.72c-.78.78-.78 2.05 0 2.83L4 21.41c.39.39.9.59 1.41.59.51 0 1.02-.2 1.41-.59l7.78-7.78 2.81-2.81c.8-.78.8-2.07 0-2.86zM5.41 20L4 18.59l7.72-7.72 1.47 1.35L5.41 20z\"/>\n",
              "  </svg>\n",
              "      </button>\n",
              "      \n",
              "  <style>\n",
              "    .colab-df-container {\n",
              "      display:flex;\n",
              "      flex-wrap:wrap;\n",
              "      gap: 12px;\n",
              "    }\n",
              "\n",
              "    .colab-df-convert {\n",
              "      background-color: #E8F0FE;\n",
              "      border: none;\n",
              "      border-radius: 50%;\n",
              "      cursor: pointer;\n",
              "      display: none;\n",
              "      fill: #1967D2;\n",
              "      height: 32px;\n",
              "      padding: 0 0 0 0;\n",
              "      width: 32px;\n",
              "    }\n",
              "\n",
              "    .colab-df-convert:hover {\n",
              "      background-color: #E2EBFA;\n",
              "      box-shadow: 0px 1px 2px rgba(60, 64, 67, 0.3), 0px 1px 3px 1px rgba(60, 64, 67, 0.15);\n",
              "      fill: #174EA6;\n",
              "    }\n",
              "\n",
              "    [theme=dark] .colab-df-convert {\n",
              "      background-color: #3B4455;\n",
              "      fill: #D2E3FC;\n",
              "    }\n",
              "\n",
              "    [theme=dark] .colab-df-convert:hover {\n",
              "      background-color: #434B5C;\n",
              "      box-shadow: 0px 1px 3px 1px rgba(0, 0, 0, 0.15);\n",
              "      filter: drop-shadow(0px 1px 2px rgba(0, 0, 0, 0.3));\n",
              "      fill: #FFFFFF;\n",
              "    }\n",
              "  </style>\n",
              "\n",
              "      <script>\n",
              "        const buttonEl =\n",
              "          document.querySelector('#df-f90acfbd-179a-420c-91ab-79cfc00420ba button.colab-df-convert');\n",
              "        buttonEl.style.display =\n",
              "          google.colab.kernel.accessAllowed ? 'block' : 'none';\n",
              "\n",
              "        async function convertToInteractive(key) {\n",
              "          const element = document.querySelector('#df-f90acfbd-179a-420c-91ab-79cfc00420ba');\n",
              "          const dataTable =\n",
              "            await google.colab.kernel.invokeFunction('convertToInteractive',\n",
              "                                                     [key], {});\n",
              "          if (!dataTable) return;\n",
              "\n",
              "          const docLinkHtml = 'Like what you see? Visit the ' +\n",
              "            '<a target=\"_blank\" href=https://colab.research.google.com/notebooks/data_table.ipynb>data table notebook</a>'\n",
              "            + ' to learn more about interactive tables.';\n",
              "          element.innerHTML = '';\n",
              "          dataTable['output_type'] = 'display_data';\n",
              "          await google.colab.output.renderOutput(dataTable, element);\n",
              "          const docLink = document.createElement('div');\n",
              "          docLink.innerHTML = docLinkHtml;\n",
              "          element.appendChild(docLink);\n",
              "        }\n",
              "      </script>\n",
              "    </div>\n",
              "  </div>\n",
              "  "
            ]
          },
          "metadata": {},
          "execution_count": 29
        }
      ]
    },
    {
      "cell_type": "code",
      "source": [
        "x=df['clean'].tolist()\n",
        "x[:10]"
      ],
      "metadata": {
        "id": "kVsiX3TwMQh2",
        "outputId": "8586d863-5ea8-4d98-d220-2993b8637cb9",
        "colab": {
          "base_uri": "https://localhost:8080/"
        }
      },
      "id": "kVsiX3TwMQh2",
      "execution_count": 30,
      "outputs": [
        {
          "output_type": "execute_result",
          "data": {
            "text/plain": [
              "['سيئ جدا صدر جديد',\n",
              " 'بلكيش زبال بجد',\n",
              " 'سيئ تطبيق لايعمل',\n",
              " 'اسف تطبيق اسوا جدا رائع سهل بسيط معقد فتح معا بسهول تجد خدم متاح',\n",
              " 'تحديث بطيئ جدا جدا فتح',\n",
              " 'مرررر زق اخر حديث فتحلي ابد رفض اي كلم مرور كتب او رقم بطاق اهلي خربت غلب ناس كان معتمد اسف',\n",
              " 'تطبيق شتغل عمل سجيل دخول حسابي فتح شوفو حل انا معطل',\n",
              " 'اذا قمت بفتح تطبيق طلب حديث اذا ضغط تحديث قبل تحديث لاهو للي فتح لاهو للي حدث وش مشكل',\n",
              " 'اسف سيئ جدا امس احول ستخدم مافي اتواصل خدم عملاء قال حذف نزل جديد يمك يكو حديث نفس مشكل ماانحل',\n",
              " 'صراح شي موسف']"
            ]
          },
          "metadata": {},
          "execution_count": 30
        }
      ]
    },
    {
      "cell_type": "code",
      "source": [
        "tfidfconverter= TfidfVectorizer(max_features=1000,ngram_range=(1,3))\n",
        "X_Vec = tfidfconverter.fit_transform(x)\n",
        "X_Vec = pd.DataFrame.sparse.from_spmatrix(X_Vec)\n",
        "Y=df[\"rating\"]\n"
      ],
      "metadata": {
        "id": "I2S81pI4U7aO"
      },
      "id": "I2S81pI4U7aO",
      "execution_count": 31,
      "outputs": []
    },
    {
      "cell_type": "code",
      "source": [
        "from sklearn.model_selection import train_test_split\n",
        "x_train,x_test,y_train,y_test = train_test_split(X_Vec,Y,random_state=42,test_size=0.02,shuffle=True)\n",
        "from sklearn.svm import LinearSVC\n",
        "trained_clf_svc = LinearSVC().fit(x_train, y_train)\n",
        "get_accuracy('LinearSVC',trained_clf_svc,x_train, y_train, x_test, y_test)\n"
      ],
      "metadata": {
        "id": "J19DMCPpYtKZ",
        "outputId": "aef118db-aa22-40f4-bdd0-5bd3f3a92a2e",
        "colab": {
          "base_uri": "https://localhost:8080/",
          "height": 764
        }
      },
      "id": "J19DMCPpYtKZ",
      "execution_count": 32,
      "outputs": [
        {
          "output_type": "stream",
          "name": "stdout",
          "text": [
            "Testing accuracy   : 86.15040953090097 %\n",
            "MSE [TEST]          : 0.33730454206999255\n",
            "Training accuracy  : 85.68757410841872 %\n",
            "MSE [TRAIN]         : 0.3402298501109726\n",
            "precision :  0.8615040953090097\n",
            "recall    :  0.8615040953090097\n",
            "f1_score  :  0.8615040953090097\n"
          ]
        },
        {
          "output_type": "display_data",
          "data": {
            "text/plain": [
              "<Figure size 432x288 with 2 Axes>"
            ],
            "image/png": "[encoded data removed]"
          },
          "metadata": {
            "needs_background": "light"
          }
        },
        {
          "output_type": "stream",
          "name": "stdout",
          "text": [
            "              precision    recall  f1-score   support\n",
            "\n",
            "          -1       0.86      0.86      0.86     22563\n",
            "           0       0.95      0.82      0.88     23261\n",
            "           1       0.78      0.89      0.83     19958\n",
            "\n",
            "    accuracy                           0.86     65782\n",
            "   macro avg       0.86      0.86      0.86     65782\n",
            "weighted avg       0.86      0.86      0.86     65782\n",
            "\n",
            "              precision    recall  f1-score   support\n",
            "\n",
            "          -1       0.86      0.86      0.86       472\n",
            "           0       0.96      0.84      0.89       490\n",
            "           1       0.77      0.90      0.83       381\n",
            "\n",
            "    accuracy                           0.86      1343\n",
            "   macro avg       0.86      0.86      0.86      1343\n",
            "weighted avg       0.87      0.86      0.86      1343\n",
            "\n"
          ]
        }
      ]
    },
    {
      "cell_type": "markdown",
      "source": [
        "# **features extraction  word2vec**"
      ],
      "metadata": {
        "id": "8kcv7CgELJUi"
      },
      "id": "8kcv7CgELJUi"
    },
    {
      "cell_type": "code",
      "source": [
        "from gensim.models import Word2Vec\n",
        "sents=[]\n",
        "dim_num=100\n",
        "for i in df.clean:\n",
        "  sents.append(word_tokenize(i))\n",
        "model=Word2Vec(sentences=sents, window=5, min_count=1, workers=4,size=dim_num)"
      ],
      "metadata": {
        "id": "mR4U3sm5GUGe"
      },
      "id": "mR4U3sm5GUGe",
      "execution_count": 33,
      "outputs": []
    },
    {
      "cell_type": "code",
      "source": [
        "X=np.zeros((dim_num,), dtype=float)\n",
        "\n",
        "for i in (df.clean):\n",
        "  counter=0\n",
        "  sum=np.zeros((100,), dtype=float)\n",
        "  for x in word_tokenize(i) :\n",
        "    sum+=model.wv[x]\n",
        "    counter+=1\n",
        "  if counter==0 :\n",
        "    X=np.vstack((X,sum))\n",
        "  else:\n",
        "    X=np.vstack((X,sum/counter))\n",
        "X= np.delete(X, (0), axis=0)\n",
        "y=df.rating \n",
        "X.shape\n",
        "\n",
        "  "
      ],
      "metadata": {
        "colab": {
          "base_uri": "https://localhost:8080/"
        },
        "id": "M_WQH6YJHMI8",
        "outputId": "dc5eec89-8e32-4396-84ea-0ca610291a6a"
      },
      "id": "M_WQH6YJHMI8",
      "execution_count": 34,
      "outputs": [
        {
          "output_type": "execute_result",
          "data": {
            "text/plain": [
              "(67125, 100)"
            ]
          },
          "metadata": {},
          "execution_count": 34
        }
      ]
    },
    {
      "cell_type": "code",
      "source": [],
      "metadata": {
        "id": "lsPln-RKrrYs"
      },
      "execution_count": 34,
      "outputs": [],
      "id": "lsPln-RKrrYs"
    },
    {
      "cell_type": "code",
      "source": [
        "  \n"
      ],
      "metadata": {
        "id": "pIDX5NDv-FY6"
      },
      "id": "pIDX5NDv-FY6",
      "execution_count": 34,
      "outputs": []
    },
    {
      "cell_type": "markdown",
      "source": [
        "**# get X and y**"
      ],
      "metadata": {
        "id": "xxHliw13LQwf"
      },
      "id": "xxHliw13LQwf"
    },
    {
      "cell_type": "code",
      "source": [
        "from sklearn.model_selection import train_test_split\n",
        "\n",
        "def encod(x):\n",
        "  if x==-1:\n",
        "    return 0\n",
        "  if x== 0:\n",
        "    return 1\n",
        "  return 2\n",
        "y=df.rating\n",
        "y=y.apply(encod)\n",
        "x_train,x_test,y_train,y_test = train_test_split(X,y,random_state=42,test_size=.02,shuffle=True)\n",
        "y_train_enc = tf.keras.utils.to_categorical(y_train)\n",
        "y_test_enc=tf.keras.utils.to_categorical(y_test)\n"
      ],
      "metadata": {
        "id": "ZIgZzaB5IBzk"
      },
      "id": "ZIgZzaB5IBzk",
      "execution_count": 36,
      "outputs": []
    },
    {
      "cell_type": "markdown",
      "source": [
        "# **LinearSVC**"
      ],
      "metadata": {
        "id": "e0ncKbZ1axRh"
      },
      "id": "e0ncKbZ1axRh"
    },
    {
      "cell_type": "code",
      "source": [
        "\n",
        "from sklearn.svm import LinearSVC\n",
        "trained_clf_svc = LinearSVC().fit(x_train, y_train)\n"
      ],
      "metadata": {
        "id": "6-mtTMDQHqHV",
        "colab": {
          "base_uri": "https://localhost:8080/"
        },
        "outputId": "7e708ce7-e5e9-4748-aa14-5b97d4d75102"
      },
      "id": "6-mtTMDQHqHV",
      "execution_count": 37,
      "outputs": [
        {
          "output_type": "stream",
          "name": "stderr",
          "text": [
            "/usr/local/lib/python3.8/dist-packages/sklearn/svm/_base.py:1206: ConvergenceWarning:\n",
            "\n",
            "Liblinear failed to converge, increase the number of iterations.\n",
            "\n"
          ]
        }
      ]
    },
    {
      "cell_type": "code",
      "source": [
        "get_accuracy('LinearSVC',trained_clf_svc,x_train, y_train, x_test, y_test)"
      ],
      "metadata": {
        "id": "OlNEuZABHUl4",
        "colab": {
          "base_uri": "https://localhost:8080/",
          "height": 764
        },
        "outputId": "1b1436c1-c651-45c4-e993-ae3307506c40"
      },
      "id": "OlNEuZABHUl4",
      "execution_count": 38,
      "outputs": [
        {
          "output_type": "stream",
          "name": "stdout",
          "text": [
            "Testing accuracy   : 81.16157855547283 %\n",
            "MSE [TEST]          : 0.387192851824274\n",
            "Training accuracy  : 81.40676780882308 %\n",
            "MSE [TRAIN]         : 0.3702684624973397\n",
            "precision :  0.8116157855547282\n",
            "recall    :  0.8116157855547282\n",
            "f1_score  :  0.8116157855547282\n"
          ]
        },
        {
          "output_type": "display_data",
          "data": {
            "text/plain": [
              "<Figure size 432x288 with 2 Axes>"
            ],
            "image/png": "[encoded data removed]"
          },
          "metadata": {
            "needs_background": "light"
          }
        },
        {
          "output_type": "stream",
          "name": "stdout",
          "text": [
            "              precision    recall  f1-score   support\n",
            "\n",
            "           0       0.82      0.84      0.83     22563\n",
            "           1       0.84      0.81      0.82     23261\n",
            "           2       0.79      0.80      0.79     19958\n",
            "\n",
            "    accuracy                           0.81     65782\n",
            "   macro avg       0.81      0.81      0.81     65782\n",
            "weighted avg       0.81      0.81      0.81     65782\n",
            "\n",
            "              precision    recall  f1-score   support\n",
            "\n",
            "           0       0.80      0.84      0.82       472\n",
            "           1       0.85      0.81      0.83       490\n",
            "           2       0.79      0.78      0.78       381\n",
            "\n",
            "    accuracy                           0.81      1343\n",
            "   macro avg       0.81      0.81      0.81      1343\n",
            "weighted avg       0.81      0.81      0.81      1343\n",
            "\n"
          ]
        }
      ]
    },
    {
      "cell_type": "markdown",
      "source": [
        "# **apply decision tree model**"
      ],
      "metadata": {
        "id": "O9h2n0W6IO39"
      },
      "id": "O9h2n0W6IO39"
    },
    {
      "cell_type": "code",
      "source": [
        "from sklearn.tree import DecisionTreeClassifier\n",
        "from sklearn.model_selection import GridSearchCV\n",
        "\n",
        "param_grid = {\n",
        "    \"max_depth\": [3,5,10,15,20,None],\n",
        "    \"min_samples_split\": [2,5,7,10],\n",
        "    \"min_samples_leaf\": [1,2,5]\n",
        "}\n",
        "\n",
        "clf = DecisionTreeClassifier(max_depth=7, min_samples_leaf=5, min_samples_split= 2).fit(x_train,y_train)\n",
        "get_accuracy('DecisionTreeClassifier',clf,x_train, y_train, x_test, y_test)\n"
      ],
      "metadata": {
        "colab": {
          "base_uri": "https://localhost:8080/",
          "height": 764
        },
        "id": "GsCyUUMfIVV8",
        "outputId": "260e47a1-3e5e-4427-c262-b496f5bf72af"
      },
      "id": "GsCyUUMfIVV8",
      "execution_count": 39,
      "outputs": [
        {
          "output_type": "stream",
          "name": "stdout",
          "text": [
            "Testing accuracy   : 77.73641102010424 %\n",
            "MSE [TEST]          : 0.4973938942665674\n",
            "Training accuracy  : 78.40138639749476 %\n",
            "MSE [TRAIN]         : 0.4598370374874586\n",
            "precision :  0.7773641102010425\n",
            "recall    :  0.7773641102010425\n",
            "f1_score  :  0.7773641102010425\n"
          ]
        },
        {
          "output_type": "display_data",
          "data": {
            "text/plain": [
              "<Figure size 432x288 with 2 Axes>"
            ],
            "image/png": "[encoded data removed]"
          },
          "metadata": {
            "needs_background": "light"
          }
        },
        {
          "output_type": "stream",
          "name": "stdout",
          "text": [
            "              precision    recall  f1-score   support\n",
            "\n",
            "           0       0.77      0.82      0.79     22563\n",
            "           1       0.84      0.77      0.80     23261\n",
            "           2       0.74      0.77      0.76     19958\n",
            "\n",
            "    accuracy                           0.78     65782\n",
            "   macro avg       0.78      0.78      0.78     65782\n",
            "weighted avg       0.79      0.78      0.78     65782\n",
            "\n",
            "              precision    recall  f1-score   support\n",
            "\n",
            "           0       0.75      0.82      0.78       472\n",
            "           1       0.84      0.79      0.81       490\n",
            "           2       0.73      0.71      0.72       381\n",
            "\n",
            "    accuracy                           0.78      1343\n",
            "   macro avg       0.78      0.77      0.77      1343\n",
            "weighted avg       0.78      0.78      0.78      1343\n",
            "\n"
          ]
        }
      ]
    },
    {
      "cell_type": "markdown",
      "source": [
        "# **random forest model**"
      ],
      "metadata": {
        "id": "NO0DH2JSLAAN"
      },
      "id": "NO0DH2JSLAAN"
    },
    {
      "cell_type": "code",
      "source": [
        "from sklearn.ensemble import RandomForestClassifier\n",
        "model=RandomForestClassifier(max_depth=9,min_samples_leaf=5,min_samples_split=3).fit(x_train,y_train)\n",
        "get_accuracy('Random forest ',model,x_train, y_train, x_test, y_test)\n"
      ],
      "metadata": {
        "colab": {
          "base_uri": "https://localhost:8080/",
          "height": 764
        },
        "id": "f-qMv0A5LL0l",
        "outputId": "6b2fb162-08c5-4c3e-c2e0-e9e8fa20eba1"
      },
      "id": "f-qMv0A5LL0l",
      "execution_count": 40,
      "outputs": [
        {
          "output_type": "stream",
          "name": "stdout",
          "text": [
            "Testing accuracy   : 83.99106478034251 %\n",
            "MSE [TEST]          : 0.3678332092330603\n",
            "Training accuracy  : 84.57632787084613 %\n",
            "MSE [TRAIN]         : 0.353440150801131\n",
            "precision :  0.8399106478034252\n",
            "recall    :  0.8399106478034252\n",
            "f1_score  :  0.8399106478034252\n"
          ]
        },
        {
          "output_type": "display_data",
          "data": {
            "text/plain": [
              "<Figure size 432x288 with 2 Axes>"
            ],
            "image/png": "[encoded data removed]"
          },
          "metadata": {
            "needs_background": "light"
          }
        },
        {
          "output_type": "stream",
          "name": "stdout",
          "text": [
            "              precision    recall  f1-score   support\n",
            "\n",
            "           0       0.80      0.90      0.85     22563\n",
            "           1       0.93      0.81      0.87     23261\n",
            "           2       0.81      0.83      0.82     19958\n",
            "\n",
            "    accuracy                           0.85     65782\n",
            "   macro avg       0.85      0.85      0.85     65782\n",
            "weighted avg       0.85      0.85      0.85     65782\n",
            "\n",
            "              precision    recall  f1-score   support\n",
            "\n",
            "           0       0.80      0.88      0.84       472\n",
            "           1       0.93      0.82      0.87       490\n",
            "           2       0.80      0.82      0.81       381\n",
            "\n",
            "    accuracy                           0.84      1343\n",
            "   macro avg       0.84      0.84      0.84      1343\n",
            "weighted avg       0.85      0.84      0.84      1343\n",
            "\n"
          ]
        }
      ]
    },
    {
      "cell_type": "markdown",
      "source": [
        "# **model 1 neural network**"
      ],
      "metadata": {
        "id": "_L8HWsHVxmRK"
      },
      "id": "_L8HWsHVxmRK"
    },
    {
      "cell_type": "code",
      "source": [
        "\n",
        "model=Sequential()\n",
        "model.add(Dense( 64 ,input_shape=(100,),activation='relu' ))\n",
        "model.add(Dense(32, activation='relu',kernel_regularizer='l1'))\n",
        "model.add(Dense(16, activation='relu'))\n",
        "model.add(Dense(3, activation='softmax'))\n",
        "\n",
        "\n",
        "model.compile(optimizer = 'adam', loss = 'categorical_crossentropy' ,metrics=['accuracy'])\n",
        "model.summary()"
      ],
      "metadata": {
        "colab": {
          "base_uri": "https://localhost:8080/"
        },
        "id": "IrbHF0TlMv44",
        "outputId": "f3c01c74-f602-4a5a-cfcc-1d5ef3facbd0"
      },
      "id": "IrbHF0TlMv44",
      "execution_count": 41,
      "outputs": [
        {
          "output_type": "stream",
          "name": "stdout",
          "text": [
            "Model: \"sequential\"\n",
            "_________________________________________________________________\n",
            " Layer (type)                Output Shape              Param #   \n",
            "=================================================================\n",
            " dense (Dense)               (None, 64)                6464      \n",
            "                                                                 \n",
            " dense_1 (Dense)             (None, 32)                2080      \n",
            "                                                                 \n",
            " dense_2 (Dense)             (None, 16)                528       \n",
            "                                                                 \n",
            " dense_3 (Dense)             (None, 3)                 51        \n",
            "                                                                 \n",
            "=================================================================\n",
            "Total params: 9,123\n",
            "Trainable params: 9,123\n",
            "Non-trainable params: 0\n",
            "_________________________________________________________________\n"
          ]
        }
      ]
    },
    {
      "cell_type": "code",
      "source": [
        "model.fit(x_train,y_train_enc,batch_size=256 ,epochs=150)\n"
      ],
      "metadata": {
        "id": "Pea13Xp6TA6y",
        "colab": {
          "base_uri": "https://localhost:8080/"
        },
        "outputId": "fc197c7c-adec-4aa7-f65f-d389706717bb"
      },
      "id": "Pea13Xp6TA6y",
      "execution_count": 42,
      "outputs": [
        {
          "output_type": "stream",
          "name": "stdout",
          "text": [
            "Epoch 1/150\n",
            "257/257 [==============================] - 2s 3ms/step - loss: 1.6146 - accuracy: 0.7777\n",
            "Epoch 2/150\n",
            "257/257 [==============================] - 1s 3ms/step - loss: 0.6346 - accuracy: 0.8103\n",
            "Epoch 3/150\n",
            "257/257 [==============================] - 1s 3ms/step - loss: 0.5748 - accuracy: 0.8173\n",
            "Epoch 4/150\n",
            "257/257 [==============================] - 1s 3ms/step - loss: 0.5483 - accuracy: 0.8221\n",
            "Epoch 5/150\n",
            "257/257 [==============================] - 1s 3ms/step - loss: 0.5292 - accuracy: 0.8255\n",
            "Epoch 6/150\n",
            "257/257 [==============================] - 1s 3ms/step - loss: 0.5160 - accuracy: 0.8286\n",
            "Epoch 7/150\n",
            "257/257 [==============================] - 1s 3ms/step - loss: 0.5064 - accuracy: 0.8295\n",
            "Epoch 8/150\n",
            "257/257 [==============================] - 1s 3ms/step - loss: 0.4982 - accuracy: 0.8310\n",
            "Epoch 9/150\n",
            "257/257 [==============================] - 1s 3ms/step - loss: 0.4917 - accuracy: 0.8324\n",
            "Epoch 10/150\n",
            "257/257 [==============================] - 1s 3ms/step - loss: 0.4863 - accuracy: 0.8335\n",
            "Epoch 11/150\n",
            "257/257 [==============================] - 1s 3ms/step - loss: 0.4827 - accuracy: 0.8345\n",
            "Epoch 12/150\n",
            "257/257 [==============================] - 1s 3ms/step - loss: 0.4769 - accuracy: 0.8355\n",
            "Epoch 13/150\n",
            "257/257 [==============================] - 1s 3ms/step - loss: 0.4740 - accuracy: 0.8363\n",
            "Epoch 14/150\n",
            "257/257 [==============================] - 1s 3ms/step - loss: 0.4710 - accuracy: 0.8362\n",
            "Epoch 15/150\n",
            "257/257 [==============================] - 1s 3ms/step - loss: 0.4664 - accuracy: 0.8374\n",
            "Epoch 16/150\n",
            "257/257 [==============================] - 1s 3ms/step - loss: 0.4647 - accuracy: 0.8381\n",
            "Epoch 17/150\n",
            "257/257 [==============================] - 1s 3ms/step - loss: 0.4615 - accuracy: 0.8392\n",
            "Epoch 18/150\n",
            "257/257 [==============================] - 1s 3ms/step - loss: 0.4598 - accuracy: 0.8397\n",
            "Epoch 19/150\n",
            "257/257 [==============================] - 1s 3ms/step - loss: 0.4573 - accuracy: 0.8405\n",
            "Epoch 20/150\n",
            "257/257 [==============================] - 1s 3ms/step - loss: 0.4559 - accuracy: 0.8406\n",
            "Epoch 21/150\n",
            "257/257 [==============================] - 1s 3ms/step - loss: 0.4536 - accuracy: 0.8417\n",
            "Epoch 22/150\n",
            "257/257 [==============================] - 1s 3ms/step - loss: 0.4517 - accuracy: 0.8421\n",
            "Epoch 23/150\n",
            "257/257 [==============================] - 1s 3ms/step - loss: 0.4517 - accuracy: 0.8417\n",
            "Epoch 24/150\n",
            "257/257 [==============================] - 1s 3ms/step - loss: 0.4483 - accuracy: 0.8423\n",
            "Epoch 25/150\n",
            "257/257 [==============================] - 1s 3ms/step - loss: 0.4471 - accuracy: 0.8429\n",
            "Epoch 26/150\n",
            "257/257 [==============================] - 1s 3ms/step - loss: 0.4458 - accuracy: 0.8429\n",
            "Epoch 27/150\n",
            "257/257 [==============================] - 1s 3ms/step - loss: 0.4438 - accuracy: 0.8436\n",
            "Epoch 28/150\n",
            "257/257 [==============================] - 1s 3ms/step - loss: 0.4443 - accuracy: 0.8434\n",
            "Epoch 29/150\n",
            "257/257 [==============================] - 1s 3ms/step - loss: 0.4432 - accuracy: 0.8438\n",
            "Epoch 30/150\n",
            "257/257 [==============================] - 1s 3ms/step - loss: 0.4418 - accuracy: 0.8444\n",
            "Epoch 31/150\n",
            "257/257 [==============================] - 1s 3ms/step - loss: 0.4411 - accuracy: 0.8445\n",
            "Epoch 32/150\n",
            "257/257 [==============================] - 1s 3ms/step - loss: 0.4397 - accuracy: 0.8446\n",
            "Epoch 33/150\n",
            "257/257 [==============================] - 1s 3ms/step - loss: 0.4375 - accuracy: 0.8461\n",
            "Epoch 34/150\n",
            "257/257 [==============================] - 1s 3ms/step - loss: 0.4370 - accuracy: 0.8461\n",
            "Epoch 35/150\n",
            "257/257 [==============================] - 1s 3ms/step - loss: 0.4367 - accuracy: 0.8456\n",
            "Epoch 36/150\n",
            "257/257 [==============================] - 1s 3ms/step - loss: 0.4365 - accuracy: 0.8460\n",
            "Epoch 37/150\n",
            "257/257 [==============================] - 1s 3ms/step - loss: 0.4347 - accuracy: 0.8463\n",
            "Epoch 38/150\n",
            "257/257 [==============================] - 1s 3ms/step - loss: 0.4332 - accuracy: 0.8467\n",
            "Epoch 39/150\n",
            "257/257 [==============================] - 1s 3ms/step - loss: 0.4334 - accuracy: 0.8457\n",
            "Epoch 40/150\n",
            "257/257 [==============================] - 1s 3ms/step - loss: 0.4329 - accuracy: 0.8465\n",
            "Epoch 41/150\n",
            "257/257 [==============================] - 1s 3ms/step - loss: 0.4316 - accuracy: 0.8475\n",
            "Epoch 42/150\n",
            "257/257 [==============================] - 1s 3ms/step - loss: 0.4329 - accuracy: 0.8464\n",
            "Epoch 43/150\n",
            "257/257 [==============================] - 1s 3ms/step - loss: 0.4314 - accuracy: 0.8464\n",
            "Epoch 44/150\n",
            "257/257 [==============================] - 1s 3ms/step - loss: 0.4299 - accuracy: 0.8473\n",
            "Epoch 45/150\n",
            "257/257 [==============================] - 1s 3ms/step - loss: 0.4302 - accuracy: 0.8479\n",
            "Epoch 46/150\n",
            "257/257 [==============================] - 1s 3ms/step - loss: 0.4287 - accuracy: 0.8477\n",
            "Epoch 47/150\n",
            "257/257 [==============================] - 1s 3ms/step - loss: 0.4289 - accuracy: 0.8472\n",
            "Epoch 48/150\n",
            "257/257 [==============================] - 1s 3ms/step - loss: 0.4280 - accuracy: 0.8481\n",
            "Epoch 49/150\n",
            "257/257 [==============================] - 1s 3ms/step - loss: 0.4289 - accuracy: 0.8475\n",
            "Epoch 50/150\n",
            "257/257 [==============================] - 1s 3ms/step - loss: 0.4253 - accuracy: 0.8490\n",
            "Epoch 51/150\n",
            "257/257 [==============================] - 1s 3ms/step - loss: 0.4263 - accuracy: 0.8481\n",
            "Epoch 52/150\n",
            "257/257 [==============================] - 1s 3ms/step - loss: 0.4269 - accuracy: 0.8485\n",
            "Epoch 53/150\n",
            "257/257 [==============================] - 1s 3ms/step - loss: 0.4262 - accuracy: 0.8481\n",
            "Epoch 54/150\n",
            "257/257 [==============================] - 1s 3ms/step - loss: 0.4246 - accuracy: 0.8487\n",
            "Epoch 55/150\n",
            "257/257 [==============================] - 1s 3ms/step - loss: 0.4244 - accuracy: 0.8490\n",
            "Epoch 56/150\n",
            "257/257 [==============================] - 1s 3ms/step - loss: 0.4257 - accuracy: 0.8484\n",
            "Epoch 57/150\n",
            "257/257 [==============================] - 1s 3ms/step - loss: 0.4237 - accuracy: 0.8482\n",
            "Epoch 58/150\n",
            "257/257 [==============================] - 1s 3ms/step - loss: 0.4234 - accuracy: 0.8490\n",
            "Epoch 59/150\n",
            "257/257 [==============================] - 1s 3ms/step - loss: 0.4234 - accuracy: 0.8488\n",
            "Epoch 60/150\n",
            "257/257 [==============================] - 1s 3ms/step - loss: 0.4228 - accuracy: 0.8490\n",
            "Epoch 61/150\n",
            "257/257 [==============================] - 1s 3ms/step - loss: 0.4234 - accuracy: 0.8492\n",
            "Epoch 62/150\n",
            "257/257 [==============================] - 1s 3ms/step - loss: 0.4233 - accuracy: 0.8490\n",
            "Epoch 63/150\n",
            "257/257 [==============================] - 1s 3ms/step - loss: 0.4213 - accuracy: 0.8496\n",
            "Epoch 64/150\n",
            "257/257 [==============================] - 1s 3ms/step - loss: 0.4198 - accuracy: 0.8506\n",
            "Epoch 65/150\n",
            "257/257 [==============================] - 1s 3ms/step - loss: 0.4217 - accuracy: 0.8494\n",
            "Epoch 66/150\n",
            "257/257 [==============================] - 1s 3ms/step - loss: 0.4208 - accuracy: 0.8502\n",
            "Epoch 67/150\n",
            "257/257 [==============================] - 1s 3ms/step - loss: 0.4210 - accuracy: 0.8498\n",
            "Epoch 68/150\n",
            "257/257 [==============================] - 1s 3ms/step - loss: 0.4202 - accuracy: 0.8499\n",
            "Epoch 69/150\n",
            "257/257 [==============================] - 1s 3ms/step - loss: 0.4197 - accuracy: 0.8499\n",
            "Epoch 70/150\n",
            "257/257 [==============================] - 1s 3ms/step - loss: 0.4204 - accuracy: 0.8501\n",
            "Epoch 71/150\n",
            "257/257 [==============================] - 1s 3ms/step - loss: 0.4193 - accuracy: 0.8506\n",
            "Epoch 72/150\n",
            "257/257 [==============================] - 1s 3ms/step - loss: 0.4175 - accuracy: 0.8506\n",
            "Epoch 73/150\n",
            "257/257 [==============================] - 1s 3ms/step - loss: 0.4183 - accuracy: 0.8510\n",
            "Epoch 74/150\n",
            "257/257 [==============================] - 1s 5ms/step - loss: 0.4173 - accuracy: 0.8513\n",
            "Epoch 75/150\n",
            "257/257 [==============================] - 1s 4ms/step - loss: 0.4179 - accuracy: 0.8510\n",
            "Epoch 76/150\n",
            "257/257 [==============================] - 1s 4ms/step - loss: 0.4170 - accuracy: 0.8505\n",
            "Epoch 77/150\n",
            "257/257 [==============================] - 1s 3ms/step - loss: 0.4168 - accuracy: 0.8513\n",
            "Epoch 78/150\n",
            "257/257 [==============================] - 1s 3ms/step - loss: 0.4173 - accuracy: 0.8515\n",
            "Epoch 79/150\n",
            "257/257 [==============================] - 1s 3ms/step - loss: 0.4161 - accuracy: 0.8518\n",
            "Epoch 80/150\n",
            "257/257 [==============================] - 1s 3ms/step - loss: 0.4173 - accuracy: 0.8510\n",
            "Epoch 81/150\n",
            "257/257 [==============================] - 1s 3ms/step - loss: 0.4163 - accuracy: 0.8512\n",
            "Epoch 82/150\n",
            "257/257 [==============================] - 1s 3ms/step - loss: 0.4161 - accuracy: 0.8514\n",
            "Epoch 83/150\n",
            "257/257 [==============================] - 1s 3ms/step - loss: 0.4153 - accuracy: 0.8507\n",
            "Epoch 84/150\n",
            "257/257 [==============================] - 1s 3ms/step - loss: 0.4162 - accuracy: 0.8508\n",
            "Epoch 85/150\n",
            "257/257 [==============================] - 1s 3ms/step - loss: 0.4149 - accuracy: 0.8524\n",
            "Epoch 86/150\n",
            "257/257 [==============================] - 1s 3ms/step - loss: 0.4139 - accuracy: 0.8522\n",
            "Epoch 87/150\n",
            "257/257 [==============================] - 1s 3ms/step - loss: 0.4147 - accuracy: 0.8518\n",
            "Epoch 88/150\n",
            "257/257 [==============================] - 1s 3ms/step - loss: 0.4154 - accuracy: 0.8520\n",
            "Epoch 89/150\n",
            "257/257 [==============================] - 1s 3ms/step - loss: 0.4142 - accuracy: 0.8520\n",
            "Epoch 90/150\n",
            "257/257 [==============================] - 1s 3ms/step - loss: 0.4119 - accuracy: 0.8530\n",
            "Epoch 91/150\n",
            "257/257 [==============================] - 1s 3ms/step - loss: 0.4132 - accuracy: 0.8526\n",
            "Epoch 92/150\n",
            "257/257 [==============================] - 1s 3ms/step - loss: 0.4135 - accuracy: 0.8521\n",
            "Epoch 93/150\n",
            "257/257 [==============================] - 1s 3ms/step - loss: 0.4126 - accuracy: 0.8524\n",
            "Epoch 94/150\n",
            "257/257 [==============================] - 1s 3ms/step - loss: 0.4125 - accuracy: 0.8520\n",
            "Epoch 95/150\n",
            "257/257 [==============================] - 1s 3ms/step - loss: 0.4129 - accuracy: 0.8517\n",
            "Epoch 96/150\n",
            "257/257 [==============================] - 1s 3ms/step - loss: 0.4120 - accuracy: 0.8528\n",
            "Epoch 97/150\n",
            "257/257 [==============================] - 1s 3ms/step - loss: 0.4129 - accuracy: 0.8521\n",
            "Epoch 98/150\n",
            "257/257 [==============================] - 1s 3ms/step - loss: 0.4121 - accuracy: 0.8530\n",
            "Epoch 99/150\n",
            "257/257 [==============================] - 1s 3ms/step - loss: 0.4113 - accuracy: 0.8525\n",
            "Epoch 100/150\n",
            "257/257 [==============================] - 1s 3ms/step - loss: 0.4120 - accuracy: 0.8525\n",
            "Epoch 101/150\n",
            "257/257 [==============================] - 1s 3ms/step - loss: 0.4117 - accuracy: 0.8527\n",
            "Epoch 102/150\n",
            "257/257 [==============================] - 1s 3ms/step - loss: 0.4108 - accuracy: 0.8525\n",
            "Epoch 103/150\n",
            "257/257 [==============================] - 1s 3ms/step - loss: 0.4108 - accuracy: 0.8525\n",
            "Epoch 104/150\n",
            "257/257 [==============================] - 1s 3ms/step - loss: 0.4119 - accuracy: 0.8515\n",
            "Epoch 105/150\n",
            "257/257 [==============================] - 1s 3ms/step - loss: 0.4103 - accuracy: 0.8536\n",
            "Epoch 106/150\n",
            "257/257 [==============================] - 1s 3ms/step - loss: 0.4098 - accuracy: 0.8525\n",
            "Epoch 107/150\n",
            "257/257 [==============================] - 1s 3ms/step - loss: 0.4114 - accuracy: 0.8524\n",
            "Epoch 108/150\n",
            "257/257 [==============================] - 1s 3ms/step - loss: 0.4100 - accuracy: 0.8529\n",
            "Epoch 109/150\n",
            "257/257 [==============================] - 1s 3ms/step - loss: 0.4102 - accuracy: 0.8526\n",
            "Epoch 110/150\n",
            "257/257 [==============================] - 1s 3ms/step - loss: 0.4104 - accuracy: 0.8528\n",
            "Epoch 111/150\n",
            "257/257 [==============================] - 1s 3ms/step - loss: 0.4090 - accuracy: 0.8535\n",
            "Epoch 112/150\n",
            "257/257 [==============================] - 1s 3ms/step - loss: 0.4096 - accuracy: 0.8527\n",
            "Epoch 113/150\n",
            "257/257 [==============================] - 1s 3ms/step - loss: 0.4097 - accuracy: 0.8531\n",
            "Epoch 114/150\n",
            "257/257 [==============================] - 1s 3ms/step - loss: 0.4069 - accuracy: 0.8549\n",
            "Epoch 115/150\n",
            "257/257 [==============================] - 1s 3ms/step - loss: 0.4089 - accuracy: 0.8534\n",
            "Epoch 116/150\n",
            "257/257 [==============================] - 1s 3ms/step - loss: 0.4086 - accuracy: 0.8534\n",
            "Epoch 117/150\n",
            "257/257 [==============================] - 1s 3ms/step - loss: 0.4076 - accuracy: 0.8539\n",
            "Epoch 118/150\n",
            "257/257 [==============================] - 1s 3ms/step - loss: 0.4090 - accuracy: 0.8535\n",
            "Epoch 119/150\n",
            "257/257 [==============================] - 1s 3ms/step - loss: 0.4090 - accuracy: 0.8528\n",
            "Epoch 120/150\n",
            "257/257 [==============================] - 1s 3ms/step - loss: 0.4087 - accuracy: 0.8543\n",
            "Epoch 121/150\n",
            "257/257 [==============================] - 1s 3ms/step - loss: 0.4069 - accuracy: 0.8539\n",
            "Epoch 122/150\n",
            "257/257 [==============================] - 1s 3ms/step - loss: 0.4067 - accuracy: 0.8547\n",
            "Epoch 123/150\n",
            "257/257 [==============================] - 1s 3ms/step - loss: 0.4070 - accuracy: 0.8542\n",
            "Epoch 124/150\n",
            "257/257 [==============================] - 1s 3ms/step - loss: 0.4068 - accuracy: 0.8543\n",
            "Epoch 125/150\n",
            "257/257 [==============================] - 1s 3ms/step - loss: 0.4069 - accuracy: 0.8543\n",
            "Epoch 126/150\n",
            "257/257 [==============================] - 1s 3ms/step - loss: 0.4065 - accuracy: 0.8545\n",
            "Epoch 127/150\n",
            "257/257 [==============================] - 1s 3ms/step - loss: 0.4068 - accuracy: 0.8546\n",
            "Epoch 128/150\n",
            "257/257 [==============================] - 1s 3ms/step - loss: 0.4067 - accuracy: 0.8537\n",
            "Epoch 129/150\n",
            "257/257 [==============================] - 1s 3ms/step - loss: 0.4058 - accuracy: 0.8542\n",
            "Epoch 130/150\n",
            "257/257 [==============================] - 1s 3ms/step - loss: 0.4054 - accuracy: 0.8544\n",
            "Epoch 131/150\n",
            "257/257 [==============================] - 1s 3ms/step - loss: 0.4064 - accuracy: 0.8543\n",
            "Epoch 132/150\n",
            "257/257 [==============================] - 1s 3ms/step - loss: 0.4051 - accuracy: 0.8548\n",
            "Epoch 133/150\n",
            "257/257 [==============================] - 1s 3ms/step - loss: 0.4068 - accuracy: 0.8544\n",
            "Epoch 134/150\n",
            "257/257 [==============================] - 1s 3ms/step - loss: 0.4067 - accuracy: 0.8547\n",
            "Epoch 135/150\n",
            "257/257 [==============================] - 1s 3ms/step - loss: 0.4039 - accuracy: 0.8541\n",
            "Epoch 136/150\n",
            "257/257 [==============================] - 1s 3ms/step - loss: 0.4063 - accuracy: 0.8556\n",
            "Epoch 137/150\n",
            "257/257 [==============================] - 1s 3ms/step - loss: 0.4058 - accuracy: 0.8537\n",
            "Epoch 138/150\n",
            "257/257 [==============================] - 1s 3ms/step - loss: 0.4048 - accuracy: 0.8554\n",
            "Epoch 139/150\n",
            "257/257 [==============================] - 1s 3ms/step - loss: 0.4048 - accuracy: 0.8548\n",
            "Epoch 140/150\n",
            "257/257 [==============================] - 1s 3ms/step - loss: 0.4047 - accuracy: 0.8549\n",
            "Epoch 141/150\n",
            "257/257 [==============================] - 1s 3ms/step - loss: 0.4061 - accuracy: 0.8546\n",
            "Epoch 142/150\n",
            "257/257 [==============================] - 1s 3ms/step - loss: 0.4043 - accuracy: 0.8544\n",
            "Epoch 143/150\n",
            "257/257 [==============================] - 1s 3ms/step - loss: 0.4051 - accuracy: 0.8551\n",
            "Epoch 144/150\n",
            "257/257 [==============================] - 1s 3ms/step - loss: 0.4044 - accuracy: 0.8552\n",
            "Epoch 145/150\n",
            "257/257 [==============================] - 1s 3ms/step - loss: 0.4034 - accuracy: 0.8557\n",
            "Epoch 146/150\n",
            "257/257 [==============================] - 1s 3ms/step - loss: 0.4041 - accuracy: 0.8554\n",
            "Epoch 147/150\n",
            "257/257 [==============================] - 1s 3ms/step - loss: 0.4046 - accuracy: 0.8553\n",
            "Epoch 148/150\n",
            "257/257 [==============================] - 1s 3ms/step - loss: 0.4045 - accuracy: 0.8560\n",
            "Epoch 149/150\n",
            "257/257 [==============================] - 1s 3ms/step - loss: 0.4036 - accuracy: 0.8546\n",
            "Epoch 150/150\n",
            "257/257 [==============================] - 1s 3ms/step - loss: 0.4029 - accuracy: 0.8551\n"
          ]
        },
        {
          "output_type": "execute_result",
          "data": {
            "text/plain": [
              "<keras.callbacks.History at 0x7fbc3d3f3610>"
            ]
          },
          "metadata": {},
          "execution_count": 42
        }
      ]
    },
    {
      "cell_type": "code",
      "source": [
        "get_accuracy_NN(\"neural network\",model,x_train,y_train,x_test,y_test,y_train_enc,y_test_enc)"
      ],
      "metadata": {
        "id": "sNMV9KGy-e9u",
        "outputId": "2cf143a7-5c81-46ab-9e7c-54865e5adfa7",
        "colab": {
          "base_uri": "https://localhost:8080/",
          "height": 642
        }
      },
      "id": "sNMV9KGy-e9u",
      "execution_count": 43,
      "outputs": [
        {
          "output_type": "stream",
          "name": "stdout",
          "text": [
            "42/42 [==============================] - 0s 2ms/step - loss: 0.4032 - accuracy: 0.8608\n",
            "test loss : 0.4032002091407776\n",
            "test accuracy: 86.07594966888428\n",
            "____________________________\n",
            "2056/2056 [==============================] - 3s 2ms/step - loss: 0.3984 - accuracy: 0.8574\n",
            "trainig loss : 0.3984215557575226\n",
            "trainig accuracy: 85.73774099349976\n",
            "____________________________\n",
            "42/42 [==============================] - 0s 2ms/step\n"
          ]
        },
        {
          "output_type": "display_data",
          "data": {
            "text/plain": [
              "<Figure size 432x288 with 2 Axes>"
            ],
            "image/png": "[encoded data removed]"
          },
          "metadata": {
            "needs_background": "light"
          }
        },
        {
          "output_type": "stream",
          "name": "stdout",
          "text": [
            "true\n",
            "              precision    recall  f1-score   support\n",
            "\n",
            "           0       0.83      0.89      0.86       472\n",
            "           1       0.95      0.81      0.88       490\n",
            "           2       0.81      0.89      0.85       381\n",
            "\n",
            "    accuracy                           0.86      1343\n",
            "   macro avg       0.86      0.86      0.86      1343\n",
            "weighted avg       0.87      0.86      0.86      1343\n",
            "\n"
          ]
        }
      ]
    },
    {
      "cell_type": "markdown",
      "source": [
        "# ***model 2 neural ntework***"
      ],
      "metadata": {
        "id": "mCL2gctvxtma"
      },
      "id": "mCL2gctvxtma"
    },
    {
      "cell_type": "code",
      "source": [
        "\n",
        "model=Sequential()\n",
        "model.add(Dense( 120,input_shape=(100,),activation='relu' ))\n",
        "\n",
        "model.add(Dense(64, activation='relu'))\n",
        "model.add(Dense(16, activation='relu'))\n",
        "model.add(Dense(64, activation='relu'))\n",
        "model.add(Dense(3, activation='softmax'))\n",
        "\n",
        "\n",
        "model.compile(optimizer = 'adam' ,loss = 'categorical_crossentropy' ,metrics=['accuracy'])\n",
        "\n"
      ],
      "metadata": {
        "id": "iKMNlyTYiQw4"
      },
      "id": "iKMNlyTYiQw4",
      "execution_count": 44,
      "outputs": []
    },
    {
      "cell_type": "code",
      "source": [
        "model.fit(x_train,y_train_enc,batch_size=256 ,epochs=50)\n",
        "get_accuracy_NN(\"neural network\",model,x_train,y_train,x_test,y_test,y_train_enc,y_test_enc)"
      ],
      "metadata": {
        "id": "ZUNln5NO4TBY",
        "outputId": "1b0adc10-4afa-4ce0-b336-57b86a2d4b59",
        "colab": {
          "base_uri": "https://localhost:8080/",
          "height": 1000
        }
      },
      "id": "ZUNln5NO4TBY",
      "execution_count": 45,
      "outputs": [
        {
          "output_type": "stream",
          "name": "stdout",
          "text": [
            "Epoch 1/50\n",
            "257/257 [==============================] - 2s 4ms/step - loss: 0.5336 - accuracy: 0.8027\n",
            "Epoch 2/50\n",
            "257/257 [==============================] - 1s 4ms/step - loss: 0.4397 - accuracy: 0.8364\n",
            "Epoch 3/50\n",
            "257/257 [==============================] - 1s 4ms/step - loss: 0.4231 - accuracy: 0.8412\n",
            "Epoch 4/50\n",
            "257/257 [==============================] - 1s 4ms/step - loss: 0.4139 - accuracy: 0.8434\n",
            "Epoch 5/50\n",
            "257/257 [==============================] - 1s 4ms/step - loss: 0.4056 - accuracy: 0.8461\n",
            "Epoch 6/50\n",
            "257/257 [==============================] - 1s 4ms/step - loss: 0.4007 - accuracy: 0.8487\n",
            "Epoch 7/50\n",
            "257/257 [==============================] - 1s 4ms/step - loss: 0.3961 - accuracy: 0.8497\n",
            "Epoch 8/50\n",
            "257/257 [==============================] - 1s 4ms/step - loss: 0.3913 - accuracy: 0.8513\n",
            "Epoch 9/50\n",
            "257/257 [==============================] - 1s 4ms/step - loss: 0.3891 - accuracy: 0.8521\n",
            "Epoch 10/50\n",
            "257/257 [==============================] - 1s 4ms/step - loss: 0.3851 - accuracy: 0.8535\n",
            "Epoch 11/50\n",
            "257/257 [==============================] - 1s 4ms/step - loss: 0.3830 - accuracy: 0.8540\n",
            "Epoch 12/50\n",
            "257/257 [==============================] - 1s 4ms/step - loss: 0.3799 - accuracy: 0.8559\n",
            "Epoch 13/50\n",
            "257/257 [==============================] - 1s 4ms/step - loss: 0.3786 - accuracy: 0.8565\n",
            "Epoch 14/50\n",
            "257/257 [==============================] - 1s 4ms/step - loss: 0.3754 - accuracy: 0.8570\n",
            "Epoch 15/50\n",
            "257/257 [==============================] - 1s 4ms/step - loss: 0.3729 - accuracy: 0.8574\n",
            "Epoch 16/50\n",
            "257/257 [==============================] - 1s 4ms/step - loss: 0.3723 - accuracy: 0.8585\n",
            "Epoch 17/50\n",
            "257/257 [==============================] - 1s 4ms/step - loss: 0.3695 - accuracy: 0.8598\n",
            "Epoch 18/50\n",
            "257/257 [==============================] - 1s 4ms/step - loss: 0.3696 - accuracy: 0.8594\n",
            "Epoch 19/50\n",
            "257/257 [==============================] - 1s 4ms/step - loss: 0.3653 - accuracy: 0.8611\n",
            "Epoch 20/50\n",
            "257/257 [==============================] - 1s 4ms/step - loss: 0.3651 - accuracy: 0.8613\n",
            "Epoch 21/50\n",
            "257/257 [==============================] - 1s 4ms/step - loss: 0.3629 - accuracy: 0.8623\n",
            "Epoch 22/50\n",
            "257/257 [==============================] - 1s 4ms/step - loss: 0.3622 - accuracy: 0.8626\n",
            "Epoch 23/50\n",
            "257/257 [==============================] - 1s 4ms/step - loss: 0.3611 - accuracy: 0.8633\n",
            "Epoch 24/50\n",
            "257/257 [==============================] - 1s 4ms/step - loss: 0.3581 - accuracy: 0.8646\n",
            "Epoch 25/50\n",
            "257/257 [==============================] - 1s 4ms/step - loss: 0.3573 - accuracy: 0.8648\n",
            "Epoch 26/50\n",
            "257/257 [==============================] - 1s 4ms/step - loss: 0.3560 - accuracy: 0.8645\n",
            "Epoch 27/50\n",
            "257/257 [==============================] - 1s 4ms/step - loss: 0.3556 - accuracy: 0.8651\n",
            "Epoch 28/50\n",
            "257/257 [==============================] - 1s 4ms/step - loss: 0.3529 - accuracy: 0.8658\n",
            "Epoch 29/50\n",
            "257/257 [==============================] - 1s 4ms/step - loss: 0.3512 - accuracy: 0.8669\n",
            "Epoch 30/50\n",
            "257/257 [==============================] - 1s 4ms/step - loss: 0.3504 - accuracy: 0.8668\n",
            "Epoch 31/50\n",
            "257/257 [==============================] - 1s 4ms/step - loss: 0.3503 - accuracy: 0.8661\n",
            "Epoch 32/50\n",
            "257/257 [==============================] - 1s 4ms/step - loss: 0.3507 - accuracy: 0.8665\n",
            "Epoch 33/50\n",
            "257/257 [==============================] - 1s 5ms/step - loss: 0.3485 - accuracy: 0.8672\n",
            "Epoch 34/50\n",
            "257/257 [==============================] - 1s 5ms/step - loss: 0.3463 - accuracy: 0.8681\n",
            "Epoch 35/50\n",
            "257/257 [==============================] - 1s 5ms/step - loss: 0.3434 - accuracy: 0.8705\n",
            "Epoch 36/50\n",
            "257/257 [==============================] - 1s 5ms/step - loss: 0.3426 - accuracy: 0.8694\n",
            "Epoch 37/50\n",
            "257/257 [==============================] - 1s 5ms/step - loss: 0.3417 - accuracy: 0.8706\n",
            "Epoch 38/50\n",
            "257/257 [==============================] - 1s 4ms/step - loss: 0.3394 - accuracy: 0.8717\n",
            "Epoch 39/50\n",
            "257/257 [==============================] - 1s 4ms/step - loss: 0.3411 - accuracy: 0.8694\n",
            "Epoch 40/50\n",
            "257/257 [==============================] - 1s 4ms/step - loss: 0.3370 - accuracy: 0.8711\n",
            "Epoch 41/50\n",
            "257/257 [==============================] - 1s 4ms/step - loss: 0.3387 - accuracy: 0.8715\n",
            "Epoch 42/50\n",
            "257/257 [==============================] - 1s 4ms/step - loss: 0.3364 - accuracy: 0.8713\n",
            "Epoch 43/50\n",
            "257/257 [==============================] - 1s 5ms/step - loss: 0.3349 - accuracy: 0.8729\n",
            "Epoch 44/50\n",
            "257/257 [==============================] - 1s 4ms/step - loss: 0.3337 - accuracy: 0.8725\n",
            "Epoch 45/50\n",
            "257/257 [==============================] - 1s 4ms/step - loss: 0.3327 - accuracy: 0.8728\n",
            "Epoch 46/50\n",
            "257/257 [==============================] - 1s 4ms/step - loss: 0.3322 - accuracy: 0.8733\n",
            "Epoch 47/50\n",
            "257/257 [==============================] - 1s 4ms/step - loss: 0.3302 - accuracy: 0.8739\n",
            "Epoch 48/50\n",
            "257/257 [==============================] - 1s 4ms/step - loss: 0.3299 - accuracy: 0.8742\n",
            "Epoch 49/50\n",
            "257/257 [==============================] - 1s 4ms/step - loss: 0.3272 - accuracy: 0.8754\n",
            "Epoch 50/50\n",
            "257/257 [==============================] - 1s 4ms/step - loss: 0.3283 - accuracy: 0.8750\n",
            "42/42 [==============================] - 0s 2ms/step - loss: 0.3897 - accuracy: 0.8608\n",
            "test loss : 0.3897415101528168\n",
            "test accuracy: 86.07594966888428\n",
            "____________________________\n",
            "2056/2056 [==============================] - 3s 2ms/step - loss: 0.3243 - accuracy: 0.8752\n",
            "trainig loss : 0.3242734968662262\n",
            "trainig accuracy: 87.51634359359741\n",
            "____________________________\n",
            "42/42 [==============================] - 0s 2ms/step\n"
          ]
        },
        {
          "output_type": "display_data",
          "data": {
            "text/plain": [
              "<Figure size 432x288 with 2 Axes>"
            ],
            "image/png": "[encoded data removed]"
          },
          "metadata": {
            "needs_background": "light"
          }
        },
        {
          "output_type": "stream",
          "name": "stdout",
          "text": [
            "true\n",
            "              precision    recall  f1-score   support\n",
            "\n",
            "           0       0.82      0.91      0.86       472\n",
            "           1       0.94      0.83      0.88       490\n",
            "           2       0.82      0.83      0.83       381\n",
            "\n",
            "    accuracy                           0.86      1343\n",
            "   macro avg       0.86      0.86      0.86      1343\n",
            "weighted avg       0.87      0.86      0.86      1343\n",
            "\n"
          ]
        }
      ]
    },
    {
      "cell_type": "markdown",
      "source": [
        "CNN"
      ],
      "metadata": {
        "id": "ROdxt3dNmic-"
      },
      "id": "ROdxt3dNmic-"
    },
    {
      "cell_type": "code",
      "source": [
        "from tensorflow.keras.layers import Dense, Conv2D, Flatten\n",
        "# Instantiate your model as usual\n",
        "model = Sequential()\n",
        "model.add(Conv2D(\n",
        "                 filters=64,  \n",
        "                 kernel_size=2,              \n",
        "                 input_shape=(10,10,1),     \n",
        "                 activation='relu')\n",
        ")\n",
        "\n",
        "model.add(Conv2D(8, kernel_size=3, activation='relu'))\n",
        "model.add(Flatten())\n",
        "\n",
        "model.add(Dense(64, activation='relu'))\n",
        "\n",
        "model.add(Dense(16, activation='relu'))\n",
        "# End this multiclass model with 3 outputs and softmax\n",
        "model.add(Dense(3, activation='softmax'))\n",
        "\n",
        "model.summary ()"
      ],
      "metadata": {
        "id": "n0F5Zt1XkihN",
        "outputId": "e9e8f032-aea5-415c-97cf-ad93a1480065",
        "colab": {
          "base_uri": "https://localhost:8080/"
        }
      },
      "id": "n0F5Zt1XkihN",
      "execution_count": 46,
      "outputs": [
        {
          "output_type": "stream",
          "name": "stdout",
          "text": [
            "Model: \"sequential_2\"\n",
            "_________________________________________________________________\n",
            " Layer (type)                Output Shape              Param #   \n",
            "=================================================================\n",
            " conv2d (Conv2D)             (None, 9, 9, 64)          320       \n",
            "                                                                 \n",
            " conv2d_1 (Conv2D)           (None, 7, 7, 8)           4616      \n",
            "                                                                 \n",
            " flatten (Flatten)           (None, 392)               0         \n",
            "                                                                 \n",
            " dense_9 (Dense)             (None, 64)                25152     \n",
            "                                                                 \n",
            " dense_10 (Dense)            (None, 16)                1040      \n",
            "                                                                 \n",
            " dense_11 (Dense)            (None, 3)                 51        \n",
            "                                                                 \n",
            "=================================================================\n",
            "Total params: 31,179\n",
            "Trainable params: 31,179\n",
            "Non-trainable params: 0\n",
            "_________________________________________________________________\n"
          ]
        }
      ]
    },
    {
      "cell_type": "code",
      "source": [
        "model.compile(optimizer = 'adam' ,loss = 'categorical_crossentropy' ,metrics=['accuracy'])\n",
        "model.fit(x_train.reshape(-1,10,10,1),y_train_enc,batch_size=256 ,epochs=70)"
      ],
      "metadata": {
        "id": "qJNen43Rlb0-",
        "outputId": "2756b8ed-ad3e-4829-d7fa-0e05c99db846",
        "colab": {
          "base_uri": "https://localhost:8080/"
        }
      },
      "id": "qJNen43Rlb0-",
      "execution_count": 47,
      "outputs": [
        {
          "output_type": "stream",
          "name": "stdout",
          "text": [
            "Epoch 1/70\n",
            "257/257 [==============================] - 17s 62ms/step - loss: 0.5527 - accuracy: 0.7938\n",
            "Epoch 2/70\n",
            "257/257 [==============================] - 15s 57ms/step - loss: 0.4517 - accuracy: 0.8305\n",
            "Epoch 3/70\n",
            "257/257 [==============================] - 15s 57ms/step - loss: 0.4343 - accuracy: 0.8354\n",
            "Epoch 4/70\n",
            "257/257 [==============================] - 15s 57ms/step - loss: 0.4227 - accuracy: 0.8395\n",
            "Epoch 5/70\n",
            "257/257 [==============================] - 15s 57ms/step - loss: 0.4179 - accuracy: 0.8412\n",
            "Epoch 6/70\n",
            "257/257 [==============================] - 15s 57ms/step - loss: 0.4130 - accuracy: 0.8434\n",
            "Epoch 7/70\n",
            "257/257 [==============================] - 15s 57ms/step - loss: 0.4090 - accuracy: 0.8438\n",
            "Epoch 8/70\n",
            "257/257 [==============================] - 15s 57ms/step - loss: 0.4035 - accuracy: 0.8450\n",
            "Epoch 9/70\n",
            "257/257 [==============================] - 15s 58ms/step - loss: 0.3994 - accuracy: 0.8476\n",
            "Epoch 10/70\n",
            "257/257 [==============================] - 15s 59ms/step - loss: 0.3971 - accuracy: 0.8492\n",
            "Epoch 11/70\n",
            "257/257 [==============================] - 15s 57ms/step - loss: 0.3940 - accuracy: 0.8493\n",
            "Epoch 12/70\n",
            "257/257 [==============================] - 15s 60ms/step - loss: 0.3922 - accuracy: 0.8500\n",
            "Epoch 13/70\n",
            "257/257 [==============================] - 19s 75ms/step - loss: 0.3909 - accuracy: 0.8500\n",
            "Epoch 14/70\n",
            "257/257 [==============================] - 27s 106ms/step - loss: 0.3870 - accuracy: 0.8512\n",
            "Epoch 15/70\n",
            "257/257 [==============================] - 15s 57ms/step - loss: 0.3853 - accuracy: 0.8523\n",
            "Epoch 16/70\n",
            "257/257 [==============================] - 15s 57ms/step - loss: 0.3829 - accuracy: 0.8529\n",
            "Epoch 17/70\n",
            "257/257 [==============================] - 15s 57ms/step - loss: 0.3821 - accuracy: 0.8534\n",
            "Epoch 18/70\n",
            "257/257 [==============================] - 15s 57ms/step - loss: 0.3795 - accuracy: 0.8539\n",
            "Epoch 19/70\n",
            "257/257 [==============================] - 15s 58ms/step - loss: 0.3775 - accuracy: 0.8551\n",
            "Epoch 20/70\n",
            "257/257 [==============================] - 17s 66ms/step - loss: 0.3753 - accuracy: 0.8566\n",
            "Epoch 21/70\n",
            "257/257 [==============================] - 15s 57ms/step - loss: 0.3756 - accuracy: 0.8547\n",
            "Epoch 22/70\n",
            "257/257 [==============================] - 16s 61ms/step - loss: 0.3728 - accuracy: 0.8573\n",
            "Epoch 23/70\n",
            "257/257 [==============================] - 15s 57ms/step - loss: 0.3708 - accuracy: 0.8583\n",
            "Epoch 24/70\n",
            "257/257 [==============================] - 15s 56ms/step - loss: 0.3702 - accuracy: 0.8575\n",
            "Epoch 25/70\n",
            "257/257 [==============================] - 15s 57ms/step - loss: 0.3683 - accuracy: 0.8585\n",
            "Epoch 26/70\n",
            "257/257 [==============================] - 15s 57ms/step - loss: 0.3668 - accuracy: 0.8589\n",
            "Epoch 27/70\n",
            "257/257 [==============================] - 15s 58ms/step - loss: 0.3641 - accuracy: 0.8598\n",
            "Epoch 28/70\n",
            "257/257 [==============================] - 15s 57ms/step - loss: 0.3633 - accuracy: 0.8604\n",
            "Epoch 29/70\n",
            "257/257 [==============================] - 16s 64ms/step - loss: 0.3622 - accuracy: 0.8603\n",
            "Epoch 30/70\n",
            "257/257 [==============================] - 16s 63ms/step - loss: 0.3619 - accuracy: 0.8611\n",
            "Epoch 31/70\n",
            "257/257 [==============================] - 14s 56ms/step - loss: 0.3625 - accuracy: 0.8603\n",
            "Epoch 32/70\n",
            "257/257 [==============================] - 14s 56ms/step - loss: 0.3578 - accuracy: 0.8625\n",
            "Epoch 33/70\n",
            "257/257 [==============================] - 16s 61ms/step - loss: 0.3595 - accuracy: 0.8617\n",
            "Epoch 34/70\n",
            "257/257 [==============================] - 14s 56ms/step - loss: 0.3549 - accuracy: 0.8635\n",
            "Epoch 35/70\n",
            "257/257 [==============================] - 15s 57ms/step - loss: 0.3555 - accuracy: 0.8633\n",
            "Epoch 36/70\n",
            "257/257 [==============================] - 14s 56ms/step - loss: 0.3527 - accuracy: 0.8638\n",
            "Epoch 37/70\n",
            "257/257 [==============================] - 14s 56ms/step - loss: 0.3524 - accuracy: 0.8645\n",
            "Epoch 38/70\n",
            "257/257 [==============================] - 15s 57ms/step - loss: 0.3517 - accuracy: 0.8652\n",
            "Epoch 39/70\n",
            "257/257 [==============================] - 15s 57ms/step - loss: 0.3502 - accuracy: 0.8651\n",
            "Epoch 40/70\n",
            "257/257 [==============================] - 15s 57ms/step - loss: 0.3496 - accuracy: 0.8663\n",
            "Epoch 41/70\n",
            "257/257 [==============================] - 14s 56ms/step - loss: 0.3472 - accuracy: 0.8675\n",
            "Epoch 42/70\n",
            "257/257 [==============================] - 14s 56ms/step - loss: 0.3470 - accuracy: 0.8665\n",
            "Epoch 43/70\n",
            "257/257 [==============================] - 15s 57ms/step - loss: 0.3449 - accuracy: 0.8680\n",
            "Epoch 44/70\n",
            "257/257 [==============================] - 15s 57ms/step - loss: 0.3425 - accuracy: 0.8687\n",
            "Epoch 45/70\n",
            "257/257 [==============================] - 16s 61ms/step - loss: 0.3424 - accuracy: 0.8674\n",
            "Epoch 46/70\n",
            "257/257 [==============================] - 14s 56ms/step - loss: 0.3408 - accuracy: 0.8699\n",
            "Epoch 47/70\n",
            "257/257 [==============================] - 14s 56ms/step - loss: 0.3400 - accuracy: 0.8692\n",
            "Epoch 48/70\n",
            "257/257 [==============================] - 14s 56ms/step - loss: 0.3378 - accuracy: 0.8702\n",
            "Epoch 49/70\n",
            "257/257 [==============================] - 14s 56ms/step - loss: 0.3395 - accuracy: 0.8696\n",
            "Epoch 50/70\n",
            "257/257 [==============================] - 14s 56ms/step - loss: 0.3381 - accuracy: 0.8699\n",
            "Epoch 51/70\n",
            "257/257 [==============================] - 14s 56ms/step - loss: 0.3353 - accuracy: 0.8715\n",
            "Epoch 52/70\n",
            "257/257 [==============================] - 15s 57ms/step - loss: 0.3343 - accuracy: 0.8718\n",
            "Epoch 53/70\n",
            "257/257 [==============================] - 15s 56ms/step - loss: 0.3358 - accuracy: 0.8710\n",
            "Epoch 54/70\n",
            "257/257 [==============================] - 15s 57ms/step - loss: 0.3311 - accuracy: 0.8734\n",
            "Epoch 55/70\n",
            "257/257 [==============================] - 15s 57ms/step - loss: 0.3324 - accuracy: 0.8719\n",
            "Epoch 56/70\n",
            "257/257 [==============================] - 16s 62ms/step - loss: 0.3309 - accuracy: 0.8728\n",
            "Epoch 57/70\n",
            "257/257 [==============================] - 15s 57ms/step - loss: 0.3296 - accuracy: 0.8732\n",
            "Epoch 58/70\n",
            "257/257 [==============================] - 15s 56ms/step - loss: 0.3293 - accuracy: 0.8746\n",
            "Epoch 59/70\n",
            "257/257 [==============================] - 15s 56ms/step - loss: 0.3261 - accuracy: 0.8745\n",
            "Epoch 60/70\n",
            "257/257 [==============================] - 15s 57ms/step - loss: 0.3244 - accuracy: 0.8754\n",
            "Epoch 61/70\n",
            "257/257 [==============================] - 15s 57ms/step - loss: 0.3249 - accuracy: 0.8747\n",
            "Epoch 62/70\n",
            "257/257 [==============================] - 15s 57ms/step - loss: 0.3258 - accuracy: 0.8759\n",
            "Epoch 63/70\n",
            "257/257 [==============================] - 14s 56ms/step - loss: 0.3220 - accuracy: 0.8769\n",
            "Epoch 64/70\n",
            "257/257 [==============================] - 14s 56ms/step - loss: 0.3205 - accuracy: 0.8764\n",
            "Epoch 65/70\n",
            "257/257 [==============================] - 14s 56ms/step - loss: 0.3196 - accuracy: 0.8777\n",
            "Epoch 66/70\n",
            "257/257 [==============================] - 14s 56ms/step - loss: 0.3198 - accuracy: 0.8774\n",
            "Epoch 67/70\n",
            "257/257 [==============================] - 16s 60ms/step - loss: 0.3178 - accuracy: 0.8782\n",
            "Epoch 68/70\n",
            "257/257 [==============================] - 14s 56ms/step - loss: 0.3181 - accuracy: 0.8784\n",
            "Epoch 69/70\n",
            "257/257 [==============================] - 14s 56ms/step - loss: 0.3170 - accuracy: 0.8787\n",
            "Epoch 70/70\n",
            "257/257 [==============================] - 14s 56ms/step - loss: 0.3167 - accuracy: 0.8793\n"
          ]
        },
        {
          "output_type": "execute_result",
          "data": {
            "text/plain": [
              "<keras.callbacks.History at 0x7fbc3dab67f0>"
            ]
          },
          "metadata": {},
          "execution_count": 47
        }
      ]
    },
    {
      "cell_type": "code",
      "source": [
        "\n",
        "pred=model.predict(x_test.reshape(-1,10,10,1))\n",
        "pred_list=[]\n",
        "for i in pred:\n",
        "  pred_list.append(np.argmax(i))\n",
        "from sklearn.metrics import accuracy_score\n",
        "print(\"test accuracy : \", accuracy_score(y_test,pred_list)*100)\n",
        "print(\"_______________________\")\n",
        "print(classification_report(y_test,pred_list  ))\n",
        "print(\"confusion  matrix\")\n",
        "print(confusion_matrix(pred_list, y_test))"
      ],
      "metadata": {
        "id": "M7_kuTa4WAdM",
        "outputId": "b7389b9a-98a3-46d1-9aa5-417919083eb2",
        "colab": {
          "base_uri": "https://localhost:8080/"
        }
      },
      "id": "M7_kuTa4WAdM",
      "execution_count": 48,
      "outputs": [
        {
          "output_type": "stream",
          "name": "stdout",
          "text": [
            "42/42 [==============================] - 0s 3ms/step\n",
            "test accuracy :  84.88458674609085\n",
            "_______________________\n",
            "              precision    recall  f1-score   support\n",
            "\n",
            "           0       0.84      0.86      0.85       472\n",
            "           1       0.89      0.85      0.87       490\n",
            "           2       0.81      0.83      0.82       381\n",
            "\n",
            "    accuracy                           0.85      1343\n",
            "   macro avg       0.85      0.85      0.85      1343\n",
            "weighted avg       0.85      0.85      0.85      1343\n",
            "\n",
            "confusion  matrix\n",
            "[[407  38  37]\n",
            " [ 24 417  28]\n",
            " [ 41  35 316]]\n"
          ]
        }
      ]
    },
    {
      "cell_type": "code",
      "source": [],
      "metadata": {
        "id": "_QxrzyFfYw4j"
      },
      "id": "_QxrzyFfYw4j",
      "execution_count": null,
      "outputs": []
    }
  ],
  "metadata": {
    "kernelspec": {
      "display_name": "Python 3 (ipykernel)",
      "language": "python",
      "name": "python3"
    },
    "language_info": {
      "codemirror_mode": {
        "name": "ipython",
        "version": 3
      },
      "file_extension": ".py",
      "mimetype": "text/x-python",
      "name": "python",
      "nbconvert_exporter": "python",
      "pygments_lexer": "ipython3",
      "version": "3.9.7"
    },
    "colab": {
      "provenance": [],
      "include_colab_link": true
    }
  },
  "nbformat": 4,
  "nbformat_minor": 5
}