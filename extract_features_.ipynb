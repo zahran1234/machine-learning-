{
  "nbformat": 4,
  "nbformat_minor": 0,
  "metadata": {
    "colab": {
      "provenance": [],
      "authorship_tag": "ABX9TyNKbTIrG15uTQITBVdmfSOn",
      "include_colab_link": true
    },
    "kernelspec": {
      "name": "python3",
      "display_name": "Python 3"
    },
    "language_info": {
      "name": "python"
    }
  },
  "cells": [
    {
      "cell_type": "markdown",
      "metadata": {
        "id": "view-in-github",
        "colab_type": "text"
      },
      "source": [
        "<a href=\"https://colab.research.google.com/github/zahran1234/machine-learning-/blob/main/extract_features_.ipynb\" target=\"_parent\"><img src=\"https://colab.research.google.com/assets/colab-badge.svg\" alt=\"Open In Colab\"/></a>"
      ]
    },
    {
      "cell_type": "code",
      "execution_count": 19,
      "metadata": {
        "id": "iBHALKMH5Ch2"
      },
      "outputs": [],
      "source": [
        "# Import Libraries\n",
        "\n",
        "from sklearn.model_selection import train_test_split\n",
        "from sklearn.neighbors import KNeighborsClassifier\n",
        "from sklearn.metrics import confusion_matrix,f1_score,accuracy_score,recall_score,precision_score ,classification_report\n",
        "from keras.datasets import mnist\n",
        "import numpy as np\n",
        "import seaborn as sns"
      ]
    },
    {
      "cell_type": "code",
      "source": [
        "(train_X, train_y), (test_X, test_y) = mnist.load_data()\n",
        "# use 10000 from 70000 samples\n",
        "y = train_y[:60000]\n",
        "X = train_X[:60000]"
      ],
      "metadata": {
        "id": "2BiNNa-T5Zqx"
      },
      "execution_count": 20,
      "outputs": []
    },
    {
      "cell_type": "code",
      "source": [
        "#divide the image into celles\n",
        "def split(array, nrows, ncols):\n",
        "    r, h = array.shape\n",
        "\n",
        "    return (array.reshape(h // nrows, nrows, -1, ncols)\n",
        "            .swapaxes(1, 2)\n",
        "            .reshape(-1, nrows, ncols))"
      ],
      "metadata": {
        "id": "iXbfbmWe5a0j"
      },
      "execution_count": 21,
      "outputs": []
    },
    {
      "cell_type": "code",
      "source": [
        "#get cetroid\n",
        "def centroid(matrix, X, Y):\n",
        "    y = 0\n",
        "    x = 0\n",
        "    counter = 0\n",
        "    my_mat = []\n",
        "    for i in range(X):\n",
        "        for j in range(Y):\n",
        "            if matrix[i][j] == 0:\n",
        "                list = [[j, i]]\n",
        "                my_mat.append([j, Y - i])\n",
        "                counter += 1\n",
        "\n",
        "    for i in my_mat:\n",
        "        x = x + i[0]\n",
        "        y = y + i[1]\n",
        "    if counter == 0:\n",
        "        return 0, 0\n",
        "\n",
        "    return (x / counter), (y / counter)"
      ],
      "metadata": {
        "id": "E3IyaGUx5jiX"
      },
      "execution_count": 22,
      "outputs": []
    },
    {
      "cell_type": "code",
      "source": [],
      "metadata": {
        "id": "SxPpTbKF6Fk5"
      },
      "execution_count": 22,
      "outputs": []
    },
    {
      "cell_type": "code",
      "source": [
        "new_data = np.empty((1, 32))\n",
        "list = []\n",
        "\n",
        "for phote in X:\n",
        "    x2 = 0\n",
        "    y2 = 0\n",
        "    row = []\n",
        "    list = split(phote, 7, 7)\n",
        "\n",
        "    for i in list:\n",
        "        x1, y1 = centroid(i, 7, 7)\n",
        "        row.append(x1)\n",
        "        row.append(y1)\n",
        "    new_data = np.vstack([new_data, row])\n",
        "new_data = np.delete(new_data, 0, 0)\n",
        "print(\" \")\n",
        "#9000 samples for train the model 1000 samples for test\n",
        "[X_train, X_test, y_train, y_test] = train_test_split(new_data, y, test_size=0.1, random_state=44, shuffle=True)\n",
        "\n",
        "# KNN\n",
        "\n",
        "KNNClassifierModel = KNeighborsClassifier(n_neighbors=4, weights='distance', algorithm='auto')\n",
        "KNNClassifierModel.fit(X_train, y_train)\n",
        "\n",
        "\n",
        "\n",
        "print('----------------------------------------------------')\n",
        "\n",
        "# Calculating Prediction\n",
        "y_pred = KNNClassifierModel.predict(X_test)\n",
        "# y_pred_prob = KNNClassifierModel.predict_proba(X_test)\n",
        "\n",
        "\n",
        "\n",
        "\n",
        "\n",
        "\n",
        "\n"
      ],
      "metadata": {
        "colab": {
          "base_uri": "https://localhost:8080/"
        },
        "id": "QLF91Grv5ta4",
        "outputId": "326b4a6d-2b5e-4422-8ace-c2cf55a47e94"
      },
      "execution_count": 23,
      "outputs": [
        {
          "output_type": "stream",
          "name": "stdout",
          "text": [
            " \n",
            "----------------------------------------------------\n"
          ]
        }
      ]
    },
    {
      "cell_type": "code",
      "source": [
        "# Calculating Details\n",
        "\n",
        "print('KNNClassifierModel Test Score is : ', 100 * KNNClassifierModel.score(X_test, y_test))\n",
        "print(\"classification_report: \", classification_report(y_test,y_pred ))\n",
        "\n",
        "con_mat=confusion_matrix(y_test,y_pred)\n",
        "\n",
        "sns.heatmap(con_mat,annot=True,fmt = '.0f')\n",
        "print('Predicted Value for KNNClassifierModel is : ', y_pred[:20])\n",
        "print('y Value for KNNClassifierModel is :         ', y_test[:20])"
      ],
      "metadata": {
        "colab": {
          "base_uri": "https://localhost:8080/",
          "height": 612
        },
        "id": "g2s6LWlE7Yax",
        "outputId": "4ceed04a-2610-48fd-dd6d-a424bd5f28ce"
      },
      "execution_count": 24,
      "outputs": [
        {
          "output_type": "stream",
          "name": "stdout",
          "text": [
            "KNNClassifierModel Test Score is :  90.93333333333334\n",
            "classification_report:                precision    recall  f1-score   support\n",
            "\n",
            "           0       0.97      0.95      0.96       572\n",
            "           1       0.93      0.98      0.95       637\n",
            "           2       0.96      0.91      0.94       599\n",
            "           3       0.90      0.90      0.90       628\n",
            "           4       0.92      0.89      0.90       600\n",
            "           5       0.84      0.87      0.85       529\n",
            "           6       0.91      0.96      0.93       604\n",
            "           7       0.93      0.92      0.93       611\n",
            "           8       0.90      0.82      0.86       630\n",
            "           9       0.85      0.88      0.86       590\n",
            "\n",
            "    accuracy                           0.91      6000\n",
            "   macro avg       0.91      0.91      0.91      6000\n",
            "weighted avg       0.91      0.91      0.91      6000\n",
            "\n",
            "Predicted Value for KNNClassifierModel is :  [9 2 8 0 4 7 0 5 1 4 1 9 4 6 6 3 9 8 7 5]\n",
            "y Value for KNNClassifierModel is :          [9 2 2 0 4 7 0 5 1 4 1 9 4 1 6 3 9 8 7 6]\n"
          ]
        },
        {
          "output_type": "display_data",
          "data": {
            "text/plain": [
              "<Figure size 432x288 with 2 Axes>"
            ],
            "image/png": "[encoded data removed]"
          },
          "metadata": {
            "needs_background": "light"
          }
        }
      ]
    },
    {
      "cell_type": "markdown",
      "source": [
        "implementation of KKN model\n"
      ],
      "metadata": {
        "id": "QkW4Ii9U7_ut"
      }
    },
    {
      "cell_type": "code",
      "source": [
        "\n",
        "class KNN:\n",
        "    # euclidean_distance(x, x_train)\n",
        "\n",
        "    def __init__(self, k):\n",
        "        self.k = k  # store K (K is Number of nearest neighbour)\n",
        "\n",
        "    def fit(self, X, y):\n",
        "        self.X_train = X\n",
        "        self.y_train = y\n",
        "\n",
        "    def predict(self, z):\n",
        "        list_for_all_distances = []\n",
        "        list_for_min_distance_classes = []\n",
        "        for i in self.X_train:\n",
        "            list_for_all_distances.append(np.linalg.norm(z - i))\n",
        "\n",
        "        for x in range(self.k):\n",
        "            min_distance = min(list_for_all_distances)\n",
        "            index = list_for_all_distances.index(min_distance)\n",
        "            list_for_all_distances[index] = float('inf')\n",
        "            list_for_min_distance_classes.append(self.y_train[index])\n",
        "        predicted_class = list_for_min_distance_classes.count(0)\n",
        "        for x in range(10):\n",
        "            if predicted_class < list_for_min_distance_classes.count(x):\n",
        "                predicted_class = x\n",
        "        return predicted_class\n",
        "\n",
        "    def score(self, X_test, Y_test):\n",
        "\n",
        "        counter = 0\n",
        "        counter_for_acc = 0\n",
        "        for i in X_test:\n",
        "            if self.predict(i) == Y_test[counter]:\n",
        "                counter_for_acc += 1\n",
        "            counter += 1\n",
        "\n",
        "        return (counter_for_acc / counter) * 100\n"
      ],
      "metadata": {
        "id": "vkggb_hN6KIE"
      },
      "execution_count": 25,
      "outputs": []
    },
    {
      "cell_type": "markdown",
      "source": [
        "calculate score of our KNN **model**"
      ],
      "metadata": {
        "id": "GH6WKHjK8TCJ"
      }
    },
    {
      "cell_type": "code",
      "source": [
        "knn = KNN(10)\n",
        "knn.fit(new_data[:9000], y[:9000])\n",
        "print(\"_____________________________________________________\")\n",
        "print(knn.score(new_data[9000:10000], y[9000:10000]))"
      ],
      "metadata": {
        "colab": {
          "base_uri": "https://localhost:8080/"
        },
        "id": "WjOxrNXk6NaH",
        "outputId": "c01ee5b5-0c33-4f79-e912-eecf14cbcdb3"
      },
      "execution_count": 26,
      "outputs": [
        {
          "output_type": "stream",
          "name": "stdout",
          "text": [
            "_____________________________________________________\n",
            "75.4\n"
          ]
        }
      ]
    }
  ]
}