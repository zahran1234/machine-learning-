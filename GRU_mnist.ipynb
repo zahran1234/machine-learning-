{
  "nbformat": 4,
  "nbformat_minor": 0,
  "metadata": {
    "colab": {
      "provenance": [],
      "authorship_tag": "ABX9TyNMTYc3GDJyN2Tya0N4hlMt",
      "include_colab_link": true
    },
    "kernelspec": {
      "name": "python3",
      "display_name": "Python 3"
    },
    "language_info": {
      "name": "python"
    }
  },
  "cells": [
    {
      "cell_type": "markdown",
      "metadata": {
        "id": "view-in-github",
        "colab_type": "text"
      },
      "source": [
        "<a href=\"https://colab.research.google.com/github/zahran1234/machine-learning-/blob/main/GRU_mnist.ipynb\" target=\"_parent\"><img src=\"https://colab.research.google.com/assets/colab-badge.svg\" alt=\"Open In Colab\"/></a>"
      ]
    },
    {
      "cell_type": "code",
      "execution_count": 64,
      "metadata": {
        "id": "HbW4vadW5CbT"
      },
      "outputs": [],
      "source": [
        "import tensorflow as tf \n",
        "from tensorflow.keras.layers import Dense , SimpleRNN, Flatten ,Dropout, Input, Activation,GRU,LSTM\n",
        "from tensorflow.keras.models import Sequential\n",
        "from tensorflow.keras.utils import to_categorical, plot_model\n",
        "from tensorflow.keras.datasets import mnist\n",
        "\n",
        "\n"
      ]
    },
    {
      "cell_type": "code",
      "source": [
        "(x_train,y_train), (x_test,y_test ) = mnist.load_data()\n",
        "x_test.shape"
      ],
      "metadata": {
        "colab": {
          "base_uri": "https://localhost:8080/"
        },
        "id": "X67iGBhX5sER",
        "outputId": "c900c4d2-8f95-4863-89a9-697566997455"
      },
      "execution_count": 2,
      "outputs": [
        {
          "output_type": "stream",
          "name": "stdout",
          "text": [
            "Downloading data from https://storage.googleapis.com/tensorflow/tf-keras-datasets/mnist.npz\n",
            "11490434/11490434 [==============================] - 1s 0us/step\n"
          ]
        },
        {
          "output_type": "execute_result",
          "data": {
            "text/plain": [
              "(10000, 28, 28)"
            ]
          },
          "metadata": {},
          "execution_count": 2
        }
      ]
    },
    {
      "cell_type": "markdown",
      "source": [
        "# **normailze dataset from 0 to 1 **"
      ],
      "metadata": {
        "id": "UuAbsJK36VK9"
      }
    },
    {
      "cell_type": "code",
      "source": [
        "x_train=x_train/255\n",
        "x_test= x_test/255\n",
        "y_train=to_categorical(y_train)\n",
        "y_test=to_categorical(y_test)\n"
      ],
      "metadata": {
        "id": "e3T46goc6CqH"
      },
      "execution_count": 3,
      "outputs": []
    },
    {
      "cell_type": "code",
      "source": [
        "\n",
        "model= Sequential()\n",
        "model.add(Input(shape=(28,28)))\n",
        "model.add(GRU(256  ,activation='relu'))\n",
        "model.add(Dense(10))\n",
        "model.add(Activation('softmax'))\n",
        "model.summary()"
      ],
      "metadata": {
        "colab": {
          "base_uri": "https://localhost:8080/"
        },
        "id": "R6Z6MP8v7KI0",
        "outputId": "0864c51d-59b6-4297-fbf7-174f05742b5a"
      },
      "execution_count": 55,
      "outputs": [
        {
          "output_type": "stream",
          "name": "stdout",
          "text": [
            "Model: \"sequential_7\"\n",
            "_________________________________________________________________\n",
            " Layer (type)                Output Shape              Param #   \n",
            "=================================================================\n",
            " gru_1 (GRU)                 (None, 256)               219648    \n",
            "                                                                 \n",
            " dense_6 (Dense)             (None, 10)                2570      \n",
            "                                                                 \n",
            " activation_5 (Activation)   (None, 10)                0         \n",
            "                                                                 \n",
            "=================================================================\n",
            "Total params: 222,218\n",
            "Trainable params: 222,218\n",
            "Non-trainable params: 0\n",
            "_________________________________________________________________\n"
          ]
        }
      ]
    },
    {
      "cell_type": "code",
      "source": [
        "model.compile(optimizer=tf.keras.optimizers.Adam(learning_rate=1e-3),loss=tf.keras.losses.CategoricalCrossentropy())"
      ],
      "metadata": {
        "id": "c9XaHoGHR9mb"
      },
      "execution_count": 56,
      "outputs": []
    },
    {
      "cell_type": "code",
      "source": [
        "y_train.shape"
      ],
      "metadata": {
        "colab": {
          "base_uri": "https://localhost:8080/"
        },
        "id": "ayadH0OIUjA1",
        "outputId": "659d064f-e860-4da4-c775-b4ecabf5fef6"
      },
      "execution_count": 30,
      "outputs": [
        {
          "output_type": "execute_result",
          "data": {
            "text/plain": [
              "(60000, 10)"
            ]
          },
          "metadata": {},
          "execution_count": 30
        }
      ]
    },
    {
      "cell_type": "code",
      "source": [
        "model.fit(x_train,y_train,batch_size=64,epochs=10)"
      ],
      "metadata": {
        "colab": {
          "base_uri": "https://localhost:8080/"
        },
        "id": "07OMu_dFSy-2",
        "outputId": "04c4e84f-b3d9-40b6-d1e9-b7103efaee39"
      },
      "execution_count": 57,
      "outputs": [
        {
          "output_type": "stream",
          "name": "stdout",
          "text": [
            "Epoch 1/10\n",
            "938/938 [==============================] - 93s 97ms/step - loss: 0.3858\n",
            "Epoch 2/10\n",
            "938/938 [==============================] - 93s 99ms/step - loss: 0.0914\n",
            "Epoch 3/10\n",
            "938/938 [==============================] - 92s 98ms/step - loss: 0.0611\n",
            "Epoch 4/10\n",
            "938/938 [==============================] - 91s 97ms/step - loss: 0.0478\n",
            "Epoch 5/10\n",
            "938/938 [==============================] - 91s 98ms/step - loss: 0.0407\n",
            "Epoch 6/10\n",
            "938/938 [==============================] - 89s 95ms/step - loss: 0.0360\n",
            "Epoch 7/10\n",
            "938/938 [==============================] - 92s 97ms/step - loss: 0.0309\n",
            "Epoch 8/10\n",
            "938/938 [==============================] - 91s 97ms/step - loss: 0.0273\n",
            "Epoch 9/10\n",
            "938/938 [==============================] - 92s 98ms/step - loss: 0.0230\n",
            "Epoch 10/10\n",
            "938/938 [==============================] - 91s 97ms/step - loss: 0.0196\n"
          ]
        },
        {
          "output_type": "execute_result",
          "data": {
            "text/plain": [
              "<keras.callbacks.History at 0x7f4f3276b0a0>"
            ]
          },
          "metadata": {},
          "execution_count": 57
        }
      ]
    },
    {
      "cell_type": "code",
      "source": [
        "import numpy as np\n",
        "\n",
        "np.argmax(model.predict(x_test[0].reshape(-1,28,28)))"
      ],
      "metadata": {
        "colab": {
          "base_uri": "https://localhost:8080/"
        },
        "id": "kLzjFMKxQkty",
        "outputId": "43133f27-a48b-411f-e84b-b18101d54035"
      },
      "execution_count": 58,
      "outputs": [
        {
          "output_type": "stream",
          "name": "stdout",
          "text": [
            "1/1 [==============================] - 0s 170ms/step\n"
          ]
        },
        {
          "output_type": "execute_result",
          "data": {
            "text/plain": [
              "7"
            ]
          },
          "metadata": {},
          "execution_count": 58
        }
      ]
    },
    {
      "cell_type": "markdown",
      "source": [],
      "metadata": {
        "id": "YM_aR3uuTDjW"
      }
    },
    {
      "cell_type": "code",
      "source": [
        "x=model.evaluate(x_test,y_test)"
      ],
      "metadata": {
        "colab": {
          "base_uri": "https://localhost:8080/"
        },
        "id": "2VMeuQNJTD15",
        "outputId": "8b3000cd-373c-4831-90a9-6bccc04b258b"
      },
      "execution_count": 59,
      "outputs": [
        {
          "output_type": "stream",
          "name": "stdout",
          "text": [
            "313/313 [==============================] - 8s 25ms/step - loss: 0.0464\n"
          ]
        }
      ]
    },
    {
      "cell_type": "code",
      "source": [
        "pred=model.predict(x_test)\n",
        "from sklearn.metrics import accuracy_score\n",
        "acc=accuracy_score(y_pred=[np.argmax(x) for x in pred],y_true=[ np.argmax(z) for z in y_test])"
      ],
      "metadata": {
        "colab": {
          "base_uri": "https://localhost:8080/"
        },
        "id": "b2jXbHzfbg9i",
        "outputId": "284a1559-a495-4eae-f8d4-df4c9ffa3ba7"
      },
      "execution_count": 60,
      "outputs": [
        {
          "output_type": "stream",
          "name": "stdout",
          "text": [
            "313/313 [==============================] - 8s 25ms/step\n"
          ]
        }
      ]
    },
    {
      "cell_type": "code",
      "source": [
        "x=[np.argmax(x) for x in pred]\n",
        "print(acc*100)"
      ],
      "metadata": {
        "colab": {
          "base_uri": "https://localhost:8080/"
        },
        "id": "vfw5f9L9dG7k",
        "outputId": "03bb28b0-e2e5-454f-9c47-9d75d8f093a4"
      },
      "execution_count": 61,
      "outputs": [
        {
          "output_type": "stream",
          "name": "stdout",
          "text": [
            "98.61999999999999\n"
          ]
        }
      ]
    },
    {
      "cell_type": "code",
      "source": [
        "pred=np.argmax(pred)\n"
      ],
      "metadata": {
        "id": "-tUdLAEtcgZX"
      },
      "execution_count": 62,
      "outputs": []
    }
  ]
}